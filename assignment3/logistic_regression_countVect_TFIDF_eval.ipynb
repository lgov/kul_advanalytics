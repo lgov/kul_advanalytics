{
 "cells": [
  {
   "cell_type": "code",
   "execution_count": 1,
   "metadata": {},
   "outputs": [],
   "source": [
    "from pyspark.sql.types import StructType, StructField, StringType, LongType\n",
    "jsonSchema = StructType([\n",
    "    StructField('label', StringType(), True),\n",
    "    StructField('tweet_id', LongType(), True),\n",
    "    StructField('tweet_text', StringType(), True)\n",
    "])\n",
    "\n",
    "#replace the file path\n",
    "df=spark.read.format(\"json\").schema(jsonSchema).load(\"/Users/Pavel/Documents/KULeuven/Courses/AdvancedAnalyticsinBigDataWorld/spark/data/*\")"
   ]
  },
  {
   "cell_type": "markdown",
   "metadata": {},
   "source": [
    "## Text preprocessing"
   ]
  },
  {
   "cell_type": "code",
   "execution_count": 2,
   "metadata": {},
   "outputs": [],
   "source": [
    "import pyspark.sql.functions as f\n",
    "from pyspark.sql.functions import regexp_replace\n",
    "from pyspark.sql.functions import ltrim\n",
    "\n",
    "#Converting all letters to lowercase\n",
    "df = df.withColumn(\"tweet_text\",f.lower(f.col(\"tweet_text\")))\n",
    "\n",
    "#removing punctuations, numbers, http and spaces\n",
    "df =df.withColumn(\"tweet_text\",f.regexp_replace(f.col(\"tweet_text\"),'([^ a-zA-Z\\'])',''))\n",
    "df = df.withColumn(\"tweet_text\",f.regexp_replace(f.col(\"tweet_text\"),'http.*?\\\\b',' '))\n",
    "df = df.withColumn(\"tweet_text\",f.ltrim(f.regexp_replace(f.col(\"tweet_text\"),'[\\r\\n\\t\\f\\v ]+', ' ')))\n",
    "\n"
   ]
  },
  {
   "cell_type": "code",
   "execution_count": 3,
   "metadata": {},
   "outputs": [],
   "source": [
    "from pyspark.ml.feature import Tokenizer\n",
    "from pyspark.ml.feature import StopWordsRemover\n",
    "\n",
    "#Splitting words\n",
    "tokenizer = Tokenizer(inputCol=\"tweet_text\", outputCol=\"words\")\n",
    "dataset = tokenizer.transform(df)\n"
   ]
  },
  {
   "cell_type": "code",
   "execution_count": 4,
   "metadata": {},
   "outputs": [],
   "source": [
    "#Lemmatization\n",
    "import nltk\n",
    "#nltk.download('wordnet')\n",
    "from nltk.stem import WordNetLemmatizer\n",
    "lemmatizer = WordNetLemmatizer() \n",
    "#just to try if it works"
   ]
  },
  {
   "cell_type": "code",
   "execution_count": 6,
   "metadata": {},
   "outputs": [],
   "source": [
    "## Didn't manage to apply lemmatization while using WordNetLemmatizer on pyspark dataframe. \n",
    "#So temporarily to make it work, firstly changed to pandas dataframe and then back to pyspark dataframe."
   ]
  },
  {
   "cell_type": "code",
   "execution_count": 5,
   "metadata": {},
   "outputs": [],
   "source": [
    "pandas_df = dataset.select(\"*\").toPandas()"
   ]
  },
  {
   "cell_type": "code",
   "execution_count": 6,
   "metadata": {},
   "outputs": [
    {
     "data": {
      "text/plain": [
       "0        [could, be, a, messan, all, out, war, of, the,...\n",
       "1        [infectious, disease, designated, bed, drastic...\n",
       "2                         [do, u, truly, trust, safety, i]\n",
       "3                                          [do, u, use, q]\n",
       "4                   [want, but, get, amp, a, dominates, u]\n",
       "                               ...                        \n",
       "21177                                          [on, break]\n",
       "21178                                      [so, bored, of]\n",
       "21179                                           [get, the]\n",
       "21180                                         [is, boring]\n",
       "21181                                          [fuck, you]\n",
       "Name: lemmatized, Length: 21182, dtype: object"
      ]
     },
     "execution_count": 6,
     "metadata": {},
     "output_type": "execute_result"
    }
   ],
   "source": [
    "\n",
    "pandas_df['lemmatized'] = pandas_df['words'].apply(\n",
    "                    lambda lst:[lemmatizer.lemmatize(word) for word in lst])\n",
    "pandas_df['lemmatized']"
   ]
  },
  {
   "cell_type": "code",
   "execution_count": 7,
   "metadata": {},
   "outputs": [],
   "source": [
    "dataset2 = spark.createDataFrame(pandas_df)"
   ]
  },
  {
   "cell_type": "code",
   "execution_count": 8,
   "metadata": {},
   "outputs": [],
   "source": [
    "#Removing stop words\n",
    "stopwordList = [\"u\",\"ur\", \"amp\"] \n",
    "stopwordList.extend(StopWordsRemover().getStopWords())\n",
    "remover = StopWordsRemover(inputCol=\"lemmatized\", outputCol=\"filtered\" ,stopWords=stopwordList)\n",
    "dataset2 = remover.transform(dataset2)"
   ]
  },
  {
   "cell_type": "code",
   "execution_count": 9,
   "metadata": {},
   "outputs": [
    {
     "name": "stdout",
     "output_type": "stream",
     "text": [
      "+--------------+-------------------+------------------------------------------------------------------------------------------------------------------+----------------------------------------------------------------------------------------------------------------------------------+----------------------------------------------------------------------------------------------------------------------------------+--------------------------------------------------------------------------------------------------------------+\n",
      "|label         |tweet_id           |tweet_text                                                                                                        |words                                                                                                                             |lemmatized                                                                                                                        |filtered2                                                                                                     |\n",
      "+--------------+-------------------+------------------------------------------------------------------------------------------------------------------+----------------------------------------------------------------------------------------------------------------------------------+----------------------------------------------------------------------------------------------------------------------------------+--------------------------------------------------------------------------------------------------------------+\n",
      "|#china        |1381303111222956033|could be a messan all out war of the worlds                                                                       |[could, be, a, messan, all, out, war, of, the, worlds]                                                                            |[could, be, a, messan, all, out, war, of, the, world]                                                                             |[messan, war, world]                                                                                          |\n",
      "|#vaccine      |1380298538802765827|infectious disease designated bed drastic decreasejapan                                                           |[infectious, disease, designated, bed, drastic, decreasejapan]                                                                    |[infectious, disease, designated, bed, drastic, decreasejapan]                                                                    |[infectious, disease, designated, bed, drastic, decreasejapan]                                                |\n",
      "|#vaccine      |1381494016211030016|do u truly trust safety i                                                                                         |[do, u, truly, trust, safety, i]                                                                                                  |[do, u, truly, trust, safety, i]                                                                                                  |[truly, trust, safety]                                                                                        |\n",
      "|#covid        |1380766615189479425|do u use q                                                                                                        |[do, u, use, q]                                                                                                                   |[do, u, use, q]                                                                                                                   |[use]                                                                                                         |\n",
      "|#biden        |1380129673443696640|wants but gets amp as dominates us                                                                                |[wants, but, gets, amp, as, dominates, us]                                                                                        |[want, but, get, amp, a, dominates, u]                                                                                            |[want, get, dominates]                                                                                        |\n",
      "|#stopasianhate|1380973739224010757|queen of asia                                                                                                     |[queen, of, asia]                                                                                                                 |[queen, of, asia]                                                                                                                 |[queen, asia]                                                                                                 |\n",
      "|#covid        |1381746356730101760|whats ur main form of q                                                                                           |[whats, ur, main, form, of, q]                                                                                                    |[whats, ur, main, form, of, q]                                                                                                    |[whats, main, form]                                                                                           |\n",
      "|#biden        |1380127152847347714|no one wants to buy the top on low volume are gone presaging a plunge                                             |[no, one, wants, to, buy, the, top, on, low, volume, are, gone, presaging, a, plunge]                                             |[no, one, want, to, buy, the, top, on, low, volume, are, gone, presaging, a, plunge]                                              |[one, want, buy, top, low, volume, gone, presaging, plunge]                                                   |\n",
      "|#covid        |1381347661396246531|domain for sale doge com coin style                                                                               |[domain, for, sale, doge, com, coin, style]                                                                                       |[domain, for, sale, doge, com, coin, style]                                                                                       |[domain, sale, doge, com, coin, style]                                                                        |\n",
      "|#china        |1380180497062629376|dm or comment ready or life nstyle                                                                                |[dm, or, comment, ready, or, life, nstyle]                                                                                        |[dm, or, comment, ready, or, life, nstyle]                                                                                        |[comment, ready, life, nstyle]                                                                                |\n",
      "|#china        |1380177653383237632|let's get started or life nstyle                                                                                  |[let's, get, started, or, life, nstyle]                                                                                           |[let's, get, started, or, life, nstyle]                                                                                           |[get, started, life, nstyle]                                                                                  |\n",
      "|#biden        |1380986061078282245|it was a lie our govt did it                                                                                      |[it, was, a, lie, our, govt, did, it]                                                                                             |[it, wa, a, lie, our, govt, did, it]                                                                                              |[lie, govt]                                                                                                   |\n",
      "|#biden        |1380521381704708098|new platform hyprr on udoo making noise before marketing contentdata control w better monetization amp freespeech |[new, platform, hyprr, on, udoo, making, noise, before, marketing, contentdata, control, w, better, monetization, amp, freespeech]|[new, platform, hyprr, on, udoo, making, noise, before, marketing, contentdata, control, w, better, monetization, amp, freespeech]|[new, platform, hyprr, udoo, making, noise, marketing, contentdata, control, better, monetization, freespeech]|\n",
      "|#china        |1380182109097091072|don't miss out this great opportunity or life nstyle                                                              |[don't, miss, out, this, great, opportunity, or, life, nstyle]                                                                    |[don't, miss, out, this, great, opportunity, or, life, nstyle]                                                                    |[miss, great, opportunity, life, nstyle]                                                                      |\n",
      "|#covid        |1381753369576894465|the amazing singapore at night ig united                                                                          |[the, amazing, singapore, at, night, ig, united]                                                                                  |[the, amazing, singapore, at, night, ig, united]                                                                                  |[amazing, singapore, night, united]                                                                           |\n",
      "|#china        |1381634037891047427|learn holy quran                                                                                                  |[learn, holy, quran]                                                                                                              |[learn, holy, quran]                                                                                                              |[learn, holy, quran]                                                                                          |\n",
      "|#covid        |1379865363953893378|covid update v                                                                                                    |[covid, update, v]                                                                                                                |[covid, update, v]                                                                                                                |[covid, update]                                                                                               |\n",
      "|#biden        |1380131305090875393|if is booming why are sent to americans amp pumping billionmonth into support                                     |[if, is, booming, why, are, sent, to, americans, amp, pumping, billionmonth, into, support]                                       |[if, is, booming, why, are, sent, to, american, amp, pumping, billionmonth, into, support]                                        |[booming, sent, american, pumping, billionmonth, support]                                                     |\n",
      "|#biden        |1380523377279041538|amp have lost control of supporting 's with trillions in has reached a terminal state                             |[amp, have, lost, control, of, supporting, 's, with, trillions, in, has, reached, a, terminal, state]                             |[amp, have, lost, control, of, supporting, 's, with, trillion, in, ha, reached, a, terminal, state]                               |[lost, control, supporting, trillion, reached, terminal, state]                                               |\n",
      "|#biden        |1380521435295268871|stocks massively overbought but speculators know so cowed by fear of a dares not even speak it                    |[stocks, massively, overbought, but, speculators, know, so, cowed, by, fear, of, a, dares, not, even, speak, it]                  |[stock, massively, overbought, but, speculator, know, so, cowed, by, fear, of, a, dare, not, even, speak, it]                     |[stock, massively, overbought, speculator, know, cowed, fear, dare, even, speak]                              |\n",
      "+--------------+-------------------+------------------------------------------------------------------------------------------------------------------+----------------------------------------------------------------------------------------------------------------------------------+----------------------------------------------------------------------------------------------------------------------------------+--------------------------------------------------------------------------------------------------------------+\n",
      "only showing top 20 rows\n",
      "\n"
     ]
    }
   ],
   "source": [
    "#to get rid of words like v, q, wa\n",
    "dataset2 = dataset2.withColumn(\"filtered2\", f.expr(\"filter(filtered, x -> not(length(x) < 3))\")).where(f.size(f.col(\"filtered2\")) > 0).drop(\"filtered\")\n",
    "dataset2.show(truncate = False)"
   ]
  },
  {
   "cell_type": "code",
   "execution_count": 10,
   "metadata": {},
   "outputs": [
    {
     "name": "stdout",
     "output_type": "stream",
     "text": [
      "+--------------------------------------------------------------------------------------------------------------+\n",
      "|filtered2                                                                                                     |\n",
      "+--------------------------------------------------------------------------------------------------------------+\n",
      "|[messan, war, world]                                                                                          |\n",
      "|[infectious, disease, designated, bed, drastic, decreasejapan]                                                |\n",
      "|[truly, trust, safety]                                                                                        |\n",
      "|[use]                                                                                                         |\n",
      "|[want, get, dominates]                                                                                        |\n",
      "|[queen, asia]                                                                                                 |\n",
      "|[whats, main, form]                                                                                           |\n",
      "|[one, want, buy, top, low, volume, gone, presaging, plunge]                                                   |\n",
      "|[domain, sale, doge, com, coin, style]                                                                        |\n",
      "|[comment, ready, life, nstyle]                                                                                |\n",
      "|[get, started, life, nstyle]                                                                                  |\n",
      "|[lie, govt]                                                                                                   |\n",
      "|[new, platform, hyprr, udoo, making, noise, marketing, contentdata, control, better, monetization, freespeech]|\n",
      "|[miss, great, opportunity, life, nstyle]                                                                      |\n",
      "|[amazing, singapore, night, united]                                                                           |\n",
      "|[learn, holy, quran]                                                                                          |\n",
      "|[covid, update]                                                                                               |\n",
      "|[booming, sent, american, pumping, billionmonth, support]                                                     |\n",
      "|[lost, control, supporting, trillion, reached, terminal, state]                                               |\n",
      "|[stock, massively, overbought, speculator, know, cowed, fear, dare, even, speak]                              |\n",
      "+--------------------------------------------------------------------------------------------------------------+\n",
      "only showing top 20 rows\n",
      "\n"
     ]
    }
   ],
   "source": [
    "dataset2.select(\"filtered2\").show(truncate = False)"
   ]
  },
  {
   "cell_type": "markdown",
   "metadata": {},
   "source": [
    "## Bag of words"
   ]
  },
  {
   "cell_type": "code",
   "execution_count": 11,
   "metadata": {},
   "outputs": [
    {
     "name": "stdout",
     "output_type": "stream",
     "text": [
      "+--------------+-------------------+--------------------+--------------------+--------------------+--------------------+--------------------+--------------------+----------+\n",
      "|         label|           tweet_id|          tweet_text|               words|          lemmatized|           filtered2|         tf_features|     tf_idf_features|labelIndex|\n",
      "+--------------+-------------------+--------------------+--------------------+--------------------+--------------------+--------------------+--------------------+----------+\n",
      "|        #china|1381303111222956033|could be a messan...|[could, be, a, me...|[could, be, a, me...|[messan, war, world]|(36629,[21,140,36...|(36629,[21,140,36...|       2.0|\n",
      "|      #vaccine|1380298538802765827|infectious diseas...|[infectious, dise...|[infectious, dise...|[infectious, dise...|(36629,[342,619,3...|(36629,[342,619,3...|       1.0|\n",
      "|      #vaccine|1381494016211030016|do u truly trust ...|[do, u, truly, tr...|[do, u, truly, tr...|[truly, trust, sa...|(36629,[395,710,1...|(36629,[395,710,1...|       1.0|\n",
      "|        #covid|1380766615189479425|         do u use q |     [do, u, use, q]|     [do, u, use, q]|               [use]|  (36629,[95],[1.0])|(36629,[95],[4.37...|       0.0|\n",
      "|        #biden|1380129673443696640|wants but gets am...|[wants, but, gets...|[want, but, get, ...|[want, get, domin...|(36629,[3,32,3067...|(36629,[3,32,3067...|       4.0|\n",
      "|#stopasianhate|1380973739224010757|      queen of asia |   [queen, of, asia]|   [queen, of, asia]|       [queen, asia]|(36629,[1144,2012...|(36629,[1144,2012...|       3.0|\n",
      "|        #covid|1381746356730101760|whats ur main for...|[whats, ur, main,...|[whats, ur, main,...| [whats, main, form]|(36629,[647,756,7...|(36629,[647,756,7...|       0.0|\n",
      "|        #biden|1380127152847347714|no one wants to b...|[no, one, wants, ...|[no, one, want, t...|[one, want, buy, ...|(36629,[5,32,180,...|(36629,[5,32,180,...|       4.0|\n",
      "|        #covid|1381347661396246531|domain for sale d...|[domain, for, sal...|[domain, for, sal...|[domain, sale, do...|(36629,[392,1625,...|(36629,[392,1625,...|       0.0|\n",
      "|        #china|1380180497062629376|dm or comment rea...|[dm, or, comment,...|[dm, or, comment,...|[comment, ready, ...|(36629,[35,465,49...|(36629,[35,465,49...|       2.0|\n",
      "|        #china|1380177653383237632|let's get started...|[let's, get, star...|[let's, get, star...|[get, started, li...|(36629,[3,35,273,...|(36629,[3,35,273,...|       2.0|\n",
      "|        #biden|1380986061078282245|it was a lie our ...|[it, was, a, lie,...|[it, wa, a, lie, ...|         [lie, govt]|(36629,[173,309],...|(36629,[173,309],...|       4.0|\n",
      "|        #biden|1380521381704708098|new platform hypr...|[new, platform, h...|[new, platform, h...|[new, platform, h...|(36629,[4,121,126...|(36629,[4,121,126...|       4.0|\n",
      "|        #china|1380182109097091072|don't miss out th...|[don't, miss, out...|[don't, miss, out...|[miss, great, opp...|(36629,[35,105,70...|(36629,[35,105,70...|       2.0|\n",
      "|        #covid|1381753369576894465|the amazing singa...|[the, amazing, si...|[the, amazing, si...|[amazing, singapo...|(36629,[436,462,6...|(36629,[436,462,6...|       0.0|\n",
      "|        #china|1381634037891047427|   learn holy quran |[learn, holy, quran]|[learn, holy, quran]|[learn, holy, quran]|(36629,[283,3188,...|(36629,[283,3188,...|       2.0|\n",
      "|        #covid|1379865363953893378|     covid update v |  [covid, update, v]|  [covid, update, v]|     [covid, update]|(36629,[1,146],[1...|(36629,[1,146],[2...|       0.0|\n",
      "|        #biden|1380131305090875393|if is booming why...|[if, is, booming,...|[if, is, booming,...|[booming, sent, a...|(36629,[58,66,100...|(36629,[58,66,100...|       4.0|\n",
      "|        #biden|1380523377279041538|amp have lost con...|[amp, have, lost,...|[amp, have, lost,...|[lost, control, s...|(36629,[23,121,37...|(36629,[23,121,37...|       4.0|\n",
      "|        #biden|1380521435295268871|stocks massively ...|[stocks, massivel...|[stock, massively...|[stock, massively...|(36629,[22,39,306...|(36629,[22,39,306...|       4.0|\n",
      "+--------------+-------------------+--------------------+--------------------+--------------------+--------------------+--------------------+--------------------+----------+\n",
      "only showing top 20 rows\n",
      "\n"
     ]
    }
   ],
   "source": [
    "#Vectorizing and IDF\n",
    "\n",
    "from pyspark.ml.feature import CountVectorizer, StringIndexer, IDF, HashingTF\n",
    "from pyspark.ml import Pipeline\n",
    "\n",
    "\n",
    "cv = CountVectorizer(inputCol=\"filtered2\", outputCol=\"tf_features\")\n",
    "idf = IDF(inputCol = \"tf_features\", outputCol = \"tf_idf_features\")\n",
    "label_stringIdx = StringIndexer(inputCol = \"label\", outputCol = \"labelIndex\")\n",
    "\n",
    "pipeline = Pipeline(stages=[cv, idf, label_stringIdx])\n",
    "\n",
    "pipelineFit = pipeline.fit(dataset2)\n",
    "dataset2= pipelineFit.transform(dataset2)\n",
    "dataset2.show()"
   ]
  },
  {
   "cell_type": "markdown",
   "metadata": {},
   "source": [
    "## Train and test split"
   ]
  },
  {
   "cell_type": "code",
   "execution_count": 12,
   "metadata": {},
   "outputs": [
    {
     "name": "stdout",
     "output_type": "stream",
     "text": [
      "Training Dataset Count: 14718\n",
      "Test Dataset Count: 6426\n"
     ]
    }
   ],
   "source": [
    "(trainingData2, testData2) = dataset2.randomSplit([0.7, 0.3], seed = 100)\n",
    "print(\"Training Dataset Count: \" + str(trainingData2.count()))\n",
    "print(\"Test Dataset Count: \" + str(testData2.count()))"
   ]
  },
  {
   "cell_type": "markdown",
   "metadata": {},
   "source": [
    "## Logistic Regression"
   ]
  },
  {
   "cell_type": "code",
   "execution_count": 13,
   "metadata": {},
   "outputs": [],
   "source": [
    "from pyspark.ml.classification import LogisticRegression\n",
    "lr = LogisticRegression(labelCol = \"labelIndex\", featuresCol = \"tf_idf_features\", maxIter=20, regParam=0.3, elasticNetParam=0)\n",
    "lrModel = lr.fit(trainingData2)\n",
    "lrPredictions = lrModel.transform(testData2)"
   ]
  },
  {
   "cell_type": "code",
   "execution_count": 14,
   "metadata": {},
   "outputs": [
    {
     "name": "stdout",
     "output_type": "stream",
     "text": [
      "+----------+----------+\n",
      "|prediction|labelIndex|\n",
      "+----------+----------+\n",
      "|       2.0|       4.0|\n",
      "|       2.0|       4.0|\n",
      "|       4.0|       4.0|\n",
      "|       1.0|       4.0|\n",
      "|       0.0|       4.0|\n",
      "|       0.0|       4.0|\n",
      "|       4.0|       4.0|\n",
      "|       0.0|       4.0|\n",
      "|       4.0|       4.0|\n",
      "|       4.0|       4.0|\n",
      "|       4.0|       4.0|\n",
      "|       0.0|       4.0|\n",
      "|       4.0|       4.0|\n",
      "|       0.0|       4.0|\n",
      "|       4.0|       4.0|\n",
      "|       1.0|       4.0|\n",
      "|       4.0|       4.0|\n",
      "|       4.0|       4.0|\n",
      "|       4.0|       4.0|\n",
      "|       0.0|       4.0|\n",
      "+----------+----------+\n",
      "only showing top 20 rows\n",
      "\n"
     ]
    }
   ],
   "source": [
    "lrPredictions.select(\"prediction\", \"labelIndex\").show()"
   ]
  },
  {
   "cell_type": "code",
   "execution_count": 15,
   "metadata": {},
   "outputs": [
    {
     "name": "stdout",
     "output_type": "stream",
     "text": [
      "+----------+-----+\n",
      "|prediction|count|\n",
      "+----------+-----+\n",
      "|       0.0| 2494|\n",
      "|       1.0| 1641|\n",
      "|       2.0| 1056|\n",
      "|       3.0|  642|\n",
      "|       4.0|  572|\n",
      "|       5.0|   21|\n",
      "+----------+-----+\n",
      "\n"
     ]
    }
   ],
   "source": [
    "import pyspark.sql.functions as col\n",
    "lrPredictions.groupBy(\"prediction\").count().orderBy(f.col(\"count\").desc()).show()"
   ]
  },
  {
   "cell_type": "markdown",
   "metadata": {},
   "source": [
    "### Evaluation"
   ]
  },
  {
   "cell_type": "code",
   "execution_count": 24,
   "metadata": {},
   "outputs": [
    {
     "name": "stdout",
     "output_type": "stream",
     "text": [
      "0.6288515406162465\n",
      "Test Error = 0.371148 \n"
     ]
    }
   ],
   "source": [
    "from pyspark.ml.evaluation import MulticlassClassificationEvaluator\n",
    "# Select (prediction, true label) and compute accuracy\n",
    "evaluator = MulticlassClassificationEvaluator(\n",
    "    labelCol=\"labelIndex\", predictionCol=\"prediction\", metricName=\"accuracy\")\n",
    "accuracy = evaluator.evaluate(lrPredictions)\n",
    "print(accuracy)\n",
    "print(\"Test Error = %g \" % (1.0 - accuracy))"
   ]
  },
  {
   "cell_type": "code",
   "execution_count": 25,
   "metadata": {},
   "outputs": [
    {
     "name": "stdout",
     "output_type": "stream",
     "text": [
      "False positive rate by label:\n",
      "label 0: 0.04181217555450684\n",
      "label 1: 0.021555179478044\n",
      "label 2: 0.0034482758620689655\n",
      "label 3: 0.0006309148264984228\n",
      "label 4: 0.0018764659890539485\n",
      "label 5: 0.0\n",
      "True positive rate by label:\n",
      "label 0: 0.9682270191608052\n",
      "label 1: 0.9553136637066743\n",
      "label 2: 0.954031117397454\n",
      "label 3: 0.9421000981354269\n",
      "label 4: 0.91701244813278\n",
      "label 5: 0.7967741935483871\n",
      "Precision by label:\n",
      "label 0: 0.9001127395715897\n",
      "label 1: 0.9323455409561084\n",
      "label 2: 0.9850310332238043\n",
      "label 3: 0.995850622406639\n",
      "label 4: 0.9866071428571429\n",
      "label 5: 1.0\n",
      "Recall by label:\n",
      "label 0: 0.9682270191608052\n",
      "label 1: 0.9553136637066743\n",
      "label 2: 0.954031117397454\n",
      "label 3: 0.9421000981354269\n",
      "label 4: 0.91701244813278\n",
      "label 5: 0.7967741935483871\n",
      "F-measure by label:\n",
      "label 0: 0.9329282542650151\n",
      "label 1: 0.94368986983588\n",
      "label 2: 0.9692832764505119\n",
      "label 3: 0.968229954614221\n",
      "label 4: 0.9505376344086022\n",
      "label 5: 0.8868940754039497\n",
      "Accuracy: 0.9484984372876749\n",
      "FPR: 0.017821448997847135\n",
      "TPR: 0.948498437287675\n",
      "F-measure: 0.948691670318831\n",
      "Precision: 0.9507659335902745\n",
      "Recall: 0.948498437287675\n"
     ]
    }
   ],
   "source": [
    "trainingSummary = lrModel.summary\n",
    "\n",
    "print(\"False positive rate by label:\")\n",
    "for i, rate in enumerate(trainingSummary.falsePositiveRateByLabel):\n",
    "    print(\"label %d: %s\" % (i, rate))\n",
    "\n",
    "print(\"True positive rate by label:\")\n",
    "for i, rate in enumerate(trainingSummary.truePositiveRateByLabel):\n",
    "    print(\"label %d: %s\" % (i, rate))\n",
    "\n",
    "print(\"Precision by label:\")\n",
    "for i, prec in enumerate(trainingSummary.precisionByLabel):\n",
    "    print(\"label %d: %s\" % (i, prec))\n",
    "\n",
    "print(\"Recall by label:\")\n",
    "for i, rec in enumerate(trainingSummary.recallByLabel):\n",
    "    print(\"label %d: %s\" % (i, rec))\n",
    "\n",
    "print(\"F-measure by label:\")\n",
    "for i, f in enumerate(trainingSummary.fMeasureByLabel()):\n",
    "    print(\"label %d: %s\" % (i, f))\n",
    "\n",
    "accuracy = trainingSummary.accuracy\n",
    "falsePositiveRate = trainingSummary.weightedFalsePositiveRate\n",
    "truePositiveRate = trainingSummary.weightedTruePositiveRate\n",
    "fMeasure = trainingSummary.weightedFMeasure()\n",
    "precision = trainingSummary.weightedPrecision\n",
    "recall = trainingSummary.weightedRecall\n",
    "print(\"Accuracy: %s\\nFPR: %s\\nTPR: %s\\nF-measure: %s\\nPrecision: %s\\nRecall: %s\"\n",
    "      % (accuracy, falsePositiveRate, truePositiveRate, fMeasure, precision, recall))"
   ]
  },
  {
   "cell_type": "code",
   "execution_count": 26,
   "metadata": {},
   "outputs": [],
   "source": [
    "from pyspark.mllib.classification import LogisticRegressionWithLBFGS\n",
    "from pyspark.mllib.util import MLUtils\n",
    "from pyspark.mllib.evaluation import MulticlassMetrics"
   ]
  },
  {
   "cell_type": "code",
   "execution_count": 27,
   "metadata": {},
   "outputs": [],
   "source": [
    "from pyspark.ml.evaluation import MulticlassClassificationEvaluator\n",
    "\n",
    "# Create both evaluators\n",
    "evaluatorMulti = MulticlassClassificationEvaluator(labelCol=\"labelIndex\", predictionCol=\"prediction\")\n",
    "\n",
    "# Make predicitons\n",
    "predictionAndTarget = lrPredictions.select(\"prediction\", \"labelIndex\")\n",
    "\n",
    "# Get metrics\n",
    "acc = evaluatorMulti.evaluate(predictionAndTarget, {evaluatorMulti.metricName: \"accuracy\"})\n",
    "f1 = evaluatorMulti.evaluate(predictionAndTarget, {evaluatorMulti.metricName: \"f1\"})\n",
    "weightedPrecision = evaluatorMulti.evaluate(predictionAndTarget, {evaluatorMulti.metricName: \"weightedPrecision\"})\n",
    "weightedRecall = evaluatorMulti.evaluate(predictionAndTarget, {evaluatorMulti.metricName: \"weightedRecall\"})\n",
    "auc = evaluator.evaluate(predictionAndTarget)"
   ]
  },
  {
   "cell_type": "code",
   "execution_count": 28,
   "metadata": {},
   "outputs": [
    {
     "data": {
      "text/plain": [
       "0.6301088040574538"
      ]
     },
     "execution_count": 28,
     "metadata": {},
     "output_type": "execute_result"
    }
   ],
   "source": [
    "evaluatorMulti.evaluate(predictionAndTarget) #gives F1 score\n"
   ]
  },
  {
   "cell_type": "code",
   "execution_count": 29,
   "metadata": {},
   "outputs": [
    {
     "name": "stdout",
     "output_type": "stream",
     "text": [
      "ACC: 0.6288515406162465\n",
      "F1 score: 0.6301088040574538\n",
      "Weighted Precision: 0.6691545893842493\n",
      "Weighted Recall: 0.6288515406162465\n",
      "AUC: 0.6288515406162465\n"
     ]
    }
   ],
   "source": [
    "print(\"ACC: %s\" % acc)\n",
    "print(\"F1 score: %s\" % f1)\n",
    "print(\"Weighted Precision: %s\" % weightedPrecision)\n",
    "print(\"Weighted Recall: %s\" % weightedRecall)\n",
    "print(\"AUC: %s\" % auc)"
   ]
  },
  {
   "cell_type": "code",
   "execution_count": 59,
   "metadata": {},
   "outputs": [
    {
     "data": {
      "text/plain": [
       "array([[1268,  384,   75,   21,   35,    0],\n",
       "       [ 459,  958,   37,   13,   22,    0],\n",
       "       [ 274,  119,  781,   14,   54,    0],\n",
       "       [ 196,   62,   38,  579,   14,    0],\n",
       "       [ 232,  106,   99,   15,  435,    1],\n",
       "       [  65,   12,   26,    0,   12,   20]])"
      ]
     },
     "execution_count": 59,
     "metadata": {},
     "output_type": "execute_result"
    }
   ],
   "source": [
    "from sklearn.metrics import confusion_matrix\n",
    "y_true = lrPredictions.select(\"labelIndex\")\n",
    "y_true = y_true.toPandas()\n",
    "\n",
    "y_pred = lrPredictions.select(\"prediction\")\n",
    "y_pred = y_pred.toPandas()\n",
    "\n",
    "cnf_matrix = confusion_matrix(y_true, y_pred)\n",
    "cnf_matrix\n"
   ]
  },
  {
   "cell_type": "code",
   "execution_count": 60,
   "metadata": {},
   "outputs": [
    {
     "name": "stdout",
     "output_type": "stream",
     "text": [
      "Confusion matrix, without normalization\n",
      "[[1268  384   75   21   35    0]\n",
      " [ 459  958   37   13   22    0]\n",
      " [ 274  119  781   14   54    0]\n",
      " [ 196   62   38  579   14    0]\n",
      " [ 232  106   99   15  435    1]\n",
      " [  65   12   26    0   12   20]]\n"
     ]
    },
    {
     "ename": "TypeError",
     "evalue": "object of type 'map' has no len()",
     "output_type": "error",
     "traceback": [
      "\u001b[0;31m---------------------------------------------------------------------------\u001b[0m",
      "\u001b[0;31mTypeError\u001b[0m                                 Traceback (most recent call last)",
      "\u001b[0;32m<ipython-input-60-10d3cf449c29>\u001b[0m in \u001b[0;36m<module>\u001b[0;34m\u001b[0m\n\u001b[1;32m      1\u001b[0m \u001b[0;31m# Plot non-normalized confusion matrix\u001b[0m\u001b[0;34m\u001b[0m\u001b[0;34m\u001b[0m\u001b[0;34m\u001b[0m\u001b[0m\n\u001b[1;32m      2\u001b[0m \u001b[0mplt\u001b[0m\u001b[0;34m.\u001b[0m\u001b[0mfigure\u001b[0m\u001b[0;34m(\u001b[0m\u001b[0;34m)\u001b[0m\u001b[0;34m\u001b[0m\u001b[0;34m\u001b[0m\u001b[0m\n\u001b[0;32m----> 3\u001b[0;31m \u001b[0mplot_confusion_matrix\u001b[0m\u001b[0;34m(\u001b[0m\u001b[0mcnf_matrix\u001b[0m\u001b[0;34m,\u001b[0m \u001b[0mclasses\u001b[0m\u001b[0;34m=\u001b[0m\u001b[0mclass_names\u001b[0m\u001b[0;34m,\u001b[0m\u001b[0mtitle\u001b[0m\u001b[0;34m=\u001b[0m\u001b[0;34m'Confusion matrix, without normalization'\u001b[0m\u001b[0;34m)\u001b[0m\u001b[0;34m\u001b[0m\u001b[0;34m\u001b[0m\u001b[0m\n\u001b[0m\u001b[1;32m      4\u001b[0m \u001b[0mplt\u001b[0m\u001b[0;34m.\u001b[0m\u001b[0mshow\u001b[0m\u001b[0;34m(\u001b[0m\u001b[0;34m)\u001b[0m\u001b[0;34m\u001b[0m\u001b[0;34m\u001b[0m\u001b[0m\n",
      "\u001b[0;32m<ipython-input-40-8339670123e4>\u001b[0m in \u001b[0;36mplot_confusion_matrix\u001b[0;34m(cm, classes, normalize, title, cmap)\u001b[0m\n\u001b[1;32m     22\u001b[0m     \u001b[0mplt\u001b[0m\u001b[0;34m.\u001b[0m\u001b[0mtitle\u001b[0m\u001b[0;34m(\u001b[0m\u001b[0mtitle\u001b[0m\u001b[0;34m)\u001b[0m\u001b[0;34m\u001b[0m\u001b[0;34m\u001b[0m\u001b[0m\n\u001b[1;32m     23\u001b[0m     \u001b[0mplt\u001b[0m\u001b[0;34m.\u001b[0m\u001b[0mcolorbar\u001b[0m\u001b[0;34m(\u001b[0m\u001b[0;34m)\u001b[0m\u001b[0;34m\u001b[0m\u001b[0;34m\u001b[0m\u001b[0m\n\u001b[0;32m---> 24\u001b[0;31m     \u001b[0mtick_marks\u001b[0m \u001b[0;34m=\u001b[0m \u001b[0mnp\u001b[0m\u001b[0;34m.\u001b[0m\u001b[0marange\u001b[0m\u001b[0;34m(\u001b[0m\u001b[0mlen\u001b[0m\u001b[0;34m(\u001b[0m\u001b[0mclasses\u001b[0m\u001b[0;34m)\u001b[0m\u001b[0;34m)\u001b[0m\u001b[0;34m\u001b[0m\u001b[0;34m\u001b[0m\u001b[0m\n\u001b[0m\u001b[1;32m     25\u001b[0m     \u001b[0mplt\u001b[0m\u001b[0;34m.\u001b[0m\u001b[0mxticks\u001b[0m\u001b[0;34m(\u001b[0m\u001b[0mtick_marks\u001b[0m\u001b[0;34m,\u001b[0m \u001b[0mclasses\u001b[0m\u001b[0;34m,\u001b[0m \u001b[0mrotation\u001b[0m\u001b[0;34m=\u001b[0m\u001b[0;36m45\u001b[0m\u001b[0;34m)\u001b[0m\u001b[0;34m\u001b[0m\u001b[0;34m\u001b[0m\u001b[0m\n\u001b[1;32m     26\u001b[0m     \u001b[0mplt\u001b[0m\u001b[0;34m.\u001b[0m\u001b[0myticks\u001b[0m\u001b[0;34m(\u001b[0m\u001b[0mtick_marks\u001b[0m\u001b[0;34m,\u001b[0m \u001b[0mclasses\u001b[0m\u001b[0;34m)\u001b[0m\u001b[0;34m\u001b[0m\u001b[0;34m\u001b[0m\u001b[0m\n",
      "\u001b[0;31mTypeError\u001b[0m: object of type 'map' has no len()"
     ]
    },
    {
     "data": {
      "image/png": "[encoded data removed]",
      "text/plain": [
       "<Figure size 432x288 with 2 Axes>"
      ]
     },
     "metadata": {
      "needs_background": "light"
     },
     "output_type": "display_data"
    }
   ],
   "source": [
    "# Plot non-normalized confusion matrix\n",
    "plt.figure()\n",
    "plot_confusion_matrix(cnf_matrix, classes=class_names,title='Confusion matrix, without normalization')\n",
    "plt.show()"
   ]
  },
  {
   "cell_type": "code",
   "execution_count": 61,
   "metadata": {},
   "outputs": [
    {
     "name": "stdout",
     "output_type": "stream",
     "text": [
      "Normalized confusion matrix\n",
      "[[0.71116096 0.21536736 0.04206394 0.0117779  0.01962984 0.        ]\n",
      " [0.30826058 0.64338482 0.02484889 0.00873069 0.01477502 0.        ]\n",
      " [0.22061192 0.0958132  0.62882448 0.01127214 0.04347826 0.        ]\n",
      " [0.22047244 0.06974128 0.04274466 0.65129359 0.01574803 0.        ]\n",
      " [0.26126126 0.11936937 0.11148649 0.01689189 0.48986486 0.00112613]\n",
      " [0.48148148 0.08888889 0.19259259 0.         0.08888889 0.14814815]]\n"
     ]
    },
    {
     "ename": "TypeError",
     "evalue": "object of type 'map' has no len()",
     "output_type": "error",
     "traceback": [
      "\u001b[0;31m---------------------------------------------------------------------------\u001b[0m",
      "\u001b[0;31mTypeError\u001b[0m                                 Traceback (most recent call last)",
      "\u001b[0;32m<ipython-input-61-5e484433146b>\u001b[0m in \u001b[0;36m<module>\u001b[0;34m\u001b[0m\n\u001b[1;32m      1\u001b[0m \u001b[0;31m# Plot normalized confusion matrix\u001b[0m\u001b[0;34m\u001b[0m\u001b[0;34m\u001b[0m\u001b[0;34m\u001b[0m\u001b[0m\n\u001b[1;32m      2\u001b[0m \u001b[0mplt\u001b[0m\u001b[0;34m.\u001b[0m\u001b[0mfigure\u001b[0m\u001b[0;34m(\u001b[0m\u001b[0;34m)\u001b[0m\u001b[0;34m\u001b[0m\u001b[0;34m\u001b[0m\u001b[0m\n\u001b[0;32m----> 3\u001b[0;31m \u001b[0mplot_confusion_matrix\u001b[0m\u001b[0;34m(\u001b[0m\u001b[0mcnf_matrix\u001b[0m\u001b[0;34m,\u001b[0m \u001b[0mclasses\u001b[0m\u001b[0;34m=\u001b[0m\u001b[0mclass_names\u001b[0m\u001b[0;34m,\u001b[0m \u001b[0mnormalize\u001b[0m\u001b[0;34m=\u001b[0m\u001b[0;32mTrue\u001b[0m\u001b[0;34m,\u001b[0m\u001b[0mtitle\u001b[0m\u001b[0;34m=\u001b[0m\u001b[0;34m'Normalized confusion matrix'\u001b[0m\u001b[0;34m)\u001b[0m\u001b[0;34m\u001b[0m\u001b[0;34m\u001b[0m\u001b[0m\n\u001b[0m\u001b[1;32m      4\u001b[0m \u001b[0;34m\u001b[0m\u001b[0m\n\u001b[1;32m      5\u001b[0m \u001b[0mplt\u001b[0m\u001b[0;34m.\u001b[0m\u001b[0mshow\u001b[0m\u001b[0;34m(\u001b[0m\u001b[0;34m)\u001b[0m\u001b[0;34m\u001b[0m\u001b[0;34m\u001b[0m\u001b[0m\n",
      "\u001b[0;32m<ipython-input-40-8339670123e4>\u001b[0m in \u001b[0;36mplot_confusion_matrix\u001b[0;34m(cm, classes, normalize, title, cmap)\u001b[0m\n\u001b[1;32m     22\u001b[0m     \u001b[0mplt\u001b[0m\u001b[0;34m.\u001b[0m\u001b[0mtitle\u001b[0m\u001b[0;34m(\u001b[0m\u001b[0mtitle\u001b[0m\u001b[0;34m)\u001b[0m\u001b[0;34m\u001b[0m\u001b[0;34m\u001b[0m\u001b[0m\n\u001b[1;32m     23\u001b[0m     \u001b[0mplt\u001b[0m\u001b[0;34m.\u001b[0m\u001b[0mcolorbar\u001b[0m\u001b[0;34m(\u001b[0m\u001b[0;34m)\u001b[0m\u001b[0;34m\u001b[0m\u001b[0;34m\u001b[0m\u001b[0m\n\u001b[0;32m---> 24\u001b[0;31m     \u001b[0mtick_marks\u001b[0m \u001b[0;34m=\u001b[0m \u001b[0mnp\u001b[0m\u001b[0;34m.\u001b[0m\u001b[0marange\u001b[0m\u001b[0;34m(\u001b[0m\u001b[0mlen\u001b[0m\u001b[0;34m(\u001b[0m\u001b[0mclasses\u001b[0m\u001b[0;34m)\u001b[0m\u001b[0;34m)\u001b[0m\u001b[0;34m\u001b[0m\u001b[0;34m\u001b[0m\u001b[0m\n\u001b[0m\u001b[1;32m     25\u001b[0m     \u001b[0mplt\u001b[0m\u001b[0;34m.\u001b[0m\u001b[0mxticks\u001b[0m\u001b[0;34m(\u001b[0m\u001b[0mtick_marks\u001b[0m\u001b[0;34m,\u001b[0m \u001b[0mclasses\u001b[0m\u001b[0;34m,\u001b[0m \u001b[0mrotation\u001b[0m\u001b[0;34m=\u001b[0m\u001b[0;36m45\u001b[0m\u001b[0;34m)\u001b[0m\u001b[0;34m\u001b[0m\u001b[0;34m\u001b[0m\u001b[0m\n\u001b[1;32m     26\u001b[0m     \u001b[0mplt\u001b[0m\u001b[0;34m.\u001b[0m\u001b[0myticks\u001b[0m\u001b[0;34m(\u001b[0m\u001b[0mtick_marks\u001b[0m\u001b[0;34m,\u001b[0m \u001b[0mclasses\u001b[0m\u001b[0;34m)\u001b[0m\u001b[0;34m\u001b[0m\u001b[0;34m\u001b[0m\u001b[0m\n",
      "\u001b[0;31mTypeError\u001b[0m: object of type 'map' has no len()"
     ]
    },
    {
     "data": {
      "image/png": "[encoded data removed]",
      "text/plain": [
       "<Figure size 432x288 with 2 Axes>"
      ]
     },
     "metadata": {
      "needs_background": "light"
     },
     "output_type": "display_data"
    }
   ],
   "source": [
    "# Plot normalized confusion matrix\n",
    "plt.figure()\n",
    "plot_confusion_matrix(cnf_matrix, classes=class_names, normalize=True,title='Normalized confusion matrix')\n",
    "\n",
    "plt.show()"
   ]
  },
  {
   "cell_type": "markdown",
   "metadata": {},
   "source": [
    "# Index To String"
   ]
  },
  {
   "cell_type": "code",
   "execution_count": 21,
   "metadata": {},
   "outputs": [],
   "source": [
    "from pyspark.ml.feature import IndexToString, StringIndexer\n",
    "converter = IndexToString(inputCol=\"labelIndex\", outputCol=\"labelOriginal\")\n",
    "converted = converter.transform(lrPredictions)\n",
    "converterPred = IndexToString(inputCol='prediction',outputCol='labelPredicted',labels=pipelineFit.stages[2].labels)\n",
    "model = converterPred.transform(converted)"
   ]
  }
 ],
 "metadata": {
  "kernelspec": {
   "display_name": "Python 3",
   "language": "python",
   "name": "python3"
  },
  "language_info": {
   "codemirror_mode": {
    "name": "ipython",
    "version": 3
   },
   "file_extension": ".py",
   "mimetype": "text/x-python",
   "name": "python",
   "nbconvert_exporter": "python",
   "pygments_lexer": "ipython3",
   "version": "3.8.8"
  }
 },
 "nbformat": 4,
 "nbformat_minor": 4
}
