{
 "cells": [
  {
   "cell_type": "code",
   "execution_count": 1,
   "metadata": {},
   "outputs": [],
   "source": [
    "from pyspark.sql.types import StructType, StructField, StringType, LongType\n",
    "jsonSchema = StructType([\n",
    "    StructField('label', StringType(), True),\n",
    "    StructField('tweet_id', LongType(), True),\n",
    "    StructField('tweet_text', StringType(), True)\n",
    "])\n",
    "\n",
    "#replace the file path\n",
    "df=spark.read.format(\"json\").schema(jsonSchema).load(\"/Users/Pavel/Documents/KULeuven/Courses/AdvancedAnalyticsinBigDataWorld/spark/data/*\")"
   ]
  },
  {
   "cell_type": "markdown",
   "metadata": {},
   "source": [
    "## Text preprocessing"
   ]
  },
  {
   "cell_type": "code",
   "execution_count": 4,
   "metadata": {},
   "outputs": [],
   "source": [
    "import pyspark.sql.functions as f\n",
    "from pyspark.sql.functions import regexp_replace\n",
    "from pyspark.sql.functions import ltrim\n",
    "\n",
    "#Converting all letters to lowercase\n",
    "df = df.withColumn(\"tweet_text\",f.lower(f.col(\"tweet_text\")))\n",
    "\n",
    "#removing punctuations, numbers, http and spaces\n",
    "df =df.withColumn(\"tweet_text\",f.regexp_replace(f.col(\"tweet_text\"),'([^ a-zA-Z\\'])',''))\n",
    "df = df.withColumn(\"tweet_text\",f.regexp_replace(f.col(\"tweet_text\"),'http.*?\\\\b',' '))\n",
    "df = df.withColumn(\"tweet_text\",f.ltrim(f.regexp_replace(f.col(\"tweet_text\"),'[\\r\\n\\t\\f\\v ]+', ' ')))\n",
    "\n"
   ]
  },
  {
   "cell_type": "code",
   "execution_count": 5,
   "metadata": {},
   "outputs": [],
   "source": [
    "from pyspark.ml.feature import Tokenizer\n",
    "from pyspark.ml.feature import StopWordsRemover\n",
    "\n",
    "#Splitting words\n",
    "tokenizer = Tokenizer(inputCol=\"tweet_text\", outputCol=\"words\")\n",
    "dataset = tokenizer.transform(df)\n"
   ]
  },
  {
   "cell_type": "code",
   "execution_count": 6,
   "metadata": {},
   "outputs": [],
   "source": [
    "#Lemmatization\n",
    "import nltk\n",
    "#nltk.download('wordnet')\n",
    "from nltk.stem import WordNetLemmatizer\n",
    "lemmatizer = WordNetLemmatizer() \n",
    "#just to try if it works"
   ]
  },
  {
   "cell_type": "code",
   "execution_count": 7,
   "metadata": {},
   "outputs": [],
   "source": [
    "## Didn't manage to apply lemmatization while using WordNetLemmatizer on pyspark dataframe. \n",
    "#So temporarily to make it work, firstly changed to pandas dataframe and then back to pyspark dataframe."
   ]
  },
  {
   "cell_type": "code",
   "execution_count": 8,
   "metadata": {},
   "outputs": [],
   "source": [
    "pandas_df = dataset.select(\"*\").toPandas()"
   ]
  },
  {
   "cell_type": "code",
   "execution_count": 9,
   "metadata": {},
   "outputs": [
    {
     "data": {
      "text/plain": [
       "0        [joebiden, homeland, defense, is, not, genocid...\n",
       "1        [could, be, a, messan, all, out, war, of, the,...\n",
       "2        [infectious, disease, designated, bed, drastic...\n",
       "3                         [do, u, truly, trust, safety, i]\n",
       "4                                          [do, u, use, q]\n",
       "                               ...                        \n",
       "61003                                         [is, boring]\n",
       "61004                                              [today]\n",
       "61005                                           [go, home]\n",
       "61006                                          [fuck, you]\n",
       "61007                                             [thanks]\n",
       "Name: lemmatized, Length: 61008, dtype: object"
      ]
     },
     "execution_count": 9,
     "metadata": {},
     "output_type": "execute_result"
    }
   ],
   "source": [
    "\n",
    "pandas_df['lemmatized'] = pandas_df['words'].apply(\n",
    "                    lambda lst:[lemmatizer.lemmatize(word) for word in lst])\n",
    "pandas_df['lemmatized']"
   ]
  },
  {
   "cell_type": "code",
   "execution_count": 11,
   "metadata": {},
   "outputs": [],
   "source": [
    "dataset2 = spark.createDataFrame(pandas_df)"
   ]
  },
  {
   "cell_type": "code",
   "execution_count": 12,
   "metadata": {},
   "outputs": [],
   "source": [
    "#Removing stop words\n",
    "stopwordList = [\"u\",\"ur\", \"amp\"] \n",
    "stopwordList.extend(StopWordsRemover().getStopWords())\n",
    "remover = StopWordsRemover(inputCol=\"lemmatized\", outputCol=\"filtered\" ,stopWords=stopwordList)\n",
    "dataset2 = remover.transform(dataset2)"
   ]
  },
  {
   "cell_type": "code",
   "execution_count": 13,
   "metadata": {},
   "outputs": [
    {
     "name": "stdout",
     "output_type": "stream",
     "text": [
      "+--------------+-------------------+--------------------+--------------------+--------------------+--------------------+\n",
      "|         label|           tweet_id|          tweet_text|               words|          lemmatized|           filtered2|\n",
      "+--------------+-------------------+--------------------+--------------------+--------------------+--------------------+\n",
      "|        #biden|1386026144328192004|joebiden homeland...|[joebiden, homela...|[joebiden, homela...|[joebiden, homela...|\n",
      "|        #china|1381303111222956033|could be a messan...|[could, be, a, me...|[could, be, a, me...|[messan, war, world]|\n",
      "|      #vaccine|1380298538802765827|infectious diseas...|[infectious, dise...|[infectious, dise...|[infectious, dise...|\n",
      "|      #vaccine|1381494016211030016|do u truly trust ...|[do, u, truly, tr...|[do, u, truly, tr...|[truly, trust, sa...|\n",
      "|        #covid|1380766615189479425|         do u use q |     [do, u, use, q]|     [do, u, use, q]|               [use]|\n",
      "|        #biden|1380129673443696640|wants but gets am...|[wants, but, gets...|[want, but, get, ...|[want, get, domin...|\n",
      "|        #covid|1384074651052089345|whats ur preferen...|[whats, ur, prefe...|[whats, ur, prefe...| [whats, preference]|\n",
      "|      #vaccine|1382615376303902722|ur thought about ...|[ur, thought, abo...|[ur, thought, abo...|           [thought]|\n",
      "|        #biden|1381993076768444419|         the gospel |       [the, gospel]|       [the, gospel]|            [gospel]|\n",
      "|        #covid|1384954583286489089|this two on and h...|[this, two, on, a...|[this, two, on, a...|[two, hold, next,...|\n",
      "|        #china|1385046289461743617|      a legend star |   [a, legend, star]|   [a, legend, star]|      [legend, star]|\n",
      "|#stopasianhate|1380973739224010757|      queen of asia |   [queen, of, asia]|   [queen, of, asia]|       [queen, asia]|\n",
      "|        #biden|1384085891983941634|gunslotsofguns dr...|[gunslotsofguns, ...|[gunslotsofguns, ...|[gunslotsofguns, ...|\n",
      "|        #covid|1381746356730101760|whats ur main for...|[whats, ur, main,...|[whats, ur, main,...| [whats, main, form]|\n",
      "|        #biden|1380127152847347714|no one wants to b...|[no, one, wants, ...|[no, one, want, t...|[one, want, buy, ...|\n",
      "|        #covid|1383734149123510274|domain for sale d...|[domain, for, sal...|[domain, for, sal...|[domain, sale, do...|\n",
      "|        #china|1383869325874929669|dmnmarius zeppeli...|[dmnmarius, zeppe...|[dmnmarius, zeppe...|[dmnmarius, zeppe...|\n",
      "|        #covid|1381347661396246531|domain for sale d...|[domain, for, sal...|[domain, for, sal...|[domain, sale, do...|\n",
      "|        #china|1380180497062629376|dm or comment rea...|[dm, or, comment,...|[dm, or, comment,...|[comment, ready, ...|\n",
      "|        #covid|1384410918780555265|r u in an area wh...|[r, u, in, an, ar...|[r, u, in, an, ar...|      [area, emerge]|\n",
      "+--------------+-------------------+--------------------+--------------------+--------------------+--------------------+\n",
      "only showing top 20 rows\n",
      "\n"
     ]
    }
   ],
   "source": [
    "#to get rid of words like v, q, wa\n",
    "dataset2 = dataset2.withColumn(\"filtered2\", f.expr(\"filter(filtered, x -> not(length(x) < 3))\")).where(f.size(f.col(\"filtered2\")) > 0).drop(\"filtered\")\n",
    "dataset2.show()"
   ]
  },
  {
   "cell_type": "markdown",
   "metadata": {},
   "source": [
    "## Bag of words"
   ]
  },
  {
   "cell_type": "code",
   "execution_count": 14,
   "metadata": {},
   "outputs": [
    {
     "name": "stdout",
     "output_type": "stream",
     "text": [
      "+--------------+-------------------+--------------------+--------------------+--------------------+--------------------+--------------------+--------------------+----------+\n",
      "|         label|           tweet_id|          tweet_text|               words|          lemmatized|           filtered2|         tf_features|     tf_idf_features|labelIndex|\n",
      "+--------------+-------------------+--------------------+--------------------+--------------------+--------------------+--------------------+--------------------+----------+\n",
      "|        #biden|1386026144328192004|joebiden homeland...|[joebiden, homela...|[joebiden, homela...|[joebiden, homela...|(76731,[16,22,247...|(76731,[16,22,247...|       3.0|\n",
      "|        #china|1381303111222956033|could be a messan...|[could, be, a, me...|[could, be, a, me...|[messan, war, world]|(76731,[13,123,69...|(76731,[13,123,69...|       2.0|\n",
      "|      #vaccine|1380298538802765827|infectious diseas...|[infectious, dise...|[infectious, dise...|[infectious, dise...|(76731,[292,402,3...|(76731,[292,402,3...|       0.0|\n",
      "|      #vaccine|1381494016211030016|do u truly trust ...|[do, u, truly, tr...|[do, u, truly, tr...|[truly, trust, sa...|(76731,[372,651,1...|(76731,[372,651,1...|       0.0|\n",
      "|        #covid|1380766615189479425|         do u use q |     [do, u, use, q]|     [do, u, use, q]|               [use]|  (76731,[82],[1.0])|(76731,[82],[4.25...|       1.0|\n",
      "|        #biden|1380129673443696640|wants but gets am...|[wants, but, gets...|[want, but, get, ...|[want, get, domin...|(76731,[3,34,1420...|(76731,[3,34,1420...|       3.0|\n",
      "|        #covid|1384074651052089345|whats ur preferen...|[whats, ur, prefe...|[whats, ur, prefe...| [whats, preference]|(76731,[727,5275]...|(76731,[727,5275]...|       1.0|\n",
      "|      #vaccine|1382615376303902722|ur thought about ...|[ur, thought, abo...|[ur, thought, abo...|           [thought]| (76731,[241],[1.0])|(76731,[241],[4.9...|       0.0|\n",
      "|        #biden|1381993076768444419|         the gospel |       [the, gospel]|       [the, gospel]|            [gospel]|(76731,[17770],[1...|(76731,[17770],[9...|       3.0|\n",
      "|        #covid|1384954583286489089|this two on and h...|[this, two, on, a...|[this, two, on, a...|[two, hold, next,...|(76731,[9,108,114...|(76731,[9,108,114...|       1.0|\n",
      "|        #china|1385046289461743617|      a legend star |   [a, legend, star]|   [a, legend, star]|      [legend, star]|(76731,[1783,5346...|(76731,[1783,5346...|       2.0|\n",
      "|#stopasianhate|1380973739224010757|      queen of asia |   [queen, of, asia]|   [queen, of, asia]|       [queen, asia]|(76731,[857,2573]...|(76731,[857,2573]...|       4.0|\n",
      "|        #biden|1384085891983941634|gunslotsofguns dr...|[gunslotsofguns, ...|[gunslotsofguns, ...|[gunslotsofguns, ...|(76731,[103,111,1...|(76731,[103,111,1...|       3.0|\n",
      "|        #covid|1381746356730101760|whats ur main for...|[whats, ur, main,...|[whats, ur, main,...| [whats, main, form]|(76731,[669,727,1...|(76731,[669,727,1...|       1.0|\n",
      "|        #biden|1380127152847347714|no one wants to b...|[no, one, wants, ...|[no, one, want, t...|[one, want, buy, ...|(76731,[5,34,150,...|(76731,[5,34,150,...|       3.0|\n",
      "|        #covid|1383734149123510274|domain for sale d...|[domain, for, sal...|[domain, for, sal...|[domain, sale, do...|(76731,[437,2273,...|(76731,[437,2273,...|       1.0|\n",
      "|        #china|1383869325874929669|dmnmarius zeppeli...|[dmnmarius, zeppe...|[dmnmarius, zeppe...|[dmnmarius, zeppe...|(76731,[45,100,19...|(76731,[45,100,19...|       2.0|\n",
      "|        #covid|1381347661396246531|domain for sale d...|[domain, for, sal...|[domain, for, sal...|[domain, sale, do...|(76731,[437,1878,...|(76731,[437,1878,...|       1.0|\n",
      "|        #china|1380180497062629376|dm or comment rea...|[dm, or, comment,...|[dm, or, comment,...|[comment, ready, ...|(76731,[40,436,55...|(76731,[40,436,55...|       2.0|\n",
      "|        #covid|1384410918780555265|r u in an area wh...|[r, u, in, an, ar...|[r, u, in, an, ar...|      [area, emerge]|(76731,[419,3630]...|(76731,[419,3630]...|       1.0|\n",
      "+--------------+-------------------+--------------------+--------------------+--------------------+--------------------+--------------------+--------------------+----------+\n",
      "only showing top 20 rows\n",
      "\n"
     ]
    }
   ],
   "source": [
    "#Vectorizing and IDF\n",
    "\n",
    "from pyspark.ml.feature import CountVectorizer, StringIndexer, IDF, HashingTF\n",
    "from pyspark.ml import Pipeline\n",
    "\n",
    "\n",
    "cv = CountVectorizer(inputCol=\"filtered2\", outputCol=\"tf_features\")\n",
    "idf = IDF(inputCol = \"tf_features\", outputCol = \"tf_idf_features\")\n",
    "label_stringIdx = StringIndexer(inputCol = \"label\", outputCol = \"labelIndex\")\n",
    "\n",
    "pipeline = Pipeline(stages=[cv, idf, label_stringIdx])\n",
    "\n",
    "pipelineFit = pipeline.fit(dataset2)\n",
    "dataset2= pipelineFit.transform(dataset2)\n",
    "dataset2.show()"
   ]
  },
  {
   "cell_type": "code",
   "execution_count": 21,
   "metadata": {},
   "outputs": [
    {
     "name": "stdout",
     "output_type": "stream",
     "text": [
      "+--------------+-------------------------------------------------------------------------------------------------------------------------------------------------------------------------------------------------------------------------------------------------------------------------------------------------------------------------------------------------------------------------------------------------------------------------------------------------------------------------------------------------------------------------------------------------------------------------------------------------------------------------------------------------------------------------------------------+\n",
      "|label         |filtered2                                                                                                                                                                                                                                                                                                                                                                                                                                                                                                                                                                                                                                                                                  |\n",
      "+--------------+-------------------------------------------------------------------------------------------------------------------------------------------------------------------------------------------------------------------------------------------------------------------------------------------------------------------------------------------------------------------------------------------------------------------------------------------------------------------------------------------------------------------------------------------------------------------------------------------------------------------------------------------------------------------------------------------+\n",
      "|#biden        |[joebiden, homeland, defense, genocide, know, first, speak, know, shut]                                                                                                                                                                                                                                                                                                                                                                                                                                                                                                                                                                                                                    |\n",
      "|#china        |[messan, war, world]                                                                                                                                                                                                                                                                                                                                                                                                                                                                                                                                                                                                                                                                       |\n",
      "|#vaccine      |[infectious, disease, designated, bed, drastic, decreasejapan]                                                                                                                                                                                                                                                                                                                                                                                                                                                                                                                                                                                                                             |\n",
      "|#vaccine      |[truly, trust, safety]                                                                                                                                                                                                                                                                                                                                                                                                                                                                                                                                                                                                                                                                     |\n",
      "|#covid        |[use]                                                                                                                                                                                                                                                                                                                                                                                                                                                                                                                                                                                                                                                                                      |\n",
      "|#biden        |[want, get, dominates]                                                                                                                                                                                                                                                                                                                                                                                                                                                                                                                                                                                                                                                                     |\n",
      "|#covid        |[whats, preference]                                                                                                                                                                                                                                                                                                                                                                                                                                                                                                                                                                                                                                                                        |\n",
      "|#vaccine      |[thought]                                                                                                                                                                                                                                                                                                                                                                                                                                                                                                                                                                                                                                                                                  |\n",
      "|#biden        |[gospel]                                                                                                                                                                                                                                                                                                                                                                                                                                                                                                                                                                                                                                                                                   |\n",
      "|#covid        |[two, hold, next, day, currency, para]                                                                                                                                                                                                                                                                                                                                                                                                                                                                                                                                                                                                                                                     |\n",
      "|#china        |[legend, star]                                                                                                                                                                                                                                                                                                                                                                                                                                                                                                                                                                                                                                                                             |\n",
      "|#stopasianhate|[queen, asia]                                                                                                                                                                                                                                                                                                                                                                                                                                                                                                                                                                                                                                                                              |\n",
      "|#biden        |[gunslotsofguns, drfakejillbide, immersedinluv, shawnlindley, zinzellnyc, annawrock, zackhammer, marisoltorresrs, enoughisenuf, bernfost, grayzpoo, jules, clairermassey, lanceusa, shmcolorado, brensumner, romanantonius, claudetteggibs, sddnp, acebearstrom, margiestrike, joedaddyhala, mplatinx, doingjack, smackeycracks, verbalese, gjrboston, enespacio, janrog, pmurttrump, wvhannah, juliethewarrior, malcolmdonaghy, gloriabesos, robthefrosty, ektaka, doxie, trishfl, jtruss, resistsali, bagdmilksowhat, aussiedebpeace, michellespenc, texyliz, wyer, radarresist, rubicon, prezlives, riseupbruce, thank, friend, watch, stay, safe, hug, isacriminal, isatraitor, actnow]|\n",
      "|#covid        |[whats, main, form]                                                                                                                                                                                                                                                                                                                                                                                                                                                                                                                                                                                                                                                                        |\n",
      "|#biden        |[one, want, buy, top, low, volume, gone, presaging, plunge]                                                                                                                                                                                                                                                                                                                                                                                                                                                                                                                                                                                                                                |\n",
      "|#covid        |[domain, sale, dogecoin, coin]                                                                                                                                                                                                                                                                                                                                                                                                                                                                                                                                                                                                                                                             |\n",
      "|#china        |[dmnmarius, zeppelindao, imbaronmusk, zep, best, zep, doe, best, base, shot]                                                                                                                                                                                                                                                                                                                                                                                                                                                                                                                                                                                                               |\n",
      "|#covid        |[domain, sale, doge, com, coin, style]                                                                                                                                                                                                                                                                                                                                                                                                                                                                                                                                                                                                                                                     |\n",
      "|#china        |[comment, ready, life, nstyle]                                                                                                                                                                                                                                                                                                                                                                                                                                                                                                                                                                                                                                                             |\n",
      "|#covid        |[area, emerge]                                                                                                                                                                                                                                                                                                                                                                                                                                                                                                                                                                                                                                                                             |\n",
      "+--------------+-------------------------------------------------------------------------------------------------------------------------------------------------------------------------------------------------------------------------------------------------------------------------------------------------------------------------------------------------------------------------------------------------------------------------------------------------------------------------------------------------------------------------------------------------------------------------------------------------------------------------------------------------------------------------------------------+\n",
      "only showing top 20 rows\n",
      "\n"
     ]
    }
   ],
   "source": [
    "dataset2.select(\"label\", \"filtered2\").show(truncate=False)"
   ]
  },
  {
   "cell_type": "markdown",
   "metadata": {},
   "source": [
    "## Train and test split"
   ]
  },
  {
   "cell_type": "code",
   "execution_count": 22,
   "metadata": {},
   "outputs": [
    {
     "name": "stdout",
     "output_type": "stream",
     "text": [
      "Training Dataset Count: 42585\n",
      "Test Dataset Count: 18328\n"
     ]
    }
   ],
   "source": [
    "(trainingData2, testData2) = dataset2.randomSplit([0.7, 0.3], seed = 100)\n",
    "print(\"Training Dataset Count: \" + str(trainingData2.count()))\n",
    "print(\"Test Dataset Count: \" + str(testData2.count()))"
   ]
  },
  {
   "cell_type": "markdown",
   "metadata": {},
   "source": [
    "## Logistic Regression"
   ]
  },
  {
   "cell_type": "code",
   "execution_count": 23,
   "metadata": {},
   "outputs": [],
   "source": [
    "from pyspark.ml.classification import LogisticRegression\n",
    "lr = LogisticRegression(labelCol = \"labelIndex\", featuresCol = \"tf_idf_features\", maxIter=20, regParam=0.3, elasticNetParam=0)\n",
    "lrModel = lr.fit(trainingData2)\n",
    "lrPredictions = lrModel.transform(testData2)"
   ]
  },
  {
   "cell_type": "code",
   "execution_count": 14,
   "metadata": {},
   "outputs": [
    {
     "name": "stdout",
     "output_type": "stream",
     "text": [
      "+----------+----------+\n",
      "|prediction|labelIndex|\n",
      "+----------+----------+\n",
      "|       2.0|       4.0|\n",
      "|       2.0|       4.0|\n",
      "|       4.0|       4.0|\n",
      "|       1.0|       4.0|\n",
      "|       0.0|       4.0|\n",
      "|       0.0|       4.0|\n",
      "|       4.0|       4.0|\n",
      "|       0.0|       4.0|\n",
      "|       4.0|       4.0|\n",
      "|       4.0|       4.0|\n",
      "|       4.0|       4.0|\n",
      "|       0.0|       4.0|\n",
      "|       4.0|       4.0|\n",
      "|       0.0|       4.0|\n",
      "|       4.0|       4.0|\n",
      "|       1.0|       4.0|\n",
      "|       4.0|       4.0|\n",
      "|       4.0|       4.0|\n",
      "|       4.0|       4.0|\n",
      "|       0.0|       4.0|\n",
      "+----------+----------+\n",
      "only showing top 20 rows\n",
      "\n"
     ]
    }
   ],
   "source": [
    "lrPredictions.select(\"prediction\", \"labelIndex\").show()"
   ]
  },
  {
   "cell_type": "code",
   "execution_count": 24,
   "metadata": {},
   "outputs": [
    {
     "name": "stdout",
     "output_type": "stream",
     "text": [
      "+----------+-----+\n",
      "|prediction|count|\n",
      "+----------+-----+\n",
      "|       0.0| 6123|\n",
      "|       1.0| 4967|\n",
      "|       2.0| 3631|\n",
      "|       3.0| 2247|\n",
      "|       4.0| 1267|\n",
      "|       5.0|   93|\n",
      "+----------+-----+\n",
      "\n"
     ]
    }
   ],
   "source": [
    "import pyspark.sql.functions as col\n",
    "lrPredictions.groupBy(\"prediction\").count().orderBy(f.col(\"count\").desc()).show()"
   ]
  },
  {
   "cell_type": "markdown",
   "metadata": {},
   "source": [
    "### Evaluation"
   ]
  },
  {
   "cell_type": "code",
   "execution_count": 25,
   "metadata": {},
   "outputs": [
    {
     "name": "stdout",
     "output_type": "stream",
     "text": [
      "0.6436599738105631\n",
      "Test Error = 0.35634 \n"
     ]
    }
   ],
   "source": [
    "from pyspark.ml.evaluation import MulticlassClassificationEvaluator\n",
    "# Select (prediction, true label) and compute accuracy\n",
    "evaluator = MulticlassClassificationEvaluator(\n",
    "    labelCol=\"labelIndex\", predictionCol=\"prediction\", metricName=\"accuracy\")\n",
    "accuracy = evaluator.evaluate(lrPredictions)\n",
    "print(accuracy)\n",
    "print(\"Test Error = %g \" % (1.0 - accuracy))"
   ]
  },
  {
   "cell_type": "code",
   "execution_count": 25,
   "metadata": {},
   "outputs": [
    {
     "name": "stdout",
     "output_type": "stream",
     "text": [
      "False positive rate by label:\n",
      "label 0: 0.04181217555450684\n",
      "label 1: 0.021555179478044\n",
      "label 2: 0.0034482758620689655\n",
      "label 3: 0.0006309148264984228\n",
      "label 4: 0.0018764659890539485\n",
      "label 5: 0.0\n",
      "True positive rate by label:\n",
      "label 0: 0.9682270191608052\n",
      "label 1: 0.9553136637066743\n",
      "label 2: 0.954031117397454\n",
      "label 3: 0.9421000981354269\n",
      "label 4: 0.91701244813278\n",
      "label 5: 0.7967741935483871\n",
      "Precision by label:\n",
      "label 0: 0.9001127395715897\n",
      "label 1: 0.9323455409561084\n",
      "label 2: 0.9850310332238043\n",
      "label 3: 0.995850622406639\n",
      "label 4: 0.9866071428571429\n",
      "label 5: 1.0\n",
      "Recall by label:\n",
      "label 0: 0.9682270191608052\n",
      "label 1: 0.9553136637066743\n",
      "label 2: 0.954031117397454\n",
      "label 3: 0.9421000981354269\n",
      "label 4: 0.91701244813278\n",
      "label 5: 0.7967741935483871\n",
      "F-measure by label:\n",
      "label 0: 0.9329282542650151\n",
      "label 1: 0.94368986983588\n",
      "label 2: 0.9692832764505119\n",
      "label 3: 0.968229954614221\n",
      "label 4: 0.9505376344086022\n",
      "label 5: 0.8868940754039497\n",
      "Accuracy: 0.9484984372876749\n",
      "FPR: 0.017821448997847135\n",
      "TPR: 0.948498437287675\n",
      "F-measure: 0.948691670318831\n",
      "Precision: 0.9507659335902745\n",
      "Recall: 0.948498437287675\n"
     ]
    }
   ],
   "source": [
    "trainingSummary = lrModel.summary\n",
    "\n",
    "print(\"False positive rate by label:\")\n",
    "for i, rate in enumerate(trainingSummary.falsePositiveRateByLabel):\n",
    "    print(\"label %d: %s\" % (i, rate))\n",
    "\n",
    "print(\"True positive rate by label:\")\n",
    "for i, rate in enumerate(trainingSummary.truePositiveRateByLabel):\n",
    "    print(\"label %d: %s\" % (i, rate))\n",
    "\n",
    "print(\"Precision by label:\")\n",
    "for i, prec in enumerate(trainingSummary.precisionByLabel):\n",
    "    print(\"label %d: %s\" % (i, prec))\n",
    "\n",
    "print(\"Recall by label:\")\n",
    "for i, rec in enumerate(trainingSummary.recallByLabel):\n",
    "    print(\"label %d: %s\" % (i, rec))\n",
    "\n",
    "print(\"F-measure by label:\")\n",
    "for i, f in enumerate(trainingSummary.fMeasureByLabel()):\n",
    "    print(\"label %d: %s\" % (i, f))\n",
    "\n",
    "accuracy = trainingSummary.accuracy\n",
    "falsePositiveRate = trainingSummary.weightedFalsePositiveRate\n",
    "truePositiveRate = trainingSummary.weightedTruePositiveRate\n",
    "fMeasure = trainingSummary.weightedFMeasure()\n",
    "precision = trainingSummary.weightedPrecision\n",
    "recall = trainingSummary.weightedRecall\n",
    "print(\"Accuracy: %s\\nFPR: %s\\nTPR: %s\\nF-measure: %s\\nPrecision: %s\\nRecall: %s\"\n",
    "      % (accuracy, falsePositiveRate, truePositiveRate, fMeasure, precision, recall))"
   ]
  },
  {
   "cell_type": "code",
   "execution_count": 27,
   "metadata": {},
   "outputs": [],
   "source": [
    "from pyspark.mllib.classification import LogisticRegressionWithLBFGS\n",
    "from pyspark.mllib.util import MLUtils\n",
    "from pyspark.mllib.evaluation import MulticlassMetrics"
   ]
  },
  {
   "cell_type": "code",
   "execution_count": 28,
   "metadata": {},
   "outputs": [],
   "source": [
    "from pyspark.ml.evaluation import MulticlassClassificationEvaluator\n",
    "\n",
    "# Create both evaluators\n",
    "evaluatorMulti = MulticlassClassificationEvaluator(labelCol=\"labelIndex\", predictionCol=\"prediction\")\n",
    "\n",
    "# Make predicitons\n",
    "predictionAndTarget = lrPredictions.select(\"prediction\", \"labelIndex\")\n",
    "\n",
    "# Get metrics\n",
    "acc = evaluatorMulti.evaluate(predictionAndTarget, {evaluatorMulti.metricName: \"accuracy\"})\n",
    "f1 = evaluatorMulti.evaluate(predictionAndTarget, {evaluatorMulti.metricName: \"f1\"})\n",
    "weightedPrecision = evaluatorMulti.evaluate(predictionAndTarget, {evaluatorMulti.metricName: \"weightedPrecision\"})\n",
    "weightedRecall = evaluatorMulti.evaluate(predictionAndTarget, {evaluatorMulti.metricName: \"weightedRecall\"})\n",
    "auc = evaluator.evaluate(predictionAndTarget)"
   ]
  },
  {
   "cell_type": "code",
   "execution_count": 29,
   "metadata": {},
   "outputs": [
    {
     "data": {
      "text/plain": [
       "0.6429010767199942"
      ]
     },
     "execution_count": 29,
     "metadata": {},
     "output_type": "execute_result"
    }
   ],
   "source": [
    "evaluatorMulti.evaluate(predictionAndTarget) #gives F1 score\n"
   ]
  },
  {
   "cell_type": "code",
   "execution_count": 30,
   "metadata": {},
   "outputs": [
    {
     "name": "stdout",
     "output_type": "stream",
     "text": [
      "ACC: 0.6436599738105631\n",
      "F1 score: 0.6429010767199942\n",
      "Weighted Precision: 0.6710119769570125\n",
      "Weighted Recall: 0.6436599738105631\n",
      "AUC: 0.6436599738105631\n"
     ]
    }
   ],
   "source": [
    "print(\"ACC: %s\" % acc)\n",
    "print(\"F1 score: %s\" % f1)\n",
    "print(\"Weighted Precision: %s\" % weightedPrecision)\n",
    "print(\"Weighted Recall: %s\" % weightedRecall)\n",
    "print(\"AUC: %s\" % auc)"
   ]
  },
  {
   "cell_type": "code",
   "execution_count": 38,
   "metadata": {},
   "outputs": [],
   "source": [
    "import matplotlib.pyplot as plt\n",
    "import numpy as np\n",
    "import itertools\n",
    "\n",
    "def plot_confusion_matrix(cm, classes,\n",
    "                          normalize=False,\n",
    "                          title='Confusion matrix',\n",
    "                          cmap=plt.cm.Blues):\n",
    "    \"\"\"\n",
    "    This function prints and plots the confusion matrix.\n",
    "    Normalization can be applied by setting `normalize=True`.\n",
    "    \"\"\"\n",
    "    if normalize:\n",
    "        cm = cm.astype('float') / cm.sum(axis=1)[:, np.newaxis]\n",
    "        print(\"Normalized confusion matrix\")\n",
    "    else:\n",
    "        print('Confusion matrix, without normalization')\n",
    "\n",
    "    print(cm)\n",
    "\n",
    "    plt.imshow(cm, interpolation='nearest', cmap=cmap)\n",
    "    plt.title(title)\n",
    "    plt.colorbar()\n",
    "    tick_marks = np.arange(len(classes))\n",
    "    plt.xticks(tick_marks, classes, rotation=45)\n",
    "    plt.yticks(tick_marks, classes)\n",
    "\n",
    "    fmt = '.2f' if normalize else 'd'\n",
    "    thresh = cm.max() / 2.\n",
    "    for i, j in itertools.product(range(cm.shape[0]), range(cm.shape[1])):\n",
    "        plt.text(j, i, format(cm[i, j], fmt),\n",
    "                 horizontalalignment=\"center\",\n",
    "                 color=\"white\" if cm[i, j] > thresh else \"black\")\n",
    "\n",
    "    plt.tight_layout()\n",
    "    plt.ylabel('True label')\n",
    "    plt.xlabel('Predicted label')"
   ]
  },
  {
   "cell_type": "code",
   "execution_count": 39,
   "metadata": {},
   "outputs": [
    {
     "data": {
      "text/plain": [
       "array([[3389,  938,  152,  103,   14,    2],\n",
       "       [1354, 2891,  254,  148,   28,    0],\n",
       "       [ 505,  428, 2640,  222,   23,    3],\n",
       "       [ 477,  364,  364, 1630,   41,    1],\n",
       "       [ 288,  228,  114,  104, 1160,    0],\n",
       "       [ 110,  118,  107,   40,    1,   87]])"
      ]
     },
     "execution_count": 39,
     "metadata": {},
     "output_type": "execute_result"
    }
   ],
   "source": [
    "from sklearn.metrics import confusion_matrix\n",
    "y_true = lrPredictions.select(\"labelIndex\")\n",
    "y_true = y_true.toPandas()\n",
    "\n",
    "y_pred = lrPredictions.select(\"prediction\")\n",
    "y_pred = y_pred.toPandas()\n",
    "\n",
    "cnf_matrix = confusion_matrix(y_true, y_pred)\n",
    "cnf_matrix\n"
   ]
  },
  {
   "cell_type": "code",
   "execution_count": 41,
   "metadata": {},
   "outputs": [
    {
     "name": "stdout",
     "output_type": "stream",
     "text": [
      "Confusion matrix, without normalization\n",
      "[[3389  938  152  103   14    2]\n",
      " [1354 2891  254  148   28    0]\n",
      " [ 505  428 2640  222   23    3]\n",
      " [ 477  364  364 1630   41    1]\n",
      " [ 288  228  114  104 1160    0]\n",
      " [ 110  118  107   40    1   87]]\n"
     ]
    },
    {
     "data": {
      "image/png": "[encoded data removed]",
      "text/plain": [
       "<Figure size 432x288 with 2 Axes>"
      ]
     },
     "metadata": {
      "needs_background": "light"
     },
     "output_type": "display_data"
    }
   ],
   "source": [
    "# Plot non-normalized confusion matrix\n",
    "plt.figure()\n",
    "plot_confusion_matrix(cnf_matrix, classes=pipelineFit.stages[2].labels,\n",
    "                      title='Confusion matrix, without normalization')\n",
    "plt.show()"
   ]
  },
  {
   "cell_type": "code",
   "execution_count": 44,
   "metadata": {},
   "outputs": [
    {
     "name": "stdout",
     "output_type": "stream",
     "text": [
      "Normalized confusion matrix\n",
      "[[7.37059591e-01 2.04001740e-01 3.30578512e-02 2.24010439e-02\n",
      "  3.04480209e-03 4.34971727e-04]\n",
      " [2.89625668e-01 6.18395722e-01 5.43315508e-02 3.16577540e-02\n",
      "  5.98930481e-03 0.00000000e+00]\n",
      " [1.32164355e-01 1.12012562e-01 6.90918608e-01 5.80999738e-02\n",
      "  6.01936666e-03 7.85134781e-04]\n",
      " [1.65797706e-01 1.26520681e-01 1.26520681e-01 5.66562391e-01\n",
      "  1.42509559e-02 3.47584289e-04]\n",
      " [1.52059134e-01 1.20380148e-01 6.01900739e-02 5.49102429e-02\n",
      "  6.12460401e-01 0.00000000e+00]\n",
      " [2.37580994e-01 2.54859611e-01 2.31101512e-01 8.63930886e-02\n",
      "  2.15982721e-03 1.87904968e-01]]\n"
     ]
    },
    {
     "data": {
      "image/png": "[encoded data removed]",
      "text/plain": [
       "<Figure size 432x288 with 2 Axes>"
      ]
     },
     "metadata": {
      "needs_background": "light"
     },
     "output_type": "display_data"
    }
   ],
   "source": [
    "plt.figure()\n",
    "plot_confusion_matrix(cnf_matrix, classes=pipelineFit.stages[2].labels, normalize=True,\n",
    "                      title='Normalized confusion matrix')\n",
    "\n",
    "plt.show()"
   ]
  }
 ],
 "metadata": {
  "kernelspec": {
   "display_name": "Python 3",
   "language": "python",
   "name": "python3"
  },
  "language_info": {
   "codemirror_mode": {
    "name": "ipython",
    "version": 3
   },
   "file_extension": ".py",
   "mimetype": "text/x-python",
   "name": "python",
   "nbconvert_exporter": "python",
   "pygments_lexer": "ipython3",
   "version": "3.8.8"
  }
 },
 "nbformat": 4,
 "nbformat_minor": 4
}
