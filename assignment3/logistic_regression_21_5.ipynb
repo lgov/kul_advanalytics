{
 "cells": [
  {
   "cell_type": "code",
   "execution_count": 1,
   "metadata": {},
   "outputs": [],
   "source": [
    "from pyspark.sql.types import StructType, StructField, StringType, LongType\n",
    "jsonSchema = StructType([\n",
    "    StructField('label', StringType(), True),\n",
    "    StructField('tweet_id', LongType(), True),\n",
    "    StructField('tweet_text', StringType(), True)\n",
    "])\n",
    "\n",
    "df=spark.read.format(\"json\").schema(jsonSchema).load(\"/Users/Pavel/Documents/KULeuven/Courses/AdvancedAnalyticsinBigDataWorld/spark/data/*\")"
   ]
  },
  {
   "cell_type": "code",
   "execution_count": 2,
   "metadata": {
    "scrolled": false
   },
   "outputs": [
    {
     "name": "stdout",
     "output_type": "stream",
     "text": [
      "+--------------+-------------------+--------------------+\n",
      "|         label|           tweet_id|          tweet_text|\n",
      "+--------------+-------------------+--------------------+\n",
      "|        #china|1381303111222956033|https://t.co/Mz4B...|\n",
      "|      #vaccine|1380298538802765827|Infectious diseas...|\n",
      "|      #vaccine|1381494016211030016|Do u truly trust ...|\n",
      "|        #covid|1380766615189479425|Do u use #███████...|\n",
      "|        #biden|1380129673443696640|#███████ Wants #█...|\n",
      "|#stopasianhate|1380973739224010757|QUEEN OF ASIA 📈?...|\n",
      "|        #covid|1381746356730101760|What’s ur main fo...|\n",
      "|        #biden|1380127152847347714|NO ONE WANTS TO B...|\n",
      "|        #covid|1381347661396246531|Domain for sale: ...|\n",
      "|        #china|1380180497062629376|Dm or comment (re...|\n",
      "|        #biden|1380986061078282245|It was a lie, our...|\n",
      "|        #biden|1380521381704708098|New platform Hypr...|\n",
      "|        #china|1380182109097091072|Don't miss out th...|\n",
      "|        #covid|1381753369576894465|The Amazing Singa...|\n",
      "|        #china|1381634037891047427|Learn Holy Quran\n",
      "...|\n",
      "|        #biden|1380131305090875393|If #███████ is Bo...|\n",
      "|        #biden|1380523377279041538|#███████ &amp; #█...|\n",
      "|        #biden|1380521435295268871|#███████ Stocks M...|\n",
      "|        #biden|1380634730476007428|We're in a Catch-...|\n",
      "|        #covid|1381749407490670596|Mouse wireless, u...|\n",
      "+--------------+-------------------+--------------------+\n",
      "only showing top 20 rows\n",
      "\n"
     ]
    }
   ],
   "source": [
    "df.show()"
   ]
  },
  {
   "cell_type": "markdown",
   "metadata": {},
   "source": [
    "## Text preprocessing"
   ]
  },
  {
   "cell_type": "code",
   "execution_count": 3,
   "metadata": {},
   "outputs": [],
   "source": [
    "import pyspark.sql.functions as f\n",
    "from pyspark.sql.functions import regexp_replace\n",
    "from pyspark.sql.functions import ltrim\n",
    "\n",
    "#Converting all letters to lowercase\n",
    "df = df.withColumn(\"tweet_text\",f.lower(f.col(\"tweet_text\")))\n",
    "\n",
    "#removing punctuations, numbers, http and spaces\n",
    "df =df.withColumn(\"tweet_text\",f.regexp_replace(f.col(\"tweet_text\"),'([^ a-zA-Z\\'])',''))\n",
    "df = df.withColumn(\"tweet_text\",f.regexp_replace(f.col(\"tweet_text\"),'http.*?\\\\b',' '))\n",
    "df = df.withColumn(\"tweet_text\",f.ltrim(f.regexp_replace(f.col(\"tweet_text\"),'[\\r\\n\\t\\f\\v ]+', ' ')))\n",
    "\n"
   ]
  },
  {
   "cell_type": "code",
   "execution_count": 4,
   "metadata": {},
   "outputs": [],
   "source": [
    "from pyspark.ml.feature import Tokenizer\n",
    "from pyspark.ml.feature import StopWordsRemover\n",
    "\n",
    "#Splitting words\n",
    "tokenizer = Tokenizer(inputCol=\"tweet_text\", outputCol=\"words\")\n",
    "dataset = tokenizer.transform(df)\n"
   ]
  },
  {
   "cell_type": "code",
   "execution_count": 5,
   "metadata": {},
   "outputs": [
    {
     "name": "stderr",
     "output_type": "stream",
     "text": [
      "[nltk_data] Downloading package wordnet to /Users/Pavel/nltk_data...\n",
      "[nltk_data]   Package wordnet is already up-to-date!\n"
     ]
    },
    {
     "name": "stdout",
     "output_type": "stream",
     "text": [
      "bat\n",
      "are\n",
      "foot\n",
      "stock\n"
     ]
    }
   ],
   "source": [
    "#Lemmatization\n",
    "import nltk\n",
    "nltk.download('wordnet')\n",
    "from nltk.stem import WordNetLemmatizer\n",
    "lemmatizer = WordNetLemmatizer() \n",
    "#just to try if it works\n",
    "print(lemmatizer.lemmatize(\"bats\"))\n",
    "print(lemmatizer.lemmatize(\"are\"))\n",
    "print(lemmatizer.lemmatize(\"feet\"))\n",
    "print(lemmatizer.lemmatize(\"stocks\"))"
   ]
  },
  {
   "cell_type": "code",
   "execution_count": 6,
   "metadata": {},
   "outputs": [],
   "source": [
    "## Didn't manage to apply lemmatization while using WordNetLemmatizer on pyspark dataframe. \n",
    "#So temporarily to make it work, firstly changed to pandas dataframe and then back to pyspark dataframe."
   ]
  },
  {
   "cell_type": "code",
   "execution_count": 7,
   "metadata": {},
   "outputs": [],
   "source": [
    "pandas_df = dataset.select(\"*\").toPandas()"
   ]
  },
  {
   "cell_type": "code",
   "execution_count": 8,
   "metadata": {},
   "outputs": [
    {
     "data": {
      "text/plain": [
       "0        [could, be, a, messan, all, out, war, of, the,...\n",
       "1        [infectious, disease, designated, bed, drastic...\n",
       "2                         [do, u, truly, trust, safety, i]\n",
       "3                                          [do, u, use, q]\n",
       "4                   [want, but, get, amp, a, dominates, u]\n",
       "                               ...                        \n",
       "19405                                          [on, break]\n",
       "19406                                      [so, bored, of]\n",
       "19407                                           [get, the]\n",
       "19408                                         [is, boring]\n",
       "19409                                          [fuck, you]\n",
       "Name: lemmatized, Length: 19410, dtype: object"
      ]
     },
     "execution_count": 8,
     "metadata": {},
     "output_type": "execute_result"
    }
   ],
   "source": [
    "\n",
    "pandas_df['lemmatized'] = pandas_df['words'].apply(\n",
    "                    lambda lst:[lemmatizer.lemmatize(word) for word in lst])\n",
    "pandas_df['lemmatized']"
   ]
  },
  {
   "cell_type": "code",
   "execution_count": 9,
   "metadata": {},
   "outputs": [],
   "source": [
    "dataset2 = spark.createDataFrame(pandas_df)"
   ]
  },
  {
   "cell_type": "code",
   "execution_count": 10,
   "metadata": {},
   "outputs": [
    {
     "name": "stdout",
     "output_type": "stream",
     "text": [
      "+--------------+-------------------+--------------------+--------------------+--------------------+\n",
      "|         label|           tweet_id|          tweet_text|               words|          lemmatized|\n",
      "+--------------+-------------------+--------------------+--------------------+--------------------+\n",
      "|        #china|1381303111222956033|could be a messan...|[could, be, a, me...|[could, be, a, me...|\n",
      "|      #vaccine|1380298538802765827|infectious diseas...|[infectious, dise...|[infectious, dise...|\n",
      "|      #vaccine|1381494016211030016|do u truly trust ...|[do, u, truly, tr...|[do, u, truly, tr...|\n",
      "|        #covid|1380766615189479425|         do u use q |     [do, u, use, q]|     [do, u, use, q]|\n",
      "|        #biden|1380129673443696640|wants but gets am...|[wants, but, gets...|[want, but, get, ...|\n",
      "|#stopasianhate|1380973739224010757|      queen of asia |   [queen, of, asia]|   [queen, of, asia]|\n",
      "|        #covid|1381746356730101760|whats ur main for...|[whats, ur, main,...|[whats, ur, main,...|\n",
      "|        #biden|1380127152847347714|no one wants to b...|[no, one, wants, ...|[no, one, want, t...|\n",
      "|        #covid|1381347661396246531|domain for sale d...|[domain, for, sal...|[domain, for, sal...|\n",
      "|        #china|1380180497062629376|dm or comment rea...|[dm, or, comment,...|[dm, or, comment,...|\n",
      "|        #biden|1380986061078282245|it was a lie our ...|[it, was, a, lie,...|[it, wa, a, lie, ...|\n",
      "|        #biden|1380521381704708098|new platform hypr...|[new, platform, h...|[new, platform, h...|\n",
      "|        #china|1380182109097091072|don't miss out th...|[don't, miss, out...|[don't, miss, out...|\n",
      "|        #covid|1381753369576894465|the amazing singa...|[the, amazing, si...|[the, amazing, si...|\n",
      "|        #china|1381634037891047427|   learn holy quran |[learn, holy, quran]|[learn, holy, quran]|\n",
      "|        #biden|1380131305090875393|if is booming why...|[if, is, booming,...|[if, is, booming,...|\n",
      "|        #biden|1380523377279041538|amp have lost con...|[amp, have, lost,...|[amp, have, lost,...|\n",
      "|        #biden|1380521435295268871|stocks massively ...|[stocks, massivel...|[stock, massively...|\n",
      "|        #biden|1380634730476007428|we're in a catch ...|[we're, in, a, ca...|[we're, in, a, ca...|\n",
      "|        #covid|1381749407490670596|mouse wireless up...|[mouse, wireless,...|[mouse, wireless,...|\n",
      "+--------------+-------------------+--------------------+--------------------+--------------------+\n",
      "only showing top 20 rows\n",
      "\n"
     ]
    }
   ],
   "source": [
    "dataset2.show()"
   ]
  },
  {
   "cell_type": "code",
   "execution_count": 11,
   "metadata": {},
   "outputs": [
    {
     "name": "stdout",
     "output_type": "stream",
     "text": [
      "+--------------+-------------------+--------------------+--------------------+--------------------+--------------------+\n",
      "|         label|           tweet_id|          tweet_text|               words|          lemmatized|            filtered|\n",
      "+--------------+-------------------+--------------------+--------------------+--------------------+--------------------+\n",
      "|        #china|1381303111222956033|could be a messan...|[could, be, a, me...|[could, be, a, me...|[messan, war, world]|\n",
      "|      #vaccine|1380298538802765827|infectious diseas...|[infectious, dise...|[infectious, dise...|[infectious, dise...|\n",
      "|      #vaccine|1381494016211030016|do u truly trust ...|[do, u, truly, tr...|[do, u, truly, tr...|[truly, trust, sa...|\n",
      "|        #covid|1380766615189479425|         do u use q |     [do, u, use, q]|     [do, u, use, q]|               [use]|\n",
      "|        #biden|1380129673443696640|wants but gets am...|[wants, but, gets...|[want, but, get, ...|[want, get, domin...|\n",
      "|#stopasianhate|1380973739224010757|      queen of asia |   [queen, of, asia]|   [queen, of, asia]|       [queen, asia]|\n",
      "|        #covid|1381746356730101760|whats ur main for...|[whats, ur, main,...|[whats, ur, main,...| [whats, main, form]|\n",
      "|        #biden|1380127152847347714|no one wants to b...|[no, one, wants, ...|[no, one, want, t...|[one, want, buy, ...|\n",
      "|        #covid|1381347661396246531|domain for sale d...|[domain, for, sal...|[domain, for, sal...|[domain, sale, do...|\n",
      "|        #china|1380180497062629376|dm or comment rea...|[dm, or, comment,...|[dm, or, comment,...|[dm, comment, rea...|\n",
      "|        #biden|1380986061078282245|it was a lie our ...|[it, was, a, lie,...|[it, wa, a, lie, ...|     [wa, lie, govt]|\n",
      "|        #biden|1380521381704708098|new platform hypr...|[new, platform, h...|[new, platform, h...|[new, platform, h...|\n",
      "|        #china|1380182109097091072|don't miss out th...|[don't, miss, out...|[don't, miss, out...|[miss, great, opp...|\n",
      "|        #covid|1381753369576894465|the amazing singa...|[the, amazing, si...|[the, amazing, si...|[amazing, singapo...|\n",
      "|        #china|1381634037891047427|   learn holy quran |[learn, holy, quran]|[learn, holy, quran]|[learn, holy, quran]|\n",
      "|        #biden|1380131305090875393|if is booming why...|[if, is, booming,...|[if, is, booming,...|[booming, sent, a...|\n",
      "|        #biden|1380523377279041538|amp have lost con...|[amp, have, lost,...|[amp, have, lost,...|[lost, control, s...|\n",
      "|        #biden|1380521435295268871|stocks massively ...|[stocks, massivel...|[stock, massively...|[stock, massively...|\n",
      "|        #biden|1380634730476007428|we're in a catch ...|[we're, in, a, ca...|[we're, in, a, ca...|[catch, one, will...|\n",
      "|        #covid|1381749407490670596|mouse wireless up...|[mouse, wireless,...|[mouse, wireless,...|[mouse, wireless,...|\n",
      "+--------------+-------------------+--------------------+--------------------+--------------------+--------------------+\n",
      "only showing top 20 rows\n",
      "\n"
     ]
    }
   ],
   "source": [
    "#Removing stop words\n",
    "stopwordList = [\"u\",\"ur\", \"amp\", \"q\"] \n",
    "stopwordList.extend(StopWordsRemover().getStopWords())\n",
    "remover = StopWordsRemover(inputCol=\"lemmatized\", outputCol=\"filtered\" ,stopWords=stopwordList)\n",
    "dataset2 = remover.transform(dataset2)\n",
    "dataset2.show()"
   ]
  },
  {
   "cell_type": "code",
   "execution_count": 19,
   "metadata": {},
   "outputs": [],
   "source": [
    "#to get rid of words like v, q, wa\n",
    "#dataset2 = dataset2.withColumn(\"filtered2\", f.expr(\"filter(filtered, x -> not(length(x) < 3))\")).where(f.size(f.col(\"filtered2\")) > 0).drop(\"filtered\")\n",
    "#dataset2.show()"
   ]
  },
  {
   "cell_type": "code",
   "execution_count": 12,
   "metadata": {},
   "outputs": [
    {
     "name": "stdout",
     "output_type": "stream",
     "text": [
      "+-----------------------------------------------------------------------------------------------------------------+\n",
      "|filtered                                                                                                         |\n",
      "+-----------------------------------------------------------------------------------------------------------------+\n",
      "|[messan, war, world]                                                                                             |\n",
      "|[infectious, disease, designated, bed, drastic, decreasejapan]                                                   |\n",
      "|[truly, trust, safety]                                                                                           |\n",
      "|[use]                                                                                                            |\n",
      "|[want, get, dominates]                                                                                           |\n",
      "|[queen, asia]                                                                                                    |\n",
      "|[whats, main, form]                                                                                              |\n",
      "|[one, want, buy, top, low, volume, gone, presaging, plunge]                                                      |\n",
      "|[domain, sale, doge, com, coin, style]                                                                           |\n",
      "|[dm, comment, ready, life, nstyle]                                                                               |\n",
      "|[wa, lie, govt]                                                                                                  |\n",
      "|[new, platform, hyprr, udoo, making, noise, marketing, contentdata, control, w, better, monetization, freespeech]|\n",
      "|[miss, great, opportunity, life, nstyle]                                                                         |\n",
      "|[amazing, singapore, night, ig, united]                                                                          |\n",
      "|[learn, holy, quran]                                                                                             |\n",
      "|[booming, sent, american, pumping, billionmonth, support]                                                        |\n",
      "|[lost, control, supporting, 's, trillion, ha, reached, terminal, state]                                          |\n",
      "|[stock, massively, overbought, speculator, know, cowed, fear, dare, even, speak]                                 |\n",
      "|[catch, one, willing, say, game, drift, indefinitely, end, sight]                                                |\n",
      "|[mouse, wireless, ups, router, flash, memory, nline, digital]                                                    |\n",
      "+-----------------------------------------------------------------------------------------------------------------+\n",
      "only showing top 20 rows\n",
      "\n"
     ]
    }
   ],
   "source": [
    "dataset2.select(\"filtered\").show(truncate = False)"
   ]
  },
  {
   "cell_type": "markdown",
   "metadata": {},
   "source": [
    "## Bag of words"
   ]
  },
  {
   "cell_type": "code",
   "execution_count": 13,
   "metadata": {},
   "outputs": [
    {
     "name": "stdout",
     "output_type": "stream",
     "text": [
      "+--------------+-------------------+--------------------+--------------------+--------------------+--------------------+--------------------+----------+\n",
      "|         label|           tweet_id|          tweet_text|               words|          lemmatized|            filtered|            features|labelIndex|\n",
      "+--------------+-------------------+--------------------+--------------------+--------------------+--------------------+--------------------+----------+\n",
      "|        #china|1381303111222956033|could be a messan...|[could, be, a, me...|[could, be, a, me...|[messan, war, world]|(35020,[22,143,28...|       2.0|\n",
      "|      #vaccine|1380298538802765827|infectious diseas...|[infectious, dise...|[infectious, dise...|[infectious, dise...|(35020,[363,632,3...|       1.0|\n",
      "|      #vaccine|1381494016211030016|do u truly trust ...|[do, u, truly, tr...|[do, u, truly, tr...|[truly, trust, sa...|(35020,[406,725,1...|       1.0|\n",
      "|        #covid|1380766615189479425|         do u use q |     [do, u, use, q]|     [do, u, use, q]|               [use]| (35020,[101],[1.0])|       0.0|\n",
      "|        #biden|1380129673443696640|wants but gets am...|[wants, but, gets...|[want, but, get, ...|[want, get, domin...|(35020,[4,35,3494...|       4.0|\n",
      "|#stopasianhate|1380973739224010757|      queen of asia |   [queen, of, asia]|   [queen, of, asia]|       [queen, asia]|(35020,[1151,2003...|       3.0|\n",
      "|        #covid|1381746356730101760|whats ur main for...|[whats, ur, main,...|[whats, ur, main,...| [whats, main, form]|(35020,[711,799,8...|       0.0|\n",
      "|        #biden|1380127152847347714|no one wants to b...|[no, one, wants, ...|[no, one, want, t...|[one, want, buy, ...|(35020,[7,35,186,...|       4.0|\n",
      "|        #covid|1381347661396246531|domain for sale d...|[domain, for, sal...|[domain, for, sal...|[domain, sale, do...|(35020,[415,1669,...|       0.0|\n",
      "|        #china|1380180497062629376|dm or comment rea...|[dm, or, comment,...|[dm, or, comment,...|[dm, comment, rea...|(35020,[39,471,50...|       2.0|\n",
      "|        #biden|1380986061078282245|it was a lie our ...|[it, was, a, lie,...|[it, wa, a, lie, ...|     [wa, lie, govt]|(35020,[6,184,301...|       4.0|\n",
      "|        #biden|1380521381704708098|new platform hypr...|[new, platform, h...|[new, platform, h...|[new, platform, h...|(35020,[5,129,134...|       4.0|\n",
      "|        #china|1380182109097091072|don't miss out th...|[don't, miss, out...|[don't, miss, out...|[miss, great, opp...|(35020,[39,110,69...|       2.0|\n",
      "|        #covid|1381753369576894465|the amazing singa...|[the, amazing, si...|[the, amazing, si...|[amazing, singapo...|(35020,[453,484,6...|       0.0|\n",
      "|        #china|1381634037891047427|   learn holy quran |[learn, holy, quran]|[learn, holy, quran]|[learn, holy, quran]|(35020,[308,3120,...|       2.0|\n",
      "|        #biden|1380131305090875393|if is booming why...|[if, is, booming,...|[if, is, booming,...|[booming, sent, a...|(35020,[63,71,100...|       4.0|\n",
      "|        #biden|1380523377279041538|amp have lost con...|[amp, have, lost,...|[amp, have, lost,...|[lost, control, s...|(35020,[2,25,26,1...|       4.0|\n",
      "|        #biden|1380521435295268871|stocks massively ...|[stocks, massivel...|[stock, massively...|[stock, massively...|(35020,[24,42,319...|       4.0|\n",
      "|        #biden|1380634730476007428|we're in a catch ...|[we're, in, a, ca...|[we're, in, a, ca...|[catch, one, will...|(35020,[7,16,115,...|       4.0|\n",
      "|        #covid|1381749407490670596|mouse wireless up...|[mouse, wireless,...|[mouse, wireless,...|[mouse, wireless,...|(35020,[450,2884,...|       0.0|\n",
      "+--------------+-------------------+--------------------+--------------------+--------------------+--------------------+--------------------+----------+\n",
      "only showing top 20 rows\n",
      "\n"
     ]
    }
   ],
   "source": [
    "#Vectorizing\n",
    "from pyspark.ml.feature import CountVectorizer, StringIndexer\n",
    "from pyspark.ml import Pipeline\n",
    "\n",
    "cv = CountVectorizer(inputCol=\"filtered\", outputCol=\"features\")\n",
    "label_stringIdx = StringIndexer(inputCol = \"label\", outputCol = \"labelIndex\")\n",
    "\n",
    "pipeline = Pipeline(stages=[cv, label_stringIdx])\n",
    "\n",
    "pipelineFit = pipeline.fit(dataset2)\n",
    "dataset2= pipelineFit.transform(dataset2)\n",
    "dataset2.show()"
   ]
  },
  {
   "cell_type": "markdown",
   "metadata": {},
   "source": [
    "## Train and test split"
   ]
  },
  {
   "cell_type": "code",
   "execution_count": 14,
   "metadata": {},
   "outputs": [
    {
     "name": "stdout",
     "output_type": "stream",
     "text": [
      "Training Dataset Count: 13524\n",
      "Test Dataset Count: 5886\n"
     ]
    }
   ],
   "source": [
    "(trainingData2, testData2) = dataset2.randomSplit([0.7, 0.3], seed = 100)\n",
    "print(\"Training Dataset Count: \" + str(trainingData2.count()))\n",
    "print(\"Test Dataset Count: \" + str(testData2.count()))"
   ]
  },
  {
   "cell_type": "markdown",
   "metadata": {},
   "source": [
    "## Logistic Regression"
   ]
  },
  {
   "cell_type": "code",
   "execution_count": 15,
   "metadata": {},
   "outputs": [],
   "source": [
    "from pyspark.ml.classification import LogisticRegression\n",
    "lr = LogisticRegression(labelCol = \"labelIndex\", featuresCol = \"features\", maxIter=20, regParam=0.3, elasticNetParam=0)\n",
    "lrModel = lr.fit(trainingData2)\n",
    "lrPredictions = lrModel.transform(testData2)"
   ]
  },
  {
   "cell_type": "code",
   "execution_count": 16,
   "metadata": {},
   "outputs": [
    {
     "name": "stdout",
     "output_type": "stream",
     "text": [
      "+----------+----------+\n",
      "|prediction|labelIndex|\n",
      "+----------+----------+\n",
      "|       4.0|       4.0|\n",
      "|       4.0|       4.0|\n",
      "|       4.0|       4.0|\n",
      "|       4.0|       4.0|\n",
      "|       4.0|       4.0|\n",
      "|       4.0|       4.0|\n",
      "|       0.0|       4.0|\n",
      "|       4.0|       4.0|\n",
      "|       1.0|       4.0|\n",
      "|       4.0|       4.0|\n",
      "|       4.0|       4.0|\n",
      "|       0.0|       4.0|\n",
      "|       2.0|       4.0|\n",
      "|       3.0|       4.0|\n",
      "|       0.0|       4.0|\n",
      "|       0.0|       4.0|\n",
      "|       0.0|       4.0|\n",
      "|       0.0|       4.0|\n",
      "|       0.0|       4.0|\n",
      "|       1.0|       4.0|\n",
      "+----------+----------+\n",
      "only showing top 20 rows\n",
      "\n"
     ]
    }
   ],
   "source": [
    "lrPredictions.select(\"prediction\", \"labelIndex\").show()"
   ]
  },
  {
   "cell_type": "code",
   "execution_count": 17,
   "metadata": {},
   "outputs": [
    {
     "name": "stdout",
     "output_type": "stream",
     "text": [
      "+----------+-----+\n",
      "|prediction|count|\n",
      "+----------+-----+\n",
      "|       0.0| 2243|\n",
      "|       1.0| 1510|\n",
      "|       2.0|  990|\n",
      "|       3.0|  596|\n",
      "|       4.0|  525|\n",
      "|       5.0|   22|\n",
      "+----------+-----+\n",
      "\n"
     ]
    }
   ],
   "source": [
    "import pyspark.sql.functions as col\n",
    "lrPredictions.groupBy(\"prediction\").count().orderBy(f.col(\"count\").desc()).show()"
   ]
  },
  {
   "cell_type": "markdown",
   "metadata": {},
   "source": [
    "### Evaluation"
   ]
  },
  {
   "cell_type": "code",
   "execution_count": 18,
   "metadata": {},
   "outputs": [
    {
     "name": "stdout",
     "output_type": "stream",
     "text": [
      "0.6236833163438668\n",
      "Test Error = 0.376317 \n"
     ]
    }
   ],
   "source": [
    "from pyspark.ml.evaluation import MulticlassClassificationEvaluator\n",
    "# Select (prediction, true label) and compute accuracy\n",
    "evaluator = MulticlassClassificationEvaluator(\n",
    "    labelCol=\"labelIndex\", predictionCol=\"prediction\", metricName=\"accuracy\")\n",
    "accuracy = evaluator.evaluate(lrPredictions)\n",
    "print(accuracy)\n",
    "print(\"Test Error = %g \" % (1.0 - accuracy))"
   ]
  },
  {
   "cell_type": "code",
   "execution_count": 19,
   "metadata": {},
   "outputs": [
    {
     "name": "stdout",
     "output_type": "stream",
     "text": [
      "False positive rate by label:\n",
      "label 0: 0.03883594630597397\n",
      "label 1: 0.02149912841371296\n",
      "label 2: 0.0028403884918453363\n",
      "label 3: 0.0006014779171678983\n",
      "label 4: 0.0015329586101175269\n",
      "label 5: 0.0\n",
      "True positive rate by label:\n",
      "label 0: 0.9699867197875166\n",
      "label 1: 0.9627892432770482\n",
      "label 2: 0.9578544061302682\n",
      "label 3: 0.9453870625662778\n",
      "label 4: 0.9124579124579124\n",
      "label 5: 0.8021201413427562\n",
      "Precision by label:\n",
      "label 0: 0.9059786653435872\n",
      "label 1: 0.932747652226598\n",
      "label 2: 0.9877518767285658\n",
      "label 3: 0.9960893854748604\n",
      "label 4: 0.9890510948905109\n",
      "label 5: 1.0\n",
      "Recall by label:\n",
      "label 0: 0.9699867197875166\n",
      "label 1: 0.9627892432770482\n",
      "label 2: 0.9578544061302682\n",
      "label 3: 0.9453870625662778\n",
      "label 4: 0.9124579124579124\n",
      "label 5: 0.8021201413427562\n",
      "F-measure by label:\n",
      "label 0: 0.9368907131862494\n",
      "label 1: 0.94753038929066\n",
      "label 2: 0.9725734292939118\n",
      "label 3: 0.970076169749728\n",
      "label 4: 0.9492119089316987\n",
      "label 5: 0.8901960784313726\n",
      "Accuracy: 0.9514196983141082\n",
      "FPR: 0.016729598052925943\n",
      "TPR: 0.9514196983141082\n",
      "F-measure: 0.9515673719768724\n",
      "Precision: 0.9535701491571502\n",
      "Recall: 0.9514196983141082\n"
     ]
    }
   ],
   "source": [
    "trainingSummary = lrModel.summary\n",
    "\n",
    "print(\"False positive rate by label:\")\n",
    "for i, rate in enumerate(trainingSummary.falsePositiveRateByLabel):\n",
    "    print(\"label %d: %s\" % (i, rate))\n",
    "\n",
    "print(\"True positive rate by label:\")\n",
    "for i, rate in enumerate(trainingSummary.truePositiveRateByLabel):\n",
    "    print(\"label %d: %s\" % (i, rate))\n",
    "\n",
    "print(\"Precision by label:\")\n",
    "for i, prec in enumerate(trainingSummary.precisionByLabel):\n",
    "    print(\"label %d: %s\" % (i, prec))\n",
    "\n",
    "print(\"Recall by label:\")\n",
    "for i, rec in enumerate(trainingSummary.recallByLabel):\n",
    "    print(\"label %d: %s\" % (i, rec))\n",
    "\n",
    "print(\"F-measure by label:\")\n",
    "for i, f in enumerate(trainingSummary.fMeasureByLabel()):\n",
    "    print(\"label %d: %s\" % (i, f))\n",
    "\n",
    "accuracy = trainingSummary.accuracy\n",
    "falsePositiveRate = trainingSummary.weightedFalsePositiveRate\n",
    "truePositiveRate = trainingSummary.weightedTruePositiveRate\n",
    "fMeasure = trainingSummary.weightedFMeasure()\n",
    "precision = trainingSummary.weightedPrecision\n",
    "recall = trainingSummary.weightedRecall\n",
    "print(\"Accuracy: %s\\nFPR: %s\\nTPR: %s\\nF-measure: %s\\nPrecision: %s\\nRecall: %s\"\n",
    "      % (accuracy, falsePositiveRate, truePositiveRate, fMeasure, precision, recall))"
   ]
  },
  {
   "cell_type": "code",
   "execution_count": 25,
   "metadata": {},
   "outputs": [],
   "source": [
    "from pyspark.mllib.classification import LogisticRegressionWithLBFGS\n",
    "from pyspark.mllib.util import MLUtils\n",
    "from pyspark.mllib.evaluation import MulticlassMetrics"
   ]
  },
  {
   "cell_type": "code",
   "execution_count": 62,
   "metadata": {},
   "outputs": [],
   "source": [
    "from pyspark.ml.evaluation import MulticlassClassificationEvaluator\n",
    "\n",
    "# Create both evaluators\n",
    "evaluatorMulti = MulticlassClassificationEvaluator(labelCol=\"labelIndex\", predictionCol=\"prediction\")\n",
    "\n",
    "# Make predicitons\n",
    "predictionAndTarget = lrPredictions.select(\"prediction\", \"labelIndex\")\n",
    "\n",
    "# Get metrics\n",
    "acc = evaluatorMulti.evaluate(predictionAndTarget, {evaluatorMulti.metricName: \"accuracy\"})\n",
    "f1 = evaluatorMulti.evaluate(predictionAndTarget, {evaluatorMulti.metricName: \"f1\"})\n",
    "weightedPrecision = evaluatorMulti.evaluate(predictionAndTarget, {evaluatorMulti.metricName: \"weightedPrecision\"})\n",
    "weightedRecall = evaluatorMulti.evaluate(predictionAndTarget, {evaluatorMulti.metricName: \"weightedRecall\"})\n",
    "auc = evaluator.evaluate(predictionAndTarget)"
   ]
  },
  {
   "cell_type": "code",
   "execution_count": 63,
   "metadata": {},
   "outputs": [
    {
     "data": {
      "text/plain": [
       "0.6251285894838685"
      ]
     },
     "execution_count": 63,
     "metadata": {},
     "output_type": "execute_result"
    }
   ],
   "source": [
    "evaluatorMulti.evaluate(predictionAndTarget) #gives F1 score\n"
   ]
  },
  {
   "cell_type": "code",
   "execution_count": 64,
   "metadata": {},
   "outputs": [
    {
     "name": "stdout",
     "output_type": "stream",
     "text": [
      "ACC: 0.6236833163438668\n",
      "F1 score: 0.6251285894838685\n",
      "Weighted Precision: 0.6588853632667037\n",
      "Weighted Recall: 0.6236833163438668\n",
      "AUC: 0.6236833163438668\n"
     ]
    }
   ],
   "source": [
    "print(\"ACC: %s\" % acc)\n",
    "print(\"F1 score: %s\" % f1)\n",
    "print(\"Weighted Precision: %s\" % weightedPrecision)\n",
    "print(\"Weighted Recall: %s\" % weightedRecall)\n",
    "print(\"AUC: %s\" % auc)"
   ]
  },
  {
   "cell_type": "code",
   "execution_count": 65,
   "metadata": {},
   "outputs": [
    {
     "ename": "AttributeError",
     "evalue": "module 'sklearn.metrics' has no attribute 'precision'",
     "output_type": "error",
     "traceback": [
      "\u001b[0;31m---------------------------------------------------------------------------\u001b[0m",
      "\u001b[0;31mAttributeError\u001b[0m                            Traceback (most recent call last)",
      "\u001b[0;32m<ipython-input-65-61f2b5a028c4>\u001b[0m in \u001b[0;36m<module>\u001b[0;34m\u001b[0m\n\u001b[1;32m      1\u001b[0m \u001b[0;31m# Overall statistics\u001b[0m\u001b[0;34m\u001b[0m\u001b[0;34m\u001b[0m\u001b[0;34m\u001b[0m\u001b[0m\n\u001b[0;32m----> 2\u001b[0;31m \u001b[0mprecision\u001b[0m \u001b[0;34m=\u001b[0m \u001b[0mmetrics\u001b[0m\u001b[0;34m.\u001b[0m\u001b[0mprecision\u001b[0m\u001b[0;34m(\u001b[0m\u001b[0;34m)\u001b[0m\u001b[0;34m\u001b[0m\u001b[0;34m\u001b[0m\u001b[0m\n\u001b[0m\u001b[1;32m      3\u001b[0m \u001b[0mrecall\u001b[0m \u001b[0;34m=\u001b[0m \u001b[0mmetrics\u001b[0m\u001b[0;34m.\u001b[0m\u001b[0mrecall\u001b[0m\u001b[0;34m(\u001b[0m\u001b[0;34m)\u001b[0m\u001b[0;34m\u001b[0m\u001b[0;34m\u001b[0m\u001b[0m\n\u001b[1;32m      4\u001b[0m \u001b[0mf1Score\u001b[0m \u001b[0;34m=\u001b[0m \u001b[0mmetrics\u001b[0m\u001b[0;34m.\u001b[0m\u001b[0mfMeasure\u001b[0m\u001b[0;34m(\u001b[0m\u001b[0;34m)\u001b[0m\u001b[0;34m\u001b[0m\u001b[0;34m\u001b[0m\u001b[0m\n\u001b[1;32m      5\u001b[0m \u001b[0mprint\u001b[0m\u001b[0;34m(\u001b[0m\u001b[0;34m\"Summary Stats\"\u001b[0m\u001b[0;34m)\u001b[0m\u001b[0;34m\u001b[0m\u001b[0;34m\u001b[0m\u001b[0m\n",
      "\u001b[0;31mAttributeError\u001b[0m: module 'sklearn.metrics' has no attribute 'precision'"
     ]
    }
   ],
   "source": [
    "# Overall statistics\n",
    "precision = metrics.precision()\n",
    "recall = metrics.recall()\n",
    "f1Score = metrics.fMeasure()\n",
    "print(\"Summary Stats\")\n",
    "print(\"Precision = %s\" % precision)\n",
    "print(\"Recall = %s\" % recall)\n",
    "print(\"F1 Score = %s\" % f1Score)\n",
    "\n",
    "# Statistics by class\n",
    "labels = data.map(lambda lp: lp.label).distinct().collect()\n",
    "for label in sorted(labels):\n",
    "    print(\"Class %s precision = %s\" % (label, metrics.precision(label)))\n",
    "    print(\"Class %s recall = %s\" % (label, metrics.recall(label)))\n",
    "    print(\"Class %s F1 Measure = %s\" % (label, metrics.fMeasure(label, beta=1.0)))\n",
    "\n",
    "# Weighted stats\n",
    "print(\"Weighted recall = %s\" % metrics.weightedRecall)\n",
    "print(\"Weighted precision = %s\" % metrics.weightedPrecision)\n",
    "print(\"Weighted F(1) Score = %s\" % metrics.weightedFMeasure())\n",
    "print(\"Weighted F(0.5) Score = %s\" % metrics.weightedFMeasure(beta=0.5))\n",
    "print(\"Weighted false positive rate = %s\" % metrics.weightedFalsePositiveRate)"
   ]
  },
  {
   "cell_type": "code",
   "execution_count": 60,
   "metadata": {},
   "outputs": [
    {
     "ename": "AttributeError",
     "evalue": "'LogisticRegressionTrainingSummary' object has no attribute 'roc'",
     "output_type": "error",
     "traceback": [
      "\u001b[0;31m---------------------------------------------------------------------------\u001b[0m",
      "\u001b[0;31mAttributeError\u001b[0m                            Traceback (most recent call last)",
      "\u001b[0;32m<ipython-input-60-a4a0af50198d>\u001b[0m in \u001b[0;36m<module>\u001b[0;34m\u001b[0m\n\u001b[1;32m      8\u001b[0m \u001b[0;34m\u001b[0m\u001b[0m\n\u001b[1;32m      9\u001b[0m \u001b[0;31m# Obtain the receiver-operating characteristic as a dataframe and areaUnderROC.\u001b[0m\u001b[0;34m\u001b[0m\u001b[0;34m\u001b[0m\u001b[0;34m\u001b[0m\u001b[0m\n\u001b[0;32m---> 10\u001b[0;31m \u001b[0mtrainingSummary\u001b[0m\u001b[0;34m.\u001b[0m\u001b[0mroc\u001b[0m\u001b[0;34m.\u001b[0m\u001b[0mshow\u001b[0m\u001b[0;34m(\u001b[0m\u001b[0;36m5\u001b[0m\u001b[0;34m)\u001b[0m\u001b[0;34m\u001b[0m\u001b[0;34m\u001b[0m\u001b[0m\n\u001b[0m\u001b[1;32m     11\u001b[0m \u001b[0mprint\u001b[0m\u001b[0;34m(\u001b[0m\u001b[0;34m\"areaUnderROC: \"\u001b[0m \u001b[0;34m+\u001b[0m \u001b[0mstr\u001b[0m\u001b[0;34m(\u001b[0m\u001b[0mtrainingSummary\u001b[0m\u001b[0;34m.\u001b[0m\u001b[0mareaUnderROC\u001b[0m\u001b[0;34m)\u001b[0m\u001b[0;34m)\u001b[0m\u001b[0;34m\u001b[0m\u001b[0;34m\u001b[0m\u001b[0m\n\u001b[1;32m     12\u001b[0m \u001b[0;34m\u001b[0m\u001b[0m\n",
      "\u001b[0;31mAttributeError\u001b[0m: 'LogisticRegressionTrainingSummary' object has no attribute 'roc'"
     ]
    }
   ],
   "source": [
    "# this part does not work for now\n",
    "\n",
    "trainingSummary = lrModel.summary\n",
    "\n",
    "# Obtain the objective per iteration\n",
    "# objectiveHistory = trainingSummary.objectiveHistory\n",
    "# print(\"objectiveHistory:\")\n",
    "# for objective in objectiveHistory:\n",
    "#     print(objective)\n",
    "\n",
    "# Obtain the receiver-operating characteristic as a dataframe and areaUnderROC.\n",
    "trainingSummary.roc.show(5)\n",
    "print(\"areaUnderROC: \" + str(trainingSummary.areaUnderROC))\n",
    "\n",
    "# Set the model threshold to maximize F-Measure\n",
    "fMeasure = trainingSummary.fMeasureByThreshold\n",
    "maxFMeasure = fMeasure.groupBy().max('F-Measure').select('max(F-Measure)').head(5)\n",
    "# bestThreshold = fMeasure.where(fMeasure['F-Measure'] == maxFMeasure['max(F-Measure)']) \\\n",
    "#     .select('threshold').head()['threshold']\n",
    "# lr.setThreshold(bestThreshold)"
   ]
  },
  {
   "cell_type": "code",
   "execution_count": 61,
   "metadata": {},
   "outputs": [
    {
     "name": "stdout",
     "output_type": "stream",
     "text": [
      "Coefficients: \n",
      "DenseMatrix([[ 4.79211769e-02,  1.57872402e-01,  4.66665461e-02, ...,\n",
      "               0.00000000e+00,  2.52368007e-01,  6.46537556e-01],\n",
      "             [ 2.12995752e-01,  1.20259845e-01, -2.48281289e-02, ...,\n",
      "               0.00000000e+00, -6.65230614e-02, -3.63800257e-01],\n",
      "             [-6.96676228e-02, -8.78544295e-02,  4.14897531e-02, ...,\n",
      "               0.00000000e+00, -5.46761749e-02, -1.00894023e-01],\n",
      "             [-8.85063169e-02, -8.73097362e-02, -4.51749307e-02, ...,\n",
      "               0.00000000e+00, -4.97415097e-02, -8.36202774e-02],\n",
      "             [-7.90924055e-02, -7.91638327e-02, -1.80136599e-02, ...,\n",
      "               0.00000000e+00, -6.99523592e-02, -7.61314736e-02],\n",
      "             [-2.36505842e-02, -2.38042486e-02, -1.39579617e-04, ...,\n",
      "               0.00000000e+00, -1.14749022e-02, -2.20915253e-02]])\n"
     ]
    }
   ],
   "source": [
    "print(\"Coefficients: \\n\" + str(lrModel.coefficientMatrix))"
   ]
  },
  {
   "cell_type": "code",
   "execution_count": 66,
   "metadata": {},
   "outputs": [],
   "source": [
    "import matplotlib.pyplot as plt\n",
    "import numpy as np\n",
    "import itertools\n",
    "\n",
    "def plot_confusion_matrix(cm, classes,\n",
    "                          normalize=False,\n",
    "                          title='Confusion matrix',\n",
    "                          cmap=plt.cm.Blues):\n",
    "    \"\"\"\n",
    "    This function prints and plots the confusion matrix.\n",
    "    Normalization can be applied by setting `normalize=True`.\n",
    "    \"\"\"\n",
    "    if normalize:\n",
    "        cm = cm.astype('float') / cm.sum(axis=1)[:, np.newaxis]\n",
    "        print(\"Normalized confusion matrix\")\n",
    "    else:\n",
    "        print('Confusion matrix, without normalization')\n",
    "\n",
    "    print(cm)\n",
    "\n",
    "    plt.imshow(cm, interpolation='nearest', cmap=cmap)\n",
    "    plt.title(title)\n",
    "    plt.colorbar()\n",
    "    tick_marks = np.arange(len(classes))\n",
    "    plt.xticks(tick_marks, classes, rotation=45)\n",
    "    plt.yticks(tick_marks, classes)\n",
    "\n",
    "    fmt = '.2f' if normalize else 'd'\n",
    "    thresh = cm.max() / 2.\n",
    "    for i, j in itertools.product(range(cm.shape[0]), range(cm.shape[1])):\n",
    "        plt.text(j, i, format(cm[i, j], fmt),\n",
    "                 horizontalalignment=\"center\",\n",
    "                 color=\"white\" if cm[i, j] > thresh else \"black\")\n",
    "\n",
    "    plt.tight_layout()\n",
    "    plt.ylabel('True label')\n",
    "    plt.xlabel('Predicted label')"
   ]
  },
  {
   "cell_type": "code",
   "execution_count": 72,
   "metadata": {},
   "outputs": [
    {
     "data": {
      "text/plain": [
       "<map at 0x7f99fd01a190>"
      ]
     },
     "execution_count": 72,
     "metadata": {},
     "output_type": "execute_result"
    }
   ],
   "source": [
    "class_temp = lrPredictions.select(\"labelIndex\").groupBy(\"labelIndex\").count().sort('count', ascending=False).toPandas()\n",
    "class_temp = class_temp[\"labelIndex\"].values.tolist()\n",
    "class_names = map(str, class_temp)\n",
    "#print(class_name)\n",
    "class_names"
   ]
  },
  {
   "cell_type": "code",
   "execution_count": 80,
   "metadata": {},
   "outputs": [
    {
     "data": {
      "text/plain": [
       "array([[1162,  370,   82,   17,   38,    0],\n",
       "       [ 433,  845,   34,    8,   19,    0],\n",
       "       [ 253,  123,  716,   17,   42,    1],\n",
       "       [ 159,   56,   35,  530,   19,    0],\n",
       "       [ 198,  102,   89,   21,  398,    1],\n",
       "       [  38,   14,   34,    3,    9,   20]])"
      ]
     },
     "execution_count": 80,
     "metadata": {},
     "output_type": "execute_result"
    }
   ],
   "source": [
    "from sklearn.metrics import confusion_matrix\n",
    "y_true = lrPredictions.select(\"labelIndex\")\n",
    "y_true = y_true.toPandas()\n",
    "\n",
    "y_pred = lrPredictions.select(\"prediction\")\n",
    "y_pred = y_pred.toPandas()\n",
    "\n",
    "cnf_matrix = confusion_matrix(y_true, y_pred)\n",
    "cnf_matrix\n"
   ]
  },
  {
   "cell_type": "code",
   "execution_count": 83,
   "metadata": {},
   "outputs": [
    {
     "name": "stdout",
     "output_type": "stream",
     "text": [
      "Confusion matrix, without normalization\n",
      "[[1162  370   82   17   38    0]\n",
      " [ 433  845   34    8   19    0]\n",
      " [ 253  123  716   17   42    1]\n",
      " [ 159   56   35  530   19    0]\n",
      " [ 198  102   89   21  398    1]\n",
      " [  38   14   34    3    9   20]]\n"
     ]
    },
    {
     "ename": "TypeError",
     "evalue": "object of type 'map' has no len()",
     "output_type": "error",
     "traceback": [
      "\u001b[0;31m---------------------------------------------------------------------------\u001b[0m",
      "\u001b[0;31mTypeError\u001b[0m                                 Traceback (most recent call last)",
      "\u001b[0;32m<ipython-input-83-10d3cf449c29>\u001b[0m in \u001b[0;36m<module>\u001b[0;34m\u001b[0m\n\u001b[1;32m      1\u001b[0m \u001b[0;31m# Plot non-normalized confusion matrix\u001b[0m\u001b[0;34m\u001b[0m\u001b[0;34m\u001b[0m\u001b[0;34m\u001b[0m\u001b[0m\n\u001b[1;32m      2\u001b[0m \u001b[0mplt\u001b[0m\u001b[0;34m.\u001b[0m\u001b[0mfigure\u001b[0m\u001b[0;34m(\u001b[0m\u001b[0;34m)\u001b[0m\u001b[0;34m\u001b[0m\u001b[0;34m\u001b[0m\u001b[0m\n\u001b[0;32m----> 3\u001b[0;31m \u001b[0mplot_confusion_matrix\u001b[0m\u001b[0;34m(\u001b[0m\u001b[0mcnf_matrix\u001b[0m\u001b[0;34m,\u001b[0m \u001b[0mclasses\u001b[0m\u001b[0;34m=\u001b[0m\u001b[0mclass_names\u001b[0m\u001b[0;34m,\u001b[0m\u001b[0mtitle\u001b[0m\u001b[0;34m=\u001b[0m\u001b[0;34m'Confusion matrix, without normalization'\u001b[0m\u001b[0;34m)\u001b[0m\u001b[0;34m\u001b[0m\u001b[0;34m\u001b[0m\u001b[0m\n\u001b[0m\u001b[1;32m      4\u001b[0m \u001b[0mplt\u001b[0m\u001b[0;34m.\u001b[0m\u001b[0mshow\u001b[0m\u001b[0;34m(\u001b[0m\u001b[0;34m)\u001b[0m\u001b[0;34m\u001b[0m\u001b[0;34m\u001b[0m\u001b[0m\n",
      "\u001b[0;32m<ipython-input-66-075349c41333>\u001b[0m in \u001b[0;36mplot_confusion_matrix\u001b[0;34m(cm, classes, normalize, title, cmap)\u001b[0m\n\u001b[1;32m     22\u001b[0m     \u001b[0mplt\u001b[0m\u001b[0;34m.\u001b[0m\u001b[0mtitle\u001b[0m\u001b[0;34m(\u001b[0m\u001b[0mtitle\u001b[0m\u001b[0;34m)\u001b[0m\u001b[0;34m\u001b[0m\u001b[0;34m\u001b[0m\u001b[0m\n\u001b[1;32m     23\u001b[0m     \u001b[0mplt\u001b[0m\u001b[0;34m.\u001b[0m\u001b[0mcolorbar\u001b[0m\u001b[0;34m(\u001b[0m\u001b[0;34m)\u001b[0m\u001b[0;34m\u001b[0m\u001b[0;34m\u001b[0m\u001b[0m\n\u001b[0;32m---> 24\u001b[0;31m     \u001b[0mtick_marks\u001b[0m \u001b[0;34m=\u001b[0m \u001b[0mnp\u001b[0m\u001b[0;34m.\u001b[0m\u001b[0marange\u001b[0m\u001b[0;34m(\u001b[0m\u001b[0mlen\u001b[0m\u001b[0;34m(\u001b[0m\u001b[0mclasses\u001b[0m\u001b[0;34m)\u001b[0m\u001b[0;34m)\u001b[0m\u001b[0;34m\u001b[0m\u001b[0;34m\u001b[0m\u001b[0m\n\u001b[0m\u001b[1;32m     25\u001b[0m     \u001b[0mplt\u001b[0m\u001b[0;34m.\u001b[0m\u001b[0mxticks\u001b[0m\u001b[0;34m(\u001b[0m\u001b[0mtick_marks\u001b[0m\u001b[0;34m,\u001b[0m \u001b[0mclasses\u001b[0m\u001b[0;34m,\u001b[0m \u001b[0mrotation\u001b[0m\u001b[0;34m=\u001b[0m\u001b[0;36m45\u001b[0m\u001b[0;34m)\u001b[0m\u001b[0;34m\u001b[0m\u001b[0;34m\u001b[0m\u001b[0m\n\u001b[1;32m     26\u001b[0m     \u001b[0mplt\u001b[0m\u001b[0;34m.\u001b[0m\u001b[0myticks\u001b[0m\u001b[0;34m(\u001b[0m\u001b[0mtick_marks\u001b[0m\u001b[0;34m,\u001b[0m \u001b[0mclasses\u001b[0m\u001b[0;34m)\u001b[0m\u001b[0;34m\u001b[0m\u001b[0;34m\u001b[0m\u001b[0m\n",
      "\u001b[0;31mTypeError\u001b[0m: object of type 'map' has no len()"
     ]
    },
    {
     "data": {
      "image/png": "[encoded data removed]",
      "text/plain": [
       "<Figure size 432x288 with 2 Axes>"
      ]
     },
     "metadata": {
      "needs_background": "light"
     },
     "output_type": "display_data"
    }
   ],
   "source": [
    "# Plot non-normalized confusion matrix\n",
    "plt.figure()\n",
    "plot_confusion_matrix(cnf_matrix, classes=class_names,title='Confusion matrix, without normalization')\n",
    "plt.show()"
   ]
  },
  {
   "cell_type": "code",
   "execution_count": 84,
   "metadata": {},
   "outputs": [
    {
     "name": "stdout",
     "output_type": "stream",
     "text": [
      "Normalized confusion matrix\n",
      "[[0.69622528 0.22168963 0.04913122 0.01018574 0.02276812 0.        ]\n",
      " [0.32337565 0.63106796 0.02539208 0.00597461 0.01418969 0.        ]\n",
      " [0.21961806 0.10677083 0.62152778 0.01475694 0.03645833 0.00086806]\n",
      " [0.19899875 0.07008761 0.04380476 0.66332916 0.02377972 0.        ]\n",
      " [0.2447466  0.12608158 0.11001236 0.02595797 0.49196539 0.00123609]\n",
      " [0.3220339  0.11864407 0.28813559 0.02542373 0.07627119 0.16949153]]\n"
     ]
    },
    {
     "ename": "TypeError",
     "evalue": "object of type 'map' has no len()",
     "output_type": "error",
     "traceback": [
      "\u001b[0;31m---------------------------------------------------------------------------\u001b[0m",
      "\u001b[0;31mTypeError\u001b[0m                                 Traceback (most recent call last)",
      "\u001b[0;32m<ipython-input-84-5e484433146b>\u001b[0m in \u001b[0;36m<module>\u001b[0;34m\u001b[0m\n\u001b[1;32m      1\u001b[0m \u001b[0;31m# Plot normalized confusion matrix\u001b[0m\u001b[0;34m\u001b[0m\u001b[0;34m\u001b[0m\u001b[0;34m\u001b[0m\u001b[0m\n\u001b[1;32m      2\u001b[0m \u001b[0mplt\u001b[0m\u001b[0;34m.\u001b[0m\u001b[0mfigure\u001b[0m\u001b[0;34m(\u001b[0m\u001b[0;34m)\u001b[0m\u001b[0;34m\u001b[0m\u001b[0;34m\u001b[0m\u001b[0m\n\u001b[0;32m----> 3\u001b[0;31m \u001b[0mplot_confusion_matrix\u001b[0m\u001b[0;34m(\u001b[0m\u001b[0mcnf_matrix\u001b[0m\u001b[0;34m,\u001b[0m \u001b[0mclasses\u001b[0m\u001b[0;34m=\u001b[0m\u001b[0mclass_names\u001b[0m\u001b[0;34m,\u001b[0m \u001b[0mnormalize\u001b[0m\u001b[0;34m=\u001b[0m\u001b[0;32mTrue\u001b[0m\u001b[0;34m,\u001b[0m\u001b[0mtitle\u001b[0m\u001b[0;34m=\u001b[0m\u001b[0;34m'Normalized confusion matrix'\u001b[0m\u001b[0;34m)\u001b[0m\u001b[0;34m\u001b[0m\u001b[0;34m\u001b[0m\u001b[0m\n\u001b[0m\u001b[1;32m      4\u001b[0m \u001b[0;34m\u001b[0m\u001b[0m\n\u001b[1;32m      5\u001b[0m \u001b[0mplt\u001b[0m\u001b[0;34m.\u001b[0m\u001b[0mshow\u001b[0m\u001b[0;34m(\u001b[0m\u001b[0;34m)\u001b[0m\u001b[0;34m\u001b[0m\u001b[0;34m\u001b[0m\u001b[0m\n",
      "\u001b[0;32m<ipython-input-66-075349c41333>\u001b[0m in \u001b[0;36mplot_confusion_matrix\u001b[0;34m(cm, classes, normalize, title, cmap)\u001b[0m\n\u001b[1;32m     22\u001b[0m     \u001b[0mplt\u001b[0m\u001b[0;34m.\u001b[0m\u001b[0mtitle\u001b[0m\u001b[0;34m(\u001b[0m\u001b[0mtitle\u001b[0m\u001b[0;34m)\u001b[0m\u001b[0;34m\u001b[0m\u001b[0;34m\u001b[0m\u001b[0m\n\u001b[1;32m     23\u001b[0m     \u001b[0mplt\u001b[0m\u001b[0;34m.\u001b[0m\u001b[0mcolorbar\u001b[0m\u001b[0;34m(\u001b[0m\u001b[0;34m)\u001b[0m\u001b[0;34m\u001b[0m\u001b[0;34m\u001b[0m\u001b[0m\n\u001b[0;32m---> 24\u001b[0;31m     \u001b[0mtick_marks\u001b[0m \u001b[0;34m=\u001b[0m \u001b[0mnp\u001b[0m\u001b[0;34m.\u001b[0m\u001b[0marange\u001b[0m\u001b[0;34m(\u001b[0m\u001b[0mlen\u001b[0m\u001b[0;34m(\u001b[0m\u001b[0mclasses\u001b[0m\u001b[0;34m)\u001b[0m\u001b[0;34m)\u001b[0m\u001b[0;34m\u001b[0m\u001b[0;34m\u001b[0m\u001b[0m\n\u001b[0m\u001b[1;32m     25\u001b[0m     \u001b[0mplt\u001b[0m\u001b[0;34m.\u001b[0m\u001b[0mxticks\u001b[0m\u001b[0;34m(\u001b[0m\u001b[0mtick_marks\u001b[0m\u001b[0;34m,\u001b[0m \u001b[0mclasses\u001b[0m\u001b[0;34m,\u001b[0m \u001b[0mrotation\u001b[0m\u001b[0;34m=\u001b[0m\u001b[0;36m45\u001b[0m\u001b[0;34m)\u001b[0m\u001b[0;34m\u001b[0m\u001b[0;34m\u001b[0m\u001b[0m\n\u001b[1;32m     26\u001b[0m     \u001b[0mplt\u001b[0m\u001b[0;34m.\u001b[0m\u001b[0myticks\u001b[0m\u001b[0;34m(\u001b[0m\u001b[0mtick_marks\u001b[0m\u001b[0;34m,\u001b[0m \u001b[0mclasses\u001b[0m\u001b[0;34m)\u001b[0m\u001b[0;34m\u001b[0m\u001b[0;34m\u001b[0m\u001b[0m\n",
      "\u001b[0;31mTypeError\u001b[0m: object of type 'map' has no len()"
     ]
    },
    {
     "data": {
      "image/png": "[encoded data removed]",
      "text/plain": [
       "<Figure size 432x288 with 2 Axes>"
      ]
     },
     "metadata": {
      "needs_background": "light"
     },
     "output_type": "display_data"
    }
   ],
   "source": [
    "# Plot normalized confusion matrix\n",
    "plt.figure()\n",
    "plot_confusion_matrix(cnf_matrix, classes=class_names, normalize=True,title='Normalized confusion matrix')\n",
    "\n",
    "plt.show()"
   ]
  },
  {
   "cell_type": "code",
   "execution_count": null,
   "metadata": {},
   "outputs": [],
   "source": []
  }
 ],
 "metadata": {
  "kernelspec": {
   "display_name": "Python 3",
   "language": "python",
   "name": "python3"
  },
  "language_info": {
   "codemirror_mode": {
    "name": "ipython",
    "version": 3
   },
   "file_extension": ".py",
   "mimetype": "text/x-python",
   "name": "python",
   "nbconvert_exporter": "python",
   "pygments_lexer": "ipython3",
   "version": "3.8.8"
  }
 },
 "nbformat": 4,
 "nbformat_minor": 4
}
