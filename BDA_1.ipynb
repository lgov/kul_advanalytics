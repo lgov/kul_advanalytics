{
 "cells": [
  {
   "cell_type": "code",
   "execution_count": 1,
   "id": "right-technology",
   "metadata": {},
   "outputs": [],
   "source": [
    "import pandas as pd\n",
    "import numpy as np\n",
    "import matplotlib.pyplot as plt\n",
    "\n",
    "from sklearn.preprocessing import StandardScaler\n",
    "from sklearn.model_selection import train_test_split\n",
    "from sklearn.linear_model import LogisticRegression\n",
    "from sklearn.ensemble import RandomForestClassifier\n",
    "from sklearn.metrics import log_loss, roc_auc_score, plot_roc_curve\n",
    "\n",
    "from assignment1.features import update_dataset_features, text_to_binary, add_extra_features\n",
    "\n",
    "pd.set_option(\"display.max_columns\",500)\n",
    "plt.style.use('ggplot')"
   ]
  },
  {
   "cell_type": "code",
   "execution_count": 2,
   "id": "weird-remove",
   "metadata": {},
   "outputs": [],
   "source": [
    "data_path = r\"./assignment1/train.csv\""
   ]
  },
  {
   "cell_type": "code",
   "execution_count": 3,
   "id": "three-macro",
   "metadata": {},
   "outputs": [],
   "source": [
    "df = pd.read_csv(data_path, sep=\";\", encoding=\"utf-8-sig\")"
   ]
  },
  {
   "cell_type": "code",
   "execution_count": 31,
   "id": "statewide-involvement",
   "metadata": {},
   "outputs": [],
   "source": [
    "#df[\"claim_date_occured\"] = pd.to_datetime(df[\"claim_date_occured\"], format=\"%Y%m%d\")\n",
    "#min(df[\"claim_date_occured\"].dt.year - df[\"policy_holder_year_birth\"])"
   ]
  },
  {
   "cell_type": "markdown",
   "id": "owned-nirvana",
   "metadata": {},
   "source": [
    "# Exploratory Data Analysis (EDA)"
   ]
  },
  {
   "cell_type": "code",
   "execution_count": null,
   "id": "exotic-battle",
   "metadata": {},
   "outputs": [],
   "source": [
    "for i in df.columns:\n",
    "    print(i)\n",
    "    try:\n",
    "        df[i].plot(kind=\"hist\")\n",
    "        plt.show()\n",
    "        print(df[i].describe())\n",
    "    except TypeError:\n",
    "        values = df[i].value_counts()\n",
    "        if len(values) < 10:\n",
    "            values.plot(kind=\"bar\")\n",
    "            plt.show()\n",
    "            print(df[i].describe())\n",
    "        else:\n",
    "            print('*******too many values to plot*******************')\n",
    "            print(df[i].describe())\n",
    "    print('*************************************************************************')"
   ]
  },
  {
   "cell_type": "code",
   "execution_count": 4,
   "id": "acting-metadata",
   "metadata": {},
   "outputs": [],
   "source": [
    "df = update_dataset_features(df)"
   ]
  },
  {
   "cell_type": "code",
   "execution_count": 5,
   "id": "precious-andorra",
   "metadata": {},
   "outputs": [
    {
     "data": {
      "text/plain": [
       "fraud                                 0\n",
       "claim_liable                          0\n",
       "claim_num_injured                     0\n",
       "claim_num_third_parties               0\n",
       "claim_num_vehicles                    0\n",
       "claim_police                          0\n",
       "claim_language                       43\n",
       "claim_vehicle_type                  154\n",
       "policy_holder_form                    0\n",
       "policy_holder_country                 0\n",
       "policy_num_changes                    0\n",
       "policy_num_claims                     0\n",
       "policy_premium_100                 9162\n",
       "policy_coverage_1000              28420\n",
       "claim_cause_animal                    0\n",
       "claim_cause_fire                      0\n",
       "claim_cause_other                     0\n",
       "claim_cause_theft                     0\n",
       "claim_cause_traffic accident          0\n",
       "claim_cause_vandalism                 0\n",
       "claim_cause_weather                   0\n",
       "claim_cause_windows                   0\n",
       "claim_cause_nan                       0\n",
       "claim_vehicle_id_count                0\n",
       "policy_holder_id_count                0\n",
       "driver_id_count                       0\n",
       "driver_vehicle_id_count               0\n",
       "third_party_1_id_count                0\n",
       "third_party_1_vehicle_id_count        0\n",
       "blacklisted_expert_id                 0\n",
       "policy_holder_age                  5381\n",
       "dtype: int64"
      ]
     },
     "execution_count": 5,
     "metadata": {},
     "output_type": "execute_result"
    }
   ],
   "source": [
    "df.isna().sum()"
   ]
  },
  {
   "cell_type": "markdown",
   "id": "streaming-entry",
   "metadata": {},
   "source": [
    "# Base model - off the shelf"
   ]
  },
  {
   "cell_type": "code",
   "execution_count": 19,
   "id": "ahead-plane",
   "metadata": {},
   "outputs": [],
   "source": [
    "X_train, X_test, y_train, y_test = train_test_split(df.iloc[:,1:], df[\"fraud\"], test_size=.2, random_state=96)"
   ]
  },
  {
   "cell_type": "code",
   "execution_count": 20,
   "id": "spatial-jewel",
   "metadata": {},
   "outputs": [],
   "source": [
    "# impute remaining missing values with mode or mean on train set\n",
    "# here it could potentially make sense to include a third category (i.e. missing), although this would be a small cat\n",
    "\n",
    "# mode\n",
    "train_lang_mode = X_train[\"claim_language\"].mode()[0]\n",
    "train_vtype_mode = X_train[\"claim_vehicle_type\"].mode()[0]\n",
    "X_train[\"claim_language\"].fillna(train_lang_mode, inplace=True)\n",
    "X_train[\"claim_vehicle_type\"].fillna(train_vtype_mode, inplace=True)\n",
    "\n",
    "# mean\n",
    "train_premium_mean = X_train[\"policy_premium_100\"].mean()\n",
    "train_coverage_mean = X_train[\"policy_coverage_1000\"].mean()\n",
    "train_policy_holder_mean_age = X_train[\"policy_holder_age\"].mean()\n",
    "X_train[\"policy_premium_100\"].fillna(train_premium_mean, inplace=True)\n",
    "X_train[\"policy_coverage_1000\"].fillna(train_coverage_mean, inplace=True)\n",
    "X_train[\"policy_holder_age\"].fillna(train_policy_holder_mean_age, inplace=True)"
   ]
  },
  {
   "cell_type": "code",
   "execution_count": 21,
   "id": "familiar-schema",
   "metadata": {},
   "outputs": [],
   "source": [
    "scaler = StandardScaler()\n",
    "scaler = scaler.fit(X_train)\n",
    "X_train_scaled = scaler.transform(X_train)"
   ]
  },
  {
   "cell_type": "code",
   "execution_count": 22,
   "id": "unsigned-desperate",
   "metadata": {},
   "outputs": [
    {
     "data": {
      "text/plain": [
       "LogisticRegression()"
      ]
     },
     "execution_count": 22,
     "metadata": {},
     "output_type": "execute_result"
    }
   ],
   "source": [
    "clf = LogisticRegression()\n",
    "clf.fit(X_train_scaled, y_train)"
   ]
  },
  {
   "cell_type": "code",
   "execution_count": 23,
   "id": "exterior-flood",
   "metadata": {},
   "outputs": [],
   "source": [
    "# impute remaining missing values with mode or mean from train set on test set\n",
    "# here it could potentially make sense to include a third category (i.e. missing), although this would be a small cat\n",
    "\n",
    "# mode\n",
    "X_test[\"claim_language\"].fillna(train_lang_mode, inplace=True)\n",
    "X_test[\"claim_vehicle_type\"].fillna(train_vtype_mode, inplace=True)\n",
    "\n",
    "# mean\n",
    "X_test[\"policy_premium_100\"].fillna(train_premium_mean, inplace=True)\n",
    "X_test[\"policy_coverage_1000\"].fillna(train_coverage_mean, inplace=True)\n",
    "X_test[\"policy_holder_age\"].fillna(train_policy_holder_mean_age, inplace=True)"
   ]
  },
  {
   "cell_type": "code",
   "execution_count": 24,
   "id": "conservative-thanksgiving",
   "metadata": {},
   "outputs": [
    {
     "data": {
      "text/plain": [
       "<sklearn.metrics._plot.roc_curve.RocCurveDisplay at 0x1d42a3f6648>"
      ]
     },
     "execution_count": 24,
     "metadata": {},
     "output_type": "execute_result"
    },
    {
     "data": {
      "image/png": "[encoded data removed]",
      "text/plain": [
       "<Figure size 432x288 with 1 Axes>"
      ]
     },
     "metadata": {},
     "output_type": "display_data"
    }
   ],
   "source": [
    "X_test_scaled = scaler.transform(X_test)\n",
    "plot_roc_curve(clf, X_test_scaled, y_test)"
   ]
  },
  {
   "cell_type": "markdown",
   "id": "senior-portugal",
   "metadata": {},
   "source": [
    "# Submission"
   ]
  },
  {
   "cell_type": "code",
   "execution_count": 25,
   "id": "cosmetic-currency",
   "metadata": {},
   "outputs": [],
   "source": [
    "submit_path = r\"./assignment1/test.csv\""
   ]
  },
  {
   "cell_type": "code",
   "execution_count": 26,
   "id": "proved-restoration",
   "metadata": {},
   "outputs": [],
   "source": [
    "submit_set = pd.read_csv(submit_path, sep=\";\", encoding=\"utf-8-sig\")"
   ]
  },
  {
   "cell_type": "code",
   "execution_count": 27,
   "id": "planned-ethnic",
   "metadata": {},
   "outputs": [],
   "source": [
    "df = submit_set\n",
    "# convert binary text variables into binary: {\"Y\":1, \"N\":0}\n",
    "for i in [\"claim_liable\", \"claim_police\", \"driver_injured\"]:\n",
    "    text_to_binary(i, \"Y\", \"N\", df)\n",
    "# {\"P\":1, \"N\":0}\n",
    "text_to_binary(\"claim_alcohol\", \"P\", \"N\", df)\n",
    "# {\"car\":1, \"van\":0}\n",
    "text_to_binary(\"claim_vehicle_type\", \"car\", \"van\", df)\n",
    "# {\"M\":1, \"F\":0}\n",
    "text_to_binary(\"policy_holder_form\", \"M\", \"F\", df)\n",
    "# {\"B\":1, \"N\":0}\n",
    "text_to_binary(\"policy_holder_country\", \"B\", \"N\", df)\n",
    "# make claim_lang binary (currently 1:Dutch, 2:Fr) -> 0: Dutch and 1: French\n",
    "df[\"claim_language\"] = df[\"claim_language\"] - 1 \n",
    "\n",
    "# get dummies for cat vars\n",
    "df = pd.get_dummies(df, dummy_na=True, columns=[\"claim_cause\"])\n",
    "\n",
    "# format date\n",
    "YYYYMMDD_date_columns = [\"claim_date_registered\",\n",
    "                         \"claim_date_occured\"]\n",
    "for i in YYYYMMDD_date_columns:\n",
    "    df[i] = pd.to_datetime(df[i], format=\"%Y%m%d\")\n",
    "\n",
    "# remove extreme value\n",
    "df[\"claim_vehicle_date_inuse\"].replace(to_replace=270505.0, value= np.nan, inplace=True)\n",
    "\n",
    "YYYYMM_columns = [\"claim_vehicle_date_inuse\", \n",
    "                  \"policy_date_start\",\n",
    "                  \"policy_date_next_expiry\",\n",
    "                  \"policy_date_last_renewed\"]\n",
    "for i in YYYYMM_columns:\n",
    "    df[i] = pd.to_datetime(df[i], format=\"%Y%m\")"
   ]
  },
  {
   "cell_type": "code",
   "execution_count": 28,
   "id": "hindu-mattress",
   "metadata": {},
   "outputs": [],
   "source": [
    "# Add the extra features just like we did for the training set\n",
    "df = add_extra_features(df)"
   ]
  },
  {
   "cell_type": "code",
   "execution_count": 29,
   "id": "medieval-petite",
   "metadata": {},
   "outputs": [],
   "source": [
    "# Hide the claim_id column as index so that it's not used as covariate for the prediction, but we can recover\n",
    "# it later as we need claim_id in the output .csv file\n",
    "df = df.set_index('claim_id')\n",
    "df = df[X_train.columns]"
   ]
  },
  {
   "cell_type": "code",
   "execution_count": 30,
   "id": "presidential-boxing",
   "metadata": {},
   "outputs": [
    {
     "data": {
      "text/plain": [
       "claim_liable                          0\n",
       "claim_num_injured                     0\n",
       "claim_num_third_parties               0\n",
       "claim_num_vehicles                    0\n",
       "claim_police                          0\n",
       "claim_language                       27\n",
       "claim_vehicle_type                   69\n",
       "policy_holder_form                    0\n",
       "policy_holder_country                 0\n",
       "policy_num_changes                    0\n",
       "policy_num_claims                     0\n",
       "policy_premium_100                 5028\n",
       "policy_coverage_1000              15291\n",
       "claim_cause_animal                    0\n",
       "claim_cause_fire                      0\n",
       "claim_cause_other                     0\n",
       "claim_cause_theft                     0\n",
       "claim_cause_traffic accident          0\n",
       "claim_cause_vandalism                 0\n",
       "claim_cause_weather                   0\n",
       "claim_cause_windows                   0\n",
       "claim_cause_nan                       0\n",
       "claim_vehicle_id_count                0\n",
       "policy_holder_id_count                0\n",
       "driver_id_count                       0\n",
       "driver_vehicle_id_count               0\n",
       "third_party_1_id_count                0\n",
       "third_party_1_vehicle_id_count        0\n",
       "blacklisted_expert_id                 0\n",
       "policy_holder_age                  2769\n",
       "dtype: int64"
      ]
     },
     "execution_count": 30,
     "metadata": {},
     "output_type": "execute_result"
    }
   ],
   "source": [
    "df.isna().sum()"
   ]
  },
  {
   "cell_type": "code",
   "execution_count": 31,
   "id": "hungry-dressing",
   "metadata": {},
   "outputs": [],
   "source": [
    "# impute remaining missing values with mode or mean on train set\n",
    "# here it could potentially make sense to include a third category (i.e. missing), although this would be a small cat\n",
    "\n",
    "# mode\n",
    "df[\"claim_language\"].fillna(train_lang_mode, inplace=True)\n",
    "df[\"claim_vehicle_type\"].fillna(train_vtype_mode, inplace=True)\n",
    "\n",
    "# mean\n",
    "df[\"policy_premium_100\"].fillna(train_premium_mean, inplace=True)\n",
    "df[\"policy_coverage_1000\"].fillna(train_coverage_mean, inplace=True)\n",
    "df[\"policy_holder_age\"].fillna(train_policy_holder_mean_age, inplace=True)"
   ]
  },
  {
   "cell_type": "code",
   "execution_count": 32,
   "id": "tracked-check",
   "metadata": {},
   "outputs": [],
   "source": [
    "assert df.isna().sum().sum() == 0"
   ]
  },
  {
   "cell_type": "code",
   "execution_count": 33,
   "id": "taken-voluntary",
   "metadata": {},
   "outputs": [],
   "source": [
    "submit_scaled = scaler.transform(df)"
   ]
  },
  {
   "cell_type": "code",
   "execution_count": 34,
   "id": "continent-imagination",
   "metadata": {},
   "outputs": [],
   "source": [
    "submission = df.reset_index()[['claim_id']]"
   ]
  },
  {
   "cell_type": "code",
   "execution_count": 35,
   "id": "sufficient-structure",
   "metadata": {},
   "outputs": [],
   "source": [
    "submission[\"prediction\"] = clf.predict_proba(submit_scaled)[:,1]"
   ]
  },
  {
   "cell_type": "code",
   "execution_count": 36,
   "id": "auburn-unknown",
   "metadata": {},
   "outputs": [
    {
     "data": {
      "text/plain": [
       "Index(['claim_id', 'prediction'], dtype='object')"
      ]
     },
     "execution_count": 36,
     "metadata": {},
     "output_type": "execute_result"
    }
   ],
   "source": [
    "submission.columns"
   ]
  },
  {
   "cell_type": "code",
   "execution_count": 37,
   "id": "acknowledged-election",
   "metadata": {},
   "outputs": [],
   "source": [
    "submission.columns = [\"ID\", \"PROB\"]"
   ]
  },
  {
   "cell_type": "code",
   "execution_count": null,
   "id": "victorian-things",
   "metadata": {},
   "outputs": [],
   "source": [
    "submission.to_csv(\"submission_V0.4.csv\", sep=',', index=False)"
   ]
  },
  {
   "cell_type": "code",
   "execution_count": null,
   "id": "young-ethics",
   "metadata": {},
   "outputs": [],
   "source": []
  }
 ],
 "metadata": {
  "kernelspec": {
   "display_name": "Python 3",
   "language": "python",
   "name": "python3"
  },
  "language_info": {
   "codemirror_mode": {
    "name": "ipython",
    "version": 3
   },
   "file_extension": ".py",
   "mimetype": "text/x-python",
   "name": "python",
   "nbconvert_exporter": "python",
   "pygments_lexer": "ipython3",
   "version": "3.7.4"
  }
 },
 "nbformat": 4,
 "nbformat_minor": 5
}
