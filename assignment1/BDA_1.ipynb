{
 "cells": [
  {
   "cell_type": "markdown",
   "metadata": {},
   "source": [
    "# Import packages"
   ]
  },
  {
   "cell_type": "code",
   "execution_count": null,
   "metadata": {},
   "outputs": [],
   "source": [
    "import pandas as pd\n",
    "import numpy as np\n",
    "import matplotlib.pyplot as plt\n",
    "\n",
    "from sklearn.preprocessing import StandardScaler\n",
    "from sklearn.model_selection import train_test_split, GridSearchCV, RandomizedSearchCV, StratifiedKFold\n",
    "from sklearn.linear_model import LinearRegression, LogisticRegression\n",
    "from sklearn.ensemble import RandomForestClassifier, RandomForestRegressor\n",
    "from sklearn.metrics import log_loss, roc_auc_score, plot_roc_curve, plot_confusion_matrix, confusion_matrix, make_scorer\n",
    "from sklearn.metrics import balanced_accuracy_score, dcg_score, roc_auc_score, average_precision_score, roc_curve\n",
    "\n",
    "import xgboost as xgb\n",
    "\n",
    "import seaborn as sns\n",
    "\n",
    "from imblearn.ensemble import BalancedRandomForestClassifier\n",
    "from imblearn.over_sampling import SMOTE\n",
    "from imblearn.under_sampling import RandomUnderSampler\n",
    "from imblearn.pipeline import Pipeline, make_pipeline\n",
    "\n",
    "#from costcla.metrics import cost_loss\n",
    "\n",
    "from features import update_dataset_features, text_to_binary, add_extra_features, encode\n",
    "from eval_metrics import savings\n",
    "\n",
    "pd.set_option(\"display.max_columns\",500)\n",
    "plt.style.use('ggplot')"
   ]
  },
  {
   "cell_type": "code",
   "execution_count": null,
   "metadata": {},
   "outputs": [],
   "source": [
    "data_path = r\"./train.csv\"\n",
    "image_dir = r\"./images/\""
   ]
  },
  {
   "cell_type": "code",
   "execution_count": null,
   "metadata": {},
   "outputs": [],
   "source": [
    "df = pd.read_csv(data_path, sep=\";\", encoding=\"utf-8-sig\")"
   ]
  },
  {
   "cell_type": "code",
   "execution_count": null,
   "metadata": {},
   "outputs": [],
   "source": [
    "#df[\"claim_date_occured\"] = pd.to_datetime(df[\"claim_date_occured\"], format=\"%Y%m%d\")\n",
    "#min(df[\"claim_date_occured\"].dt.year - df[\"policy_holder_year_birth\"])"
   ]
  },
  {
   "cell_type": "markdown",
   "metadata": {},
   "source": [
    "# Exploratory Data Analysis (EDA)"
   ]
  },
  {
   "cell_type": "code",
   "execution_count": null,
   "metadata": {},
   "outputs": [],
   "source": [
    "# check imbalance\n",
    "df[\"fraud\"].replace({\"N\":0, \"Y\":1}).sum() / len(df[\"fraud\"]) * 100"
   ]
  },
  {
   "cell_type": "code",
   "execution_count": null,
   "metadata": {},
   "outputs": [],
   "source": [
    "pd.crosstab(df[\"fraud\"], df[\"claim_vehicle_brand\"], normalize=True)"
   ]
  },
  {
   "cell_type": "code",
   "execution_count": null,
   "metadata": {},
   "outputs": [],
   "source": [
    "# graph for claim_date_occurred\n",
    "df[\"claim_date_occured\"].plot(kind='hist', logy=True)\n",
    "plt.ylabel('log(Frequency)')\n",
    "plt.xlabel('Year')\n",
    "plt.savefig(image_dir + 'claim_date_occurred.png')"
   ]
  },
  {
   "cell_type": "code",
   "execution_count": null,
   "metadata": {},
   "outputs": [],
   "source": [
    "# graph for claim_cause\n",
    "df[\"claim_cause\"].value_counts().plot(kind='bar')\n",
    "plt.ylabel(\"Frequency\")\n",
    "plt.savefig(image_dir + 'claim_cause.png')"
   ]
  },
  {
   "cell_type": "code",
   "execution_count": null,
   "metadata": {},
   "outputs": [],
   "source": [
    "postal_bins = [999, 1299, 1499, 1999, 2999, 3499, 3999, 4999, 5999, 6599, 6999, 7999, 8999, 9999]\n",
    "postal_label = [\"brussel\", \"waals_brabant\", \"vlaams_brabant\", 'Antwerpen', 'vlaams_brabant', 'limburg', \n",
    "                'luik', 'namen', 'henegouwen', 'luxemburg', 'henegouwen', 'w-vlaanderen', 'o-vlaanderen']\n",
    "df[\"province\"] = pd.cut(df[\"claim_postal_code\"], postal_bins, labels=postal_label, ordered=False)"
   ]
  },
  {
   "cell_type": "code",
   "execution_count": null,
   "metadata": {},
   "outputs": [],
   "source": [
    "pd.crosstab(df[\"province\"], df[\"fraud\"], normalize=True).plot.bar()\n",
    "plt.yscale('log')\n",
    "plt.ylabel('log(Frequency)')\n",
    "plt.savefig(image_dir + 'province.png')"
   ]
  },
  {
   "cell_type": "code",
   "execution_count": null,
   "metadata": {},
   "outputs": [],
   "source": [
    "for i in df.columns:\n",
    "    print(i)\n",
    "    try:\n",
    "        df[i].plot(kind=\"hist\")\n",
    "        plt.show()\n",
    "        print(df[i].describe())\n",
    "    except TypeError:\n",
    "        values = df[i].value_counts()\n",
    "        if len(values) < 10:\n",
    "            values.plot(kind=\"bar\")\n",
    "            plt.show()\n",
    "            print(df[i].describe())\n",
    "        else:\n",
    "            print('*******too many values to plot*******************')\n",
    "            print(df[i].describe())\n",
    "    print('*************************************************************************')"
   ]
  },
  {
   "cell_type": "code",
   "execution_count": null,
   "metadata": {},
   "outputs": [],
   "source": [
    "corr[['fraud']][:int(np.round(len(corr)/2))]"
   ]
  },
  {
   "cell_type": "code",
   "execution_count": null,
   "metadata": {},
   "outputs": [],
   "source": [
    "corr = df.corr()\n",
    "corr=corr[['fraud']]\n",
    "mask = np.zeros_like(corr)\n",
    "mask[np.triu_indices_from(mask)] = True\n",
    "mask = ((mask + np.array(np.abs(corr) < 0.1)) > 0).astype(int)\n",
    "\n",
    "with sns.axes_style(\"white\"):\n",
    "    f, ax = plt.subplots(figsize=(30, 30))\n",
    "    cmap=sns.diverging_palette(220, 20, as_cmap=True)\n",
    "    ax = sns.heatmap(corr[[\"fraud\"]], mask=mask, square=True, \n",
    "                     cmap=\"Spectral\", annot=True)"
   ]
  },
  {
   "cell_type": "markdown",
   "metadata": {},
   "source": [
    "# Data cleaning"
   ]
  },
  {
   "cell_type": "code",
   "execution_count": null,
   "metadata": {},
   "outputs": [],
   "source": [
    "df, ohe = update_dataset_features(df)"
   ]
  },
  {
   "cell_type": "code",
   "execution_count": null,
   "metadata": {},
   "outputs": [],
   "source": [
    "df.isna().sum()"
   ]
  },
  {
   "cell_type": "markdown",
   "metadata": {},
   "source": [
    "# Train test split + prep"
   ]
  },
  {
   "cell_type": "code",
   "execution_count": null,
   "metadata": {},
   "outputs": [],
   "source": [
    "# claim_amount is currently dropped since poor performance\n",
    "X_train, X_test, y_train, y_test = train_test_split(df.iloc[:,1:].drop(columns=[\"claim_amount\"]), df[\"fraud\"], test_size=.2, random_state=96)\n",
    "X_train_reg, X_test_reg, y_train_reg, y_test_reg = train_test_split(df.drop(columns=[\"fraud\", \"claim_amount\"]),\n",
    "                                                                    df[\"claim_amount\"], test_size=.2, random_state=96)"
   ]
  },
  {
   "cell_type": "code",
   "execution_count": null,
   "metadata": {},
   "outputs": [],
   "source": [
    "# impute remaining missing values with mode or mean on train set\n",
    "# here it could potentially make sense to include a third category (i.e. missing), although this would be a small cat\n",
    "\n",
    "# mode\n",
    "train_lang_mode = X_train[\"claim_language\"].mode()[0]\n",
    "train_vtype_mode = X_train[\"claim_vehicle_type\"].mode()[0]\n",
    "\n",
    "# mean\n",
    "train_premium_mean = X_train[\"policy_premium_100\"].mean()\n",
    "train_coverage_mean = X_train[\"policy_coverage_1000\"].mean()\n",
    "train_policy_holder_mean_age = X_train[\"policy_holder_age\"].mean()\n",
    "\n",
    "for train_set in [X_train, X_train_reg]:\n",
    "    train_set[\"claim_language\"].fillna(train_lang_mode, inplace=True)\n",
    "    train_set[\"claim_vehicle_type\"].fillna(train_vtype_mode, inplace=True)\n",
    "    train_set[\"policy_premium_100\"].fillna(train_premium_mean, inplace=True)\n",
    "    train_set[\"policy_coverage_1000\"].fillna(train_coverage_mean, inplace=True)\n",
    "    train_set[\"policy_holder_age\"].fillna(train_policy_holder_mean_age, inplace=True)"
   ]
  },
  {
   "cell_type": "code",
   "execution_count": null,
   "metadata": {},
   "outputs": [],
   "source": [
    "# impute remaining missing values with mode or mean from train set on test set\n",
    "# here it could potentially make sense to include a third category (i.e. missing), although this would be a small cat\n",
    "\n",
    "for test_set in [X_test, X_test_reg]:\n",
    "    # mode\n",
    "    test_set[\"claim_language\"].fillna(train_lang_mode, inplace=True)\n",
    "    test_set[\"claim_vehicle_type\"].fillna(train_vtype_mode, inplace=True)\n",
    "\n",
    "    # mean\n",
    "    test_set[\"policy_premium_100\"].fillna(train_premium_mean, inplace=True)\n",
    "    test_set[\"policy_coverage_1000\"].fillna(train_coverage_mean, inplace=True)\n",
    "    X_test[\"policy_holder_age\"].fillna(train_policy_holder_mean_age, inplace=True)"
   ]
  },
  {
   "cell_type": "markdown",
   "metadata": {},
   "source": [
    "# Defining eval metrics"
   ]
  },
  {
   "cell_type": "code",
   "execution_count": null,
   "metadata": {},
   "outputs": [],
   "source": [
    "def lift_score(y, y_prob):\n",
    "    top_100_ranked_TP = pd.DataFrame(y_prob, y).reset_index().sort_values(by=0, ascending=False).iloc[:100][\"fraud\"].sum()\n",
    "    avg_fraud_rate = y_train.sample(n=100, random_state=96).sum()\n",
    "    lift = top_100_ranked_TP/avg_fraud_rate\n",
    "    return lift"
   ]
  },
  {
   "cell_type": "code",
   "execution_count": null,
   "metadata": {},
   "outputs": [],
   "source": [
    "def rr_at_100(y, y_prob):\n",
    "    top_100_ranked_TP = pd.DataFrame(y_prob, y).reset_index().sort_values(by=0, ascending=False).iloc[:100][\"fraud\"].sum()\n",
    "    avg_fraud_rate = y_train.sample(n=100, random_state=96).sum()\n",
    "    lift = top_100_ranked_TP/avg_fraud_rate\n",
    "    return lift"
   ]
  },
  {
   "cell_type": "code",
   "execution_count": null,
   "metadata": {},
   "outputs": [],
   "source": [
    "cost_mat_train[:,1]"
   ]
  },
  {
   "cell_type": "code",
   "execution_count": null,
   "metadata": {},
   "outputs": [],
   "source": [
    "# set costs\n",
    "cost_FN_train = df.iloc[X_train.index][\"claim_amount\"]\n",
    "cost_FN_test = df.iloc[X_test.index][\"claim_amount\"]\n",
    "c_FP = 5\n",
    "c_TP = 5\n",
    "c_TN = 0\n",
    "cost_mat_train = np.array([c_FP * np.ones(X_train.shape[0]), cost_FN_train, \n",
    "                         c_TP * np.ones(X_train.shape[0]), \n",
    "                         c_TN * np.ones(X_train.shape[0])]).T\n",
    "\n",
    "cost_mat_test = np.array([c_FP * np.ones(X_test.shape[0]), cost_FN_test, \n",
    "                         c_TP * np.ones(X_test.shape[0]), \n",
    "                         c_TN * np.ones(X_test.shape[0])]).T"
   ]
  },
  {
   "cell_type": "code",
   "execution_count": null,
   "metadata": {},
   "outputs": [],
   "source": [
    "# make different custom scorers\n",
    "pr_score = make_scorer(average_precision_score, greater_is_better=True, \n",
    "                       needs_proba=True, average='weighted')\n",
    "lift_scorer = make_scorer(lift_score, greater_is_better=True, needs_proba=True)"
   ]
  },
  {
   "cell_type": "code",
   "execution_count": null,
   "metadata": {},
   "outputs": [],
   "source": [
    "def model_evaluation(label, model, save_path=image_dir,\n",
    "                     X_train=X_train, X_test=X_test, \n",
    "                     y_train=y_train, y_test=y_test, \n",
    "                     cost_mat_train=cost_mat_train, \n",
    "                     cost_mat_test=cost_mat_test):\n",
    "    out = {}\n",
    "    # auc\n",
    "    yproba_train = model.predict_proba(X_train)[:,1]\n",
    "    out[\"fpr_train\"], out[\"tpr_train\"], _ = roc_curve(y_train,  yproba_train)\n",
    "    out[\"auc_train\"] = roc_auc_score(y_train, yproba_train)\n",
    "    yproba_test = model.predict_proba(X_test)[:,1]\n",
    "    out[\"fpr_test\"], out[\"tpr_test\"], _ = roc_curve(y_test,  yproba_test)\n",
    "    out[\"auc_test\"] = roc_auc_score(y_test, yproba_test)\n",
    " \n",
    "    # model savings\n",
    "    try:\n",
    "        out[\"savings_train\"], out[\"savings_test\"] = savings(X_train, y_train, \n",
    "                                                        X_test, y_test,\n",
    "                                                        cost_mat_train, cost_mat_test,\n",
    "                                                        model)\n",
    "    except:\n",
    "        out[\"savings_train\"] = np.nan\n",
    "        _, out[\"savings_test\"] = savings(X_train, y_train, \n",
    "                                         X_test, y_test,\n",
    "                                         np.zeros_like(X_train), cost_mat_test,\n",
    "                                         model)\n",
    "    # average_precision\n",
    "    out[\"pr_train\"] = pr_score(model, X_train, y_train)\n",
    "    out[\"pr_test\"] = pr_score(model, X_test, y_test)\n",
    "    \n",
    "    # lift\n",
    "    out[\"lift_train\"] = lift_scorer(model, X_train, y_train)\n",
    "    out[\"lift_test\"] = lift_scorer(model, X_test, y_test)\n",
    "    \n",
    "    # plot auc and save\n",
    "    fig = plt.figure(figsize=(8,6))\n",
    "    auc = np.round(out[\"auc_train\"],2)\n",
    "    plt.plot(out[\"fpr_train\"], out['tpr_train'],\n",
    "            label=f\"{label} - train, AUC={auc}\")\n",
    "    auc = np.round(out[\"auc_test\"],2)\n",
    "    plt.plot(out[\"fpr_test\"], out['tpr_test'],\n",
    "            label=f\"{label} - test, AUC={auc}\")\n",
    "    plt.xlabel(\"False Positive Rate\", fontsize=15)\n",
    "    plt.ylabel(\"True Positive Rate\", fontsize=15)\n",
    "    plt.legend(prop={'size':13}, loc='lower right')\n",
    "    fig.savefig(image_dir + label + '_roc.png')\n",
    "    plt.show()\n",
    "    return out"
   ]
  },
  {
   "cell_type": "code",
   "execution_count": null,
   "metadata": {},
   "outputs": [],
   "source": [
    "xgb_df = {'subsample': 0.8,\n",
    " 'scale_pos_weight': 43.767857142857146,\n",
    " 'reg_lambda': 3,\n",
    " 'reg_alpha': 0.1,\n",
    " 'n_estimators': 200,\n",
    " 'min_child_weight': 20,\n",
    " 'max_depth': 6,\n",
    " 'learning_rate': 0.05,\n",
    " 'gamma': 18,\n",
    " 'colsample_bytree': 1.0,\n",
    " 'base_score': 0.45999999999999996}"
   ]
  },
  {
   "cell_type": "code",
   "execution_count": null,
   "metadata": {},
   "outputs": [],
   "source": [
    "xgb_df = pd.DataFrame(xgb_df, index=[0])\n",
    "print(xgb_df.to_latex(index=False))\n"
   ]
  },
  {
   "cell_type": "code",
   "execution_count": null,
   "metadata": {},
   "outputs": [],
   "source": [
    "def create_latex_overview(final_out):\n",
    "    df = pd.DataFrame()\n",
    "    for model in final_out.keys():\n",
    "        final_out[model]['model'] = model\n",
    "        var_eval = ['model', 'savings_train', 'savings_test', 'pr_train', 'pr_test', 'lift_train', 'lift_test']\n",
    "        df = df.append(pd.DataFrame({key: final_out[model][key] for key in final_out[model].keys() if key in var_eval}, index=[0]))\n",
    "    print(df.to_latex(index=False))"
   ]
  },
  {
   "cell_type": "code",
   "execution_count": null,
   "metadata": {},
   "outputs": [],
   "source": [
    "final_out = {}"
   ]
  },
  {
   "cell_type": "markdown",
   "metadata": {},
   "source": [
    "# Predicting claim amount - DO NOT USE"
   ]
  },
  {
   "cell_type": "markdown",
   "metadata": {},
   "source": [
    "## Linear regression model"
   ]
  },
  {
   "cell_type": "code",
   "execution_count": null,
   "metadata": {},
   "outputs": [],
   "source": [
    "lm = LinearRegression().fit(X_train_reg, y_train_reg)"
   ]
  },
  {
   "cell_type": "code",
   "execution_count": null,
   "metadata": {},
   "outputs": [],
   "source": [
    "print(\"Training set R squared: {}\".format(lm.score(X_train_reg, y_train_reg)))\n",
    "print(\"Testing set R squared: {}\".format(lm.score(X_test_reg, y_test_reg)))"
   ]
  },
  {
   "cell_type": "code",
   "execution_count": null,
   "metadata": {},
   "outputs": [],
   "source": [
    "print('intercept:', lm.intercept_)\n",
    "print('coef:', lm.coef_)"
   ]
  },
  {
   "cell_type": "markdown",
   "metadata": {},
   "source": [
    "## Random Forest Regressor"
   ]
  },
  {
   "cell_type": "code",
   "execution_count": null,
   "metadata": {},
   "outputs": [],
   "source": [
    "rf = RandomForestRegressor(n_estimators=500, max_depth=5, n_jobs=2, max_features=\"sqrt\", \n",
    "                           random_state=96, warm_start=True, bootstrap=True)\n",
    "model2 = rf.fit(X_train_reg, y_train_reg)"
   ]
  },
  {
   "cell_type": "code",
   "execution_count": null,
   "metadata": {},
   "outputs": [],
   "source": [
    "print(\"Training set R squared: {}\".format(model2.score(X_train_reg, y_train_reg)))\n",
    "print(\"Testing set R squared: {}\".format(model2.score(X_test_reg, y_test_reg)))"
   ]
  },
  {
   "cell_type": "markdown",
   "metadata": {},
   "source": [
    "# Base Logistic Regression model - off the shelf"
   ]
  },
  {
   "cell_type": "code",
   "execution_count": null,
   "metadata": {},
   "outputs": [],
   "source": [
    "scaler = StandardScaler()\n",
    "scaler = scaler.fit(X_train)\n",
    "X_train_scaled = scaler.transform(X_train)"
   ]
  },
  {
   "cell_type": "code",
   "execution_count": null,
   "metadata": {},
   "outputs": [],
   "source": [
    "clf = LogisticRegression(max_iter=500)\n",
    "clf.fit(X_train_scaled, y_train)"
   ]
  },
  {
   "cell_type": "code",
   "execution_count": null,
   "metadata": {},
   "outputs": [],
   "source": [
    "# we need to predict claim_amount on the testset to evaluate true performance\n",
    "#X_test.drop(columns=[\"claim_amount\"], inplace=True)\n",
    "#X_test[\"claim_amount\"] = model2.predict(X_test)"
   ]
  },
  {
   "cell_type": "code",
   "execution_count": null,
   "metadata": {},
   "outputs": [],
   "source": [
    "X_test_scaled = scaler.transform(X_test)"
   ]
  },
  {
   "cell_type": "code",
   "execution_count": null,
   "metadata": {},
   "outputs": [],
   "source": [
    "model_name = 'LogisticRegression'\n",
    "final_out[model_name] = model_evaluation(model_name, clf, \n",
    "                        X_train=X_train_scaled, X_test=X_test_scaled)"
   ]
  },
  {
   "cell_type": "code",
   "execution_count": null,
   "metadata": {},
   "outputs": [],
   "source": [
    "plot_confusion_matrix(clf, X_test_scaled, y_test)\n",
    "plt.grid(False)\n",
    "plt.show()"
   ]
  },
  {
   "cell_type": "markdown",
   "metadata": {},
   "source": [
    "# Logistic Regression model - SMOTE"
   ]
  },
  {
   "cell_type": "code",
   "execution_count": null,
   "metadata": {},
   "outputs": [],
   "source": [
    "scaler = StandardScaler()\n",
    "scaler = scaler.fit(X_train)\n",
    "X_train_scaled = scaler.transform(X_train)"
   ]
  },
  {
   "cell_type": "code",
   "execution_count": null,
   "metadata": {},
   "outputs": [],
   "source": [
    "over = SMOTE(sampling_strategy=0.2)\n",
    "under = RandomUnderSampler(sampling_strategy=0.5)\n",
    "steps = [('o', over), ('u', under)]\n",
    "pipeline = Pipeline(steps=steps)"
   ]
  },
  {
   "cell_type": "code",
   "execution_count": null,
   "metadata": {},
   "outputs": [],
   "source": [
    "# transform the dataset\n",
    "X_train_scaled_resampled, y_train_resampled = pipeline.fit_resample(X_train_scaled, y_train)"
   ]
  },
  {
   "cell_type": "code",
   "execution_count": null,
   "metadata": {},
   "outputs": [],
   "source": [
    "# before SMOTE and undersampling\n",
    "neg_length = len(y_train) - y_train.sum()\n",
    "pos_length = y_train.sum()\n",
    "print(f\"Majority class (0): {neg_length}\")\n",
    "print(f\"Minority class (1): {pos_length}\")\n",
    "print(f\"ratio: {np.round(pos_length/neg_length,5)*100}%\")\n",
    "print(\"*********************************************************\")\n",
    "# after SMOTE and undersampling\n",
    "neg_length = len(y_train_resampled) - y_train_resampled.sum()\n",
    "pos_length = y_train_resampled.sum()\n",
    "print(f\"Majority class (0): {neg_length}\")\n",
    "print(f\"Minority class (1): {pos_length}\")\n",
    "print(f\"ratio: {np.round(pos_length/neg_length,5)*100}%\")"
   ]
  },
  {
   "cell_type": "code",
   "execution_count": null,
   "metadata": {},
   "outputs": [],
   "source": [
    "clf_resampled = LogisticRegression(max_iter=500)\n",
    "clf_resampled.fit(X_train_scaled_resampled, y_train_resampled)"
   ]
  },
  {
   "cell_type": "code",
   "execution_count": null,
   "metadata": {},
   "outputs": [],
   "source": [
    "X_test_scaled = scaler.transform(X_test)\n",
    "model_name = 'LogisticRegression - SMOTE'\n",
    "# this will throw an error due to the fact that the cost matrix for train is 0\n",
    "# and we divide by 0\n",
    "final_out[model_name] = model_evaluation(model_name, clf_resampled, \n",
    "                                         X_train=X_train_scaled_resampled,\n",
    "                                         y_train=y_train_resampled,\n",
    "                                         X_test=X_test_scaled)"
   ]
  },
  {
   "cell_type": "code",
   "execution_count": null,
   "metadata": {},
   "outputs": [],
   "source": [
    "plot_confusion_matrix(clf_resampled, X_test_scaled, y_test)\n",
    "plt.grid(False)\n",
    "plt.show()"
   ]
  },
  {
   "cell_type": "markdown",
   "metadata": {},
   "source": [
    "# Random Forest - SMOTE (not in report)"
   ]
  },
  {
   "cell_type": "code",
   "execution_count": null,
   "metadata": {},
   "outputs": [],
   "source": [
    "over = SMOTE(sampling_strategy=0.4)\n",
    "under = RandomUnderSampler(sampling_strategy=0.6)\n",
    "steps = [('o', over), ('u', under)]\n",
    "pipeline = Pipeline(steps=steps)"
   ]
  },
  {
   "cell_type": "code",
   "execution_count": null,
   "metadata": {},
   "outputs": [],
   "source": [
    "# transform the dataset\n",
    "X_train_resampled, y_train_resampled = pipeline.fit_resample(X_train, y_train)"
   ]
  },
  {
   "cell_type": "code",
   "execution_count": null,
   "metadata": {},
   "outputs": [],
   "source": [
    "# before SMOTE and undersampling\n",
    "neg_length = len(y_train) - y_train.sum()\n",
    "pos_length = y_train.sum()\n",
    "print(f\"Majority class (0): {neg_length}\")\n",
    "print(f\"Minority class (1): {pos_length}\")\n",
    "print(f\"ratio: {np.round(pos_length/neg_length,5)*100}%\")\n",
    "print(\"*********************************************************\")\n",
    "# after SMOTE and undersampling\n",
    "neg_length = len(y_train_resampled) - y_train_resampled.sum()\n",
    "pos_length = y_train_resampled.sum()\n",
    "print(f\"Majority class (0): {neg_length}\")\n",
    "print(f\"Minority class (1): {pos_length}\")\n",
    "print(f\"ratio: {np.round(pos_length/neg_length,5)*100}%\")"
   ]
  },
  {
   "cell_type": "code",
   "execution_count": null,
   "metadata": {},
   "outputs": [],
   "source": [
    "rf = RandomForestClassifier(n_estimators=1000, max_depth=20, class_weight='balanced_subsample', random_state=9, n_jobs=-1)\n",
    "rf.fit(X_train_resampled, y_train_resampled)"
   ]
  },
  {
   "cell_type": "code",
   "execution_count": null,
   "metadata": {},
   "outputs": [],
   "source": [
    "plot_roc_curve(rf, X_test, y_test)"
   ]
  },
  {
   "cell_type": "code",
   "execution_count": null,
   "metadata": {},
   "outputs": [],
   "source": [
    "plot_confusion_matrix(rf, X_test, y_test)\n",
    "plt.grid(False)\n",
    "plt.show()"
   ]
  },
  {
   "cell_type": "markdown",
   "metadata": {},
   "source": [
    "# Balanced random forest"
   ]
  },
  {
   "cell_type": "markdown",
   "metadata": {},
   "source": [
    "See [here](https://imbalanced-learn.org/dev/references/generated/imblearn.ensemble.BalancedRandomForestClassifier.html#imblearn.ensemble.BalancedRandomForestClassifier)"
   ]
  },
  {
   "cell_type": "code",
   "execution_count": null,
   "metadata": {},
   "outputs": [],
   "source": [
    "over = SMOTE(sampling_strategy=0.4)\n",
    "steps = [('o', over)]\n",
    "pipeline = Pipeline(steps=steps)"
   ]
  },
  {
   "cell_type": "code",
   "execution_count": null,
   "metadata": {},
   "outputs": [],
   "source": [
    "# transform the dataset\n",
    "X_train_resampled, y_train_resampled = pipeline.fit_resample(X_train, y_train)"
   ]
  },
  {
   "cell_type": "code",
   "execution_count": null,
   "metadata": {},
   "outputs": [],
   "source": [
    "# before SMOTE and undersampling\n",
    "neg_length = len(y_train) - y_train.sum()\n",
    "pos_length = y_train.sum()\n",
    "print(f\"Majority class (0): {neg_length}\")\n",
    "print(f\"Minority class (1): {pos_length}\")\n",
    "print(f\"ratio: {np.round(pos_length/neg_length,5)*100}%\")\n",
    "print(\"*********************************************************\")\n",
    "# after SMOTE and undersampling\n",
    "neg_length = len(y_train_resampled) - y_train_resampled.sum()\n",
    "pos_length = y_train_resampled.sum()\n",
    "print(f\"Majority class (0): {neg_length}\")\n",
    "print(f\"Minority class (1): {pos_length}\")\n",
    "print(f\"ratio: {np.round(pos_length/neg_length,5)*100}%\")"
   ]
  },
  {
   "cell_type": "code",
   "execution_count": null,
   "metadata": {},
   "outputs": [],
   "source": [
    "# 0.60 savings\n",
    "bclf = BalancedRandomForestClassifier(n_estimators=10000, max_depth=5, random_state=9, \n",
    "                                      n_jobs=-1, class_weight=\"balanced_subsample\")"
   ]
  },
  {
   "cell_type": "code",
   "execution_count": null,
   "metadata": {},
   "outputs": [],
   "source": [
    "bclf.fit(X_train_resampled, y_train_resampled)"
   ]
  },
  {
   "cell_type": "code",
   "execution_count": null,
   "metadata": {},
   "outputs": [],
   "source": [
    "model_name = 'BalancedRandomForest'\n",
    "# this will throw an error due to the fact that the cost matrix for train is 0\n",
    "# and we divide by 0\n",
    "final_out[model_name] = model_evaluation(model_name, bclf,\n",
    "                                         X_train=X_train_resampled,\n",
    "                                         X_test=X_test,\n",
    "                                         y_train=y_train_resampled)"
   ]
  },
  {
   "cell_type": "code",
   "execution_count": null,
   "metadata": {},
   "outputs": [],
   "source": [
    "plot_confusion_matrix(bclf, X_test, y_test)\n",
    "plt.grid(False)\n",
    "plt.show()"
   ]
  },
  {
   "cell_type": "markdown",
   "metadata": {},
   "source": [
    "# XGB"
   ]
  },
  {
   "cell_type": "markdown",
   "metadata": {},
   "source": [
    "see [here](https://xgboost.readthedocs.io/en/latest/parameter.html) for information on all parameters <br />\n",
    "see [here](https://github.com/dmlc/xgboost/blob/master/demo/guide-python/cross_validation.py) and [here](https://github.com/tqchen/xgboost/tree/master/demo) for example of custom obj. function"
   ]
  },
  {
   "cell_type": "code",
   "execution_count": null,
   "metadata": {},
   "outputs": [],
   "source": [
    "neg_length = len(y_train) - y_train.sum()\n",
    "pos_length = y_train.sum()\n",
    "ratio = neg_length/pos_length"
   ]
  },
  {
   "cell_type": "code",
   "execution_count": null,
   "metadata": {},
   "outputs": [],
   "source": [
    "# See https://xgboost.readthedocs.io/en/latest/tutorials/param_tuning.html\n",
    "# If you care only about the overall performance metric (AUC) of your prediction:\n",
    "xgb_clf = xgb.XGBClassifier(n_estimators = 500, objective=\"binary:logistic\", base_score=.99, eval_metric=\"logloss\", seed=9, \n",
    "                            scale_pos_weight=1)"
   ]
  },
  {
   "cell_type": "code",
   "execution_count": null,
   "metadata": {},
   "outputs": [],
   "source": [
    "# If you care about predicting the right probability:\n",
    "# ^---- this is what we should do (IMO) --> 0.69 savings\n",
    "xgb_clf = xgb.XGBClassifier(n_estimators = 100, objective=\"binary:logistic\", eval_metric=\"auc\", seed=9,\n",
    "                            scale_pos_weight=ratio/5, reg_alpha=0.1, reg_lambda=3)"
   ]
  },
  {
   "cell_type": "code",
   "execution_count": null,
   "metadata": {},
   "outputs": [],
   "source": [
    "X_train.iloc[:,-9:] = X_train.iloc[:,-9:].astype(float)"
   ]
  },
  {
   "cell_type": "code",
   "execution_count": null,
   "metadata": {},
   "outputs": [],
   "source": [
    "# create a weighted claim_amount\n",
    "df[\"claim_amount_weighted\"] = [df.loc[i, \"claim_amount\"] * 1.3  if df.loc[i, 'fraud'] == 1 else df.loc[i, \"claim_amount\"] * 1 for i in df.index]"
   ]
  },
  {
   "cell_type": "code",
   "execution_count": null,
   "metadata": {},
   "outputs": [],
   "source": [
    "# calculate cost based on weighted claim amount or unweighted\n",
    "cost = df.iloc[X_train.index][\"claim_amount\"]"
   ]
  },
  {
   "cell_type": "code",
   "execution_count": null,
   "metadata": {},
   "outputs": [],
   "source": [
    "# sample-weighted XGB\n",
    "xgb_clf = xgb.XGBClassifier(n_estimators = 100, objective=\"binary:logistic\", eval_metric='auc', min_child_weight=1, seed=9,\n",
    "                            sample_weight=cost)"
   ]
  },
  {
   "cell_type": "code",
   "execution_count": null,
   "metadata": {},
   "outputs": [],
   "source": [
    "xgb_clf.fit(np.asarray(X_train), y_train)"
   ]
  },
  {
   "cell_type": "code",
   "execution_count": null,
   "metadata": {},
   "outputs": [],
   "source": [
    "# set grid params\n",
    "params = {\n",
    "        'n_estimators': [100, 150, 200, 250, 300, 400, 500, 600],\n",
    "        'learning_rate': [0.0001, 0.001, 0.005, 0.01, 0.05, 0.1],\n",
    "        'min_child_weight': [1, 3, 5, 7, 10, 20, 30],\n",
    "        'reg_lambda': [0.5, 1, 1.5, 2, 3, 4, 5],\n",
    "        'subsample': [0.4, 0.6, 0.7, 0.8, 0.9, 1.0],\n",
    "        'colsample_bytree': [0.6, 0.8, 1.0],\n",
    "        'max_depth': [3, 4, 5, 6, 7, 8, 9, 10],\n",
    "        'scale_pos_weight': [ratio/i for i in np.arange(1,11)] + [1],\n",
    "        'reg_alpha': [0.001, 0.01, 0.05, 0.1, 0.15, 0.2, 0.3],\n",
    "        'base_score': list(np.arange(0.1,1,0.09)),\n",
    "        'gamma': list(np.arange(0,22,3))\n",
    "        }"
   ]
  },
  {
   "cell_type": "code",
   "execution_count": null,
   "metadata": {},
   "outputs": [],
   "source": [
    "xgb_clf2 = xgb.XGBClassifier(objective=\"binary:logistic\", seed=9)"
   ]
  },
  {
   "cell_type": "code",
   "execution_count": null,
   "metadata": {},
   "outputs": [],
   "source": [
    "# make grid search pipeline\n",
    "over = SMOTE(sampling_strategy=0.4, random_state=42)\n",
    "under = RandomUnderSampler(sampling_strategy=0.6, random_state=42)\n",
    "pipeline = make_pipeline(over, under, xgb_clf2)"
   ]
  },
  {
   "cell_type": "code",
   "execution_count": null,
   "metadata": {},
   "outputs": [],
   "source": [
    "# rename params\n",
    "new_params = {'xgbclassifier__' + key: params[key] for key in params}"
   ]
  },
  {
   "cell_type": "code",
   "execution_count": null,
   "metadata": {},
   "outputs": [],
   "source": [
    "# apply randomized grid search CV\n",
    "cv = StratifiedKFold(n_splits=5, shuffle=True)\n",
    "random_search = RandomizedSearchCV(pipeline, param_distributions=new_params, n_iter=600, \n",
    "                                   scoring={'lift':lift_scorer, 'auc':'roc_auc', 'pr':pr_score, 'savings':savings}, n_jobs=-1, cv=cv, \n",
    "                                   verbose=3, random_state=49, refit=\"lift\")"
   ]
  },
  {
   "cell_type": "code",
   "execution_count": null,
   "metadata": {},
   "outputs": [],
   "source": [
    "# fit random search cv\n",
    "xgb_search = random_search.fit(np.asarray(X_train), y_train)"
   ]
  },
  {
   "cell_type": "code",
   "execution_count": null,
   "metadata": {},
   "outputs": [],
   "source": [
    "# print best params\n",
    "xgb_search.best_params_"
   ]
  },
  {
   "cell_type": "code",
   "execution_count": null,
   "metadata": {},
   "outputs": [],
   "source": [
    "# print results of cv\n",
    "pd.DataFrame(xgb_search.cv_results_)"
   ]
  },
  {
   "cell_type": "code",
   "execution_count": null,
   "metadata": {},
   "outputs": [],
   "source": [
    "# save restuls in json\n",
    "import json\n",
    "with open('output_pr.json', 'w+') as f:\n",
    "    json.dump(xgb_search.best_params_, f)"
   ]
  },
  {
   "cell_type": "code",
   "execution_count": null,
   "metadata": {},
   "outputs": [],
   "source": [
    "xgb_clf = xgb.XGBClassifier(objective=\"binary:logistic\", subsample= 0.8,\n",
    "                            scale_pos_weight=43.767857142857146,\n",
    "                            reg_lambda=3,\n",
    "                            reg_alpha=0.1,\n",
    "                            n_estimators=200,\n",
    "                            min_child_weight=20,\n",
    "                            max_depth=6,\n",
    "                            learning_rate=0.05,\n",
    "                            gamma=18,\n",
    "                            colsample_bytree=1.0,\n",
    "                            base_score=0.45999999999999996)"
   ]
  },
  {
   "cell_type": "code",
   "execution_count": null,
   "metadata": {},
   "outputs": [],
   "source": [
    "xgb_clf.fit(np.asarray(X_train_resampled), y_train_resampled)"
   ]
  },
  {
   "cell_type": "code",
   "execution_count": null,
   "metadata": {},
   "outputs": [],
   "source": [
    "plot_roc_curve(xgb_clf, np.asarray(X_train), y_train)\n",
    "plt.show()"
   ]
  },
  {
   "cell_type": "code",
   "execution_count": null,
   "metadata": {},
   "outputs": [],
   "source": [
    "plot_confusion_matrix(xgb_clf, np.asarray(X_train), y_train)\n",
    "plt.grid(False)\n",
    "plt.show()"
   ]
  },
  {
   "cell_type": "code",
   "execution_count": null,
   "metadata": {},
   "outputs": [],
   "source": [
    "X_test.iloc[:,-9:] = X_test.iloc[:,-9:].astype(float)"
   ]
  },
  {
   "cell_type": "code",
   "execution_count": null,
   "metadata": {},
   "outputs": [],
   "source": [
    "plot_roc_curve(xgb_search, np.asarray(X_test), y_test)"
   ]
  },
  {
   "cell_type": "code",
   "execution_count": null,
   "metadata": {},
   "outputs": [],
   "source": [
    "plot_confusion_matrix(xgb_search, np.asarray(X_test), y_test)\n",
    "plt.grid(False)\n",
    "plt.show()"
   ]
  },
  {
   "cell_type": "code",
   "execution_count": null,
   "metadata": {},
   "outputs": [],
   "source": [
    "model_name = 'XGB'\n",
    "# this will throw an error due to the fact that the cost matrix for train is 0\n",
    "# and we divide by 0\n",
    "final_out[model_name] = model_evaluation(model_name, xgb_clf,\n",
    "                                         X_train=np.asarray(X_train_resampled),\n",
    "                                         X_test=np.asarray(X_test),\n",
    "                                         y_train=y_train_resampled)"
   ]
  },
  {
   "cell_type": "markdown",
   "metadata": {},
   "source": [
    "# Overview\n"
   ]
  },
  {
   "cell_type": "code",
   "execution_count": null,
   "metadata": {},
   "outputs": [],
   "source": [
    "create_latex_overview(final_out)"
   ]
  },
  {
   "cell_type": "markdown",
   "metadata": {},
   "source": [
    "# Submission"
   ]
  },
  {
   "cell_type": "code",
   "execution_count": null,
   "metadata": {},
   "outputs": [],
   "source": [
    "submit_path = r\"./test.csv\""
   ]
  },
  {
   "cell_type": "code",
   "execution_count": null,
   "metadata": {},
   "outputs": [],
   "source": [
    "submit_set = pd.read_csv(submit_path, sep=\";\", encoding=\"utf-8-sig\")"
   ]
  },
  {
   "cell_type": "code",
   "execution_count": null,
   "metadata": {},
   "outputs": [],
   "source": [
    "sorted(submit_set[\"claim_date_registered\"])"
   ]
  },
  {
   "cell_type": "code",
   "execution_count": null,
   "metadata": {},
   "outputs": [],
   "source": [
    "# convert binary text variables into binary: {\"Y\":1, \"N\":0}\n",
    "for i in [\"claim_liable\", \"claim_police\", \"driver_injured\"]:\n",
    "    text_to_binary(i, \"Y\", \"N\", submit_set)\n",
    "# {\"P\":1, \"N\":0}\n",
    "text_to_binary(\"claim_alcohol\", \"P\", \"N\", submit_set)\n",
    "# {\"car\":1, \"van\":0}\n",
    "text_to_binary(\"claim_vehicle_type\", \"car\", \"van\", submit_set)\n",
    "# {\"M\":1, \"F\":0}\n",
    "text_to_binary(\"policy_holder_form\", \"M\", \"F\", submit_set)\n",
    "# {\"B\":1, \"N\":0}\n",
    "text_to_binary(\"policy_holder_country\", \"B\", \"N\", submit_set)\n",
    "# make claim_lang binary (currently 1:Dutch, 2:Fr) -> 0: Dutch and 1: French\n",
    "submit_set[\"claim_language\"] = submit_set[\"claim_language\"] - 1 \n",
    "\n",
    "# add buckets for vehicle power\n",
    "submit_set[\"vpower_buckets\"] = pd.qcut(submit_set[\"claim_vehicle_power\"], 5)\n",
    "\n",
    "# add provinces based on postal code\n",
    "postal_bins = [999, 1299, 1499, 1999, 2999, 3499, 3999, 4999, 5999, 6599, 6999, 7999, 8999, 9999]\n",
    "postal_label = [\"brussel\", \"waals_brabant\", \"vlaams_brabant\", 'Antwerpen', 'vlaams_brabant', 'limburg', \n",
    "                'luik', 'namen', 'henegouwen', 'luxemburg', 'henegouwen', 'w-vlaanderen', 'o-vlaanderen']\n",
    "submit_set[\"province\"] = pd.cut(submit_set[\"claim_postal_code\"], postal_bins, labels=postal_label, ordered=False)\n",
    "\n",
    "# add feature that describes if policy holders postal code is same as claim postal code\n",
    "submit_set[\"diff_postal_code\"] = (submit_set[\"policy_holder_postal_code\"] == submit_set[\"claim_postal_code\"]).astype(float)\n",
    "\n",
    "# get dummies for cat vars\n",
    "submit_set = encode(ohe, submit_set, ['claim_cause', 'vpower_buckets', 'province'])\n",
    "#df = encode_ph_postal_code(phpc_ohe, df)\n",
    "\n",
    "# format date\n",
    "YYYYMMDD_date_columns = [\"claim_date_registered\",\n",
    "                         \"claim_date_occured\"]\n",
    "for i in YYYYMMDD_date_columns:\n",
    "    submit_set[i] = pd.to_datetime(submit_set[i], format=\"%Y%m%d\")\n",
    "\n",
    "# remove extreme value\n",
    "submit_set[\"claim_vehicle_date_inuse\"].replace(to_replace=270505.0, value= np.nan, inplace=True)\n",
    "\n",
    "YYYYMM_columns = [\"claim_vehicle_date_inuse\", \n",
    "                  \"policy_date_start\",\n",
    "                  \"policy_date_next_expiry\",\n",
    "                  \"policy_date_last_renewed\"]\n",
    "for i in YYYYMM_columns:\n",
    "    submit_set[i] = pd.to_datetime(submit_set[i], format=\"%Y%m\")"
   ]
  },
  {
   "cell_type": "code",
   "execution_count": null,
   "metadata": {},
   "outputs": [],
   "source": [
    "# Add the extra features just like we did for the training set\n",
    "submit_set = add_extra_features(submit_set)"
   ]
  },
  {
   "cell_type": "code",
   "execution_count": null,
   "metadata": {},
   "outputs": [],
   "source": [
    "# Hide the claim_id column as index so that it's not used as covariate for the prediction, but we can recover\n",
    "# it later as we need claim_id in the output .csv file\n",
    "submit_set = submit_set.set_index('claim_id')\n",
    "#df = df[X_train.drop(columns=[\"claim_amount\"]).columns]\n",
    "submit_set = submit_set[X_train.columns]\n"
   ]
  },
  {
   "cell_type": "code",
   "execution_count": null,
   "metadata": {},
   "outputs": [],
   "source": [
    "submit_set.isna().sum()"
   ]
  },
  {
   "cell_type": "code",
   "execution_count": null,
   "metadata": {},
   "outputs": [],
   "source": [
    "submit_set.to_csv('submit.csv')"
   ]
  },
  {
   "cell_type": "code",
   "execution_count": null,
   "metadata": {},
   "outputs": [],
   "source": [
    "import urllib.request\n",
    "import json\n",
    "import os\n",
    "import ssl\n",
    "\n",
    "def allowSelfSignedHttps(allowed):\n",
    "    # bypass the server certificate verification on client side\n",
    "    if allowed and not os.environ.get('PYTHONHTTPSVERIFY', '') and getattr(ssl, '_create_unverified_context', None):\n",
    "        ssl._create_default_https_context = ssl._create_unverified_context\n",
    "\n",
    "allowSelfSignedHttps(True) # this line is needed if you use self-signed certificate in your scoring service.\n",
    "\n",
    "data = {\n",
    "    \"data\":\n",
    "    [\n",
    "        {\n",
    "            'Column2': \"example_value\",\n",
    "            'claim_liable': \"0\",\n",
    "            'claim_num_injured': \"0\",\n",
    "            'claim_num_third_parties': \"0\",\n",
    "            'claim_num_vehicles': \"0\",\n",
    "            'claim_police': \"0\",\n",
    "            'claim_language': \"0\",\n",
    "            'claim_vehicle_type': \"0\",\n",
    "            'policy_holder_form': \"0\",\n",
    "            'policy_holder_country': \"0\",\n",
    "            'policy_num_changes': \"0\",\n",
    "            'policy_num_claims': \"0\",\n",
    "            'policy_premium_100': \"0\",\n",
    "            'policy_coverage_1000': \"0\",\n",
    "            'diff_postal_code': \"0\",\n",
    "            'claim_cause_animal': \"0\",\n",
    "            'claim_cause_fire': \"0\",\n",
    "            'claim_cause_other': \"0\",\n",
    "            'claim_cause_theft': \"0\",\n",
    "            'claim_cause_traffic accident': \"0\",\n",
    "            'claim_cause_vandalism': \"0\",\n",
    "            'claim_cause_weather': \"0\",\n",
    "            'claim_cause_windows': \"0\",\n",
    "            'vpower_buckets_(-0.001, 55.0]': \"0\",\n",
    "            'vpower_buckets_(55.0, 66.0]': \"0\",\n",
    "            'vpower_buckets_(66.0, 81.0]': \"0\",\n",
    "            'vpower_buckets_(81.0, 100.0]': \"0\",\n",
    "            'vpower_buckets_(100.0, 426.0]': \"0\",\n",
    "            'vpower_buckets_nan': \"0\",\n",
    "            'province_Antwerpen': \"0\",\n",
    "            'province_brussel': \"0\",\n",
    "            'province_henegouwen': \"0\",\n",
    "            'province_limburg': \"0\",\n",
    "            'province_luik': \"0\",\n",
    "            'province_luxemburg': \"0\",\n",
    "            'province_namen': \"0\",\n",
    "            'province_o-vlaanderen': \"0\",\n",
    "            'province_vlaams_brabant': \"0\",\n",
    "            'province_w-vlaanderen': \"0\",\n",
    "            'province_waals_brabant': \"1\",\n",
    "            'claim_vehicle_id_count': \"0\",\n",
    "            'policy_holder_id_count': \"0\",\n",
    "            'driver_id_count': \"0\",\n",
    "            'driver_vehicle_id_count': \"0\",\n",
    "            'third_party_1_id_count': \"0\",\n",
    "            'third_party_1_vehicle_id_count': \"0\",\n",
    "            'blacklisted_expert_id': \"false\",\n",
    "            'policy_holder_age': \"0\",\n",
    "            'pct1': \"0\",\n",
    "            'pct2': \"0\",\n",
    "            'pct3': \"0\",\n",
    "            'pct4': \"0\",\n",
    "            'pct5': \"0\",\n",
    "            'pct6': \"0\",\n",
    "            'pct7': \"0\",\n",
    "            'pct8': \"0\",\n",
    "            'pct9': \"0\",\n",
    "        },\n",
    "    ],\n",
    "}\n",
    "\n",
    "body = str.encode(json.dumps(data))\n",
    "\n",
    "url = 'http://be62a776-8b23-41b0-a6d2-0f61a6e64323.francecentral.azurecontainer.io/score'\n",
    "api_key = '' # Replace this with the API key for the web service\n",
    "headers = {'Content-Type':'application/json', 'Authorization':('Bearer '+ api_key)}\n",
    "\n",
    "req = urllib.request.Request(url, body, headers)\n",
    "\n",
    "try:\n",
    "    response = urllib.request.urlopen(req)\n",
    "\n",
    "    result = response.read()\n",
    "    print(result)\n",
    "except urllib.error.HTTPError as error:\n",
    "    print(\"The request failed with status code: \" + str(error.code))\n",
    "\n",
    "    # Print the headers - they include the requert ID and the timestamp, which are useful for debugging the failure\n",
    "    print(error.info())\n",
    "    print(json.loads(error.read().decode(\"utf8\", 'ignore')))"
   ]
  },
  {
   "cell_type": "code",
   "execution_count": null,
   "metadata": {},
   "outputs": [],
   "source": [
    "# impute remaining missing values with mode or mean on train set\n",
    "# here it could potentially make sense to include a third category (i.e. missing), although this would be a small cat\n",
    "\n",
    "# mode\n",
    "submit_set[\"claim_language\"].fillna(train_lang_mode, inplace=True)\n",
    "submit_set[\"claim_vehicle_type\"].fillna(train_vtype_mode, inplace=True)\n",
    "\n",
    "# mean\n",
    "submit_set[\"policy_premium_100\"].fillna(train_premium_mean, inplace=True)\n",
    "submit_set[\"policy_coverage_1000\"].fillna(train_coverage_mean, inplace=True)\n",
    "submit_set[\"policy_holder_age\"].fillna(train_policy_holder_mean_age, inplace=True)"
   ]
  },
  {
   "cell_type": "code",
   "execution_count": null,
   "metadata": {},
   "outputs": [],
   "source": [
    "assert submit_set.isna().sum().sum() == 0"
   ]
  },
  {
   "cell_type": "code",
   "execution_count": null,
   "metadata": {},
   "outputs": [],
   "source": [
    "# While we don't have a model yet to predict claim_amount, set it to 0.0\n",
    "# TODO: Replace this with the predicted response variable of the regression model on the submission set.\n",
    "#df['claim_amount'] = model2.predict(df)"
   ]
  },
  {
   "cell_type": "code",
   "execution_count": null,
   "metadata": {},
   "outputs": [],
   "source": [
    "submit_scaled = scaler.transform(submit_set)"
   ]
  },
  {
   "cell_type": "code",
   "execution_count": null,
   "metadata": {},
   "outputs": [],
   "source": [
    "submit_not_scaled = submit_set.copy()"
   ]
  },
  {
   "cell_type": "code",
   "execution_count": null,
   "metadata": {},
   "outputs": [],
   "source": [
    "# final submission set initialization\n",
    "submission = submit_set.reset_index()[['claim_id']]"
   ]
  },
  {
   "cell_type": "code",
   "execution_count": null,
   "metadata": {},
   "outputs": [],
   "source": [
    "# for logistic regression\n",
    "submission[\"prediction\"] = clf.predict_proba(submit_scaled)[:,1]"
   ]
  },
  {
   "cell_type": "code",
   "execution_count": null,
   "metadata": {},
   "outputs": [],
   "source": [
    "# for logistic regression with SMOTE\n",
    "submission[\"prediction\"] = clf_resampled.predict_proba(submit_scaled)[:,1]"
   ]
  },
  {
   "cell_type": "code",
   "execution_count": null,
   "metadata": {},
   "outputs": [],
   "source": [
    "# for rf with SMOTE\n",
    "submission[\"prediction\"] = rf.predict_proba(submit_not_scaled)[:,1]"
   ]
  },
  {
   "cell_type": "code",
   "execution_count": null,
   "metadata": {},
   "outputs": [],
   "source": [
    "# for balanced random forest\n",
    "submission[\"prediction\"] = bclf.predict_proba(submit_not_scaled)[:,1]"
   ]
  },
  {
   "cell_type": "code",
   "execution_count": null,
   "metadata": {},
   "outputs": [],
   "source": [
    "# for xgb\n",
    "submit_not_scaled.iloc[:,-9:] = submit_not_scaled.iloc[:,-9:].astype(float)\n",
    "submission[\"prediction\"] = xgb_clf.predict_proba(submit_not_scaled)[:,1]"
   ]
  },
  {
   "cell_type": "code",
   "execution_count": null,
   "metadata": {},
   "outputs": [],
   "source": [
    "# for cost-sensitive xgb\n",
    "submit_not_scaled.iloc[:,-9:] = submit_not_scaled.iloc[:,-9:].astype(float)\n",
    "submission[\"prediction\"] = xgb_clf.predict_proba(np.asarray(submit_not_scaled))[:,1]"
   ]
  },
  {
   "cell_type": "code",
   "execution_count": null,
   "metadata": {},
   "outputs": [],
   "source": [
    "# for cost-sensitive ann\n",
    "submission[\"prediction\"] = clf.predict(np.asarray(submit_not_scaled).astype(np.float32), verbose=1)"
   ]
  },
  {
   "cell_type": "code",
   "execution_count": null,
   "metadata": {},
   "outputs": [],
   "source": [
    "# for randomsearch xgb\n",
    "submit_not_scaled.iloc[:,-9:] = submit_not_scaled.iloc[:,-9:].astype(float)\n",
    "submission[\"PROB\"] = xgb_search.predict_proba(np.asarray(submit_not_scaled))[:,1]"
   ]
  },
  {
   "cell_type": "code",
   "execution_count": null,
   "metadata": {},
   "outputs": [],
   "source": [
    "submission.columns = [\"ID\", \"PROB\"]"
   ]
  },
  {
   "cell_type": "code",
   "execution_count": null,
   "metadata": {},
   "outputs": [],
   "source": [
    "submission.head()"
   ]
  },
  {
   "cell_type": "code",
   "execution_count": null,
   "metadata": {},
   "outputs": [],
   "source": [
    "submission.to_csv(\"submission_V0.53.csv\", sep=',', index=False)"
   ]
  }
 ],
 "metadata": {
  "kernelspec": {
   "display_name": "Python [conda env:sust_iot]",
   "language": "python",
   "name": "conda-env-sust_iot-py"
  },
  "language_info": {
   "codemirror_mode": {
    "name": "ipython",
    "version": 3
   },
   "file_extension": ".py",
   "mimetype": "text/x-python",
   "name": "python",
   "nbconvert_exporter": "python",
   "pygments_lexer": "ipython3",
   "version": "3.9.4"
  }
 },
 "nbformat": 4,
 "nbformat_minor": 5
}
