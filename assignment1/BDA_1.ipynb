{
 "cells": [
  {
   "cell_type": "markdown",
   "metadata": {},
   "source": [
    "# Import packages"
   ]
  },
  {
   "cell_type": "code",
   "execution_count": 1,
   "metadata": {},
   "outputs": [],
   "source": [
    "import pandas as pd\n",
    "import numpy as np\n",
    "import matplotlib.pyplot as plt\n",
    "\n",
    "from sklearn.preprocessing import StandardScaler\n",
    "from sklearn.model_selection import train_test_split, GridSearchCV, RandomizedSearchCV, StratifiedKFold\n",
    "from sklearn.linear_model import LinearRegression, LogisticRegression\n",
    "from sklearn.ensemble import RandomForestClassifier, RandomForestRegressor\n",
    "from sklearn.metrics import log_loss, roc_auc_score, plot_roc_curve, plot_confusion_matrix, confusion_matrix, make_scorer\n",
    "from sklearn.metrics import balanced_accuracy_score, dcg_score, roc_auc_score, average_precision_score, roc_curve\n",
    "\n",
    "import xgboost as xgb\n",
    "\n",
    "import seaborn as sns\n",
    "\n",
    "from imblearn.ensemble import BalancedRandomForestClassifier\n",
    "from imblearn.over_sampling import SMOTE\n",
    "from imblearn.under_sampling import RandomUnderSampler\n",
    "from imblearn.pipeline import Pipeline, make_pipeline\n",
    "\n",
    "#from costcla.metrics import cost_loss\n",
    "\n",
    "from features import update_dataset_features, text_to_binary, add_extra_features, encode\n",
    "from eval_metrics import savings\n",
    "\n",
    "pd.set_option(\"display.max_columns\",500)\n",
    "plt.style.use('ggplot')"
   ]
  },
  {
   "cell_type": "code",
   "execution_count": 2,
   "metadata": {},
   "outputs": [],
   "source": [
    "data_path = r\"./train.csv\"\n",
    "image_dir = r\"./images/\""
   ]
  },
  {
   "cell_type": "code",
   "execution_count": 3,
   "metadata": {},
   "outputs": [],
   "source": [
    "df = pd.read_csv(data_path, sep=\";\", encoding=\"utf-8-sig\")"
   ]
  },
  {
   "cell_type": "code",
   "execution_count": null,
   "metadata": {},
   "outputs": [],
   "source": [
    "#df[\"claim_date_occured\"] = pd.to_datetime(df[\"claim_date_occured\"], format=\"%Y%m%d\")\n",
    "#min(df[\"claim_date_occured\"].dt.year - df[\"policy_holder_year_birth\"])"
   ]
  },
  {
   "cell_type": "markdown",
   "metadata": {},
   "source": [
    "# Exploratory Data Analysis (EDA)"
   ]
  },
  {
   "cell_type": "code",
   "execution_count": 6,
   "metadata": {},
   "outputs": [
    {
     "data": {
      "text/plain": [
       "0.5553251717361124"
      ]
     },
     "execution_count": 6,
     "metadata": {},
     "output_type": "execute_result"
    }
   ],
   "source": [
    "# check imbalance\n",
    "df[\"fraud\"].replace({\"N\":0, \"Y\":1}).sum() / len(df[\"fraud\"]) * 100"
   ]
  },
  {
   "cell_type": "code",
   "execution_count": 12,
   "metadata": {},
   "outputs": [
    {
     "data": {
      "text/html": [
       "<div>\n",
       "<style scoped>\n",
       "    .dataframe tbody tr th:only-of-type {\n",
       "        vertical-align: middle;\n",
       "    }\n",
       "\n",
       "    .dataframe tbody tr th {\n",
       "        vertical-align: top;\n",
       "    }\n",
       "\n",
       "    .dataframe thead th {\n",
       "        text-align: right;\n",
       "    }\n",
       "</style>\n",
       "<table border=\"1\" class=\"dataframe\">\n",
       "  <thead>\n",
       "    <tr style=\"text-align: right;\">\n",
       "      <th>claim_vehicle_brand</th>\n",
       "      <th>ALFA ROMEO</th>\n",
       "      <th>AUDI</th>\n",
       "      <th>BMW</th>\n",
       "      <th>CHEVROLET</th>\n",
       "      <th>CHRYSLER</th>\n",
       "      <th>CITROEN</th>\n",
       "      <th>DACIA</th>\n",
       "      <th>DODGE</th>\n",
       "      <th>FIAT</th>\n",
       "      <th>FORD</th>\n",
       "      <th>...</th>\n",
       "      <th>PORSCHE</th>\n",
       "      <th>RENAULT</th>\n",
       "      <th>SAAB</th>\n",
       "      <th>SEAT</th>\n",
       "      <th>SKODA</th>\n",
       "      <th>SSANGYONG</th>\n",
       "      <th>SUZUKI</th>\n",
       "      <th>TOYOTA</th>\n",
       "      <th>VOLKSWAGEN</th>\n",
       "      <th>VOLVO</th>\n",
       "    </tr>\n",
       "    <tr>\n",
       "      <th>fraud</th>\n",
       "      <th></th>\n",
       "      <th></th>\n",
       "      <th></th>\n",
       "      <th></th>\n",
       "      <th></th>\n",
       "      <th></th>\n",
       "      <th></th>\n",
       "      <th></th>\n",
       "      <th></th>\n",
       "      <th></th>\n",
       "      <th></th>\n",
       "      <th></th>\n",
       "      <th></th>\n",
       "      <th></th>\n",
       "      <th></th>\n",
       "      <th></th>\n",
       "      <th></th>\n",
       "      <th></th>\n",
       "      <th></th>\n",
       "      <th></th>\n",
       "      <th></th>\n",
       "    </tr>\n",
       "  </thead>\n",
       "  <tbody>\n",
       "    <tr>\n",
       "      <th>N</th>\n",
       "      <td>0.007205</td>\n",
       "      <td>0.045336</td>\n",
       "      <td>0.054056</td>\n",
       "      <td>0.008610</td>\n",
       "      <td>0.001625</td>\n",
       "      <td>0.083533</td>\n",
       "      <td>0.019000</td>\n",
       "      <td>0.001801</td>\n",
       "      <td>0.028269</td>\n",
       "      <td>0.082083</td>\n",
       "      <td>...</td>\n",
       "      <td>0.001757</td>\n",
       "      <td>0.076746</td>\n",
       "      <td>0.00224</td>\n",
       "      <td>0.019285</td>\n",
       "      <td>0.020449</td>\n",
       "      <td>0.001428</td>\n",
       "      <td>0.010939</td>\n",
       "      <td>0.043622</td>\n",
       "      <td>0.107211</td>\n",
       "      <td>0.019461</td>\n",
       "    </tr>\n",
       "    <tr>\n",
       "      <th>Y</th>\n",
       "      <td>0.000066</td>\n",
       "      <td>0.000351</td>\n",
       "      <td>0.000681</td>\n",
       "      <td>0.000022</td>\n",
       "      <td>0.000022</td>\n",
       "      <td>0.000483</td>\n",
       "      <td>0.000198</td>\n",
       "      <td>0.000000</td>\n",
       "      <td>0.000264</td>\n",
       "      <td>0.000351</td>\n",
       "      <td>...</td>\n",
       "      <td>0.000044</td>\n",
       "      <td>0.000351</td>\n",
       "      <td>0.00000</td>\n",
       "      <td>0.000066</td>\n",
       "      <td>0.000088</td>\n",
       "      <td>0.000000</td>\n",
       "      <td>0.000066</td>\n",
       "      <td>0.000132</td>\n",
       "      <td>0.000593</td>\n",
       "      <td>0.000088</td>\n",
       "    </tr>\n",
       "  </tbody>\n",
       "</table>\n",
       "<p>2 rows × 35 columns</p>\n",
       "</div>"
      ],
      "text/plain": [
       "claim_vehicle_brand  ALFA ROMEO      AUDI       BMW  CHEVROLET  CHRYSLER  \\\n",
       "fraud                                                                      \n",
       "N                      0.007205  0.045336  0.054056   0.008610  0.001625   \n",
       "Y                      0.000066  0.000351  0.000681   0.000022  0.000022   \n",
       "\n",
       "claim_vehicle_brand   CITROEN     DACIA     DODGE      FIAT      FORD  ...  \\\n",
       "fraud                                                                  ...   \n",
       "N                    0.083533  0.019000  0.001801  0.028269  0.082083  ...   \n",
       "Y                    0.000483  0.000198  0.000000  0.000264  0.000351  ...   \n",
       "\n",
       "claim_vehicle_brand   PORSCHE   RENAULT     SAAB      SEAT     SKODA  \\\n",
       "fraud                                                                  \n",
       "N                    0.001757  0.076746  0.00224  0.019285  0.020449   \n",
       "Y                    0.000044  0.000351  0.00000  0.000066  0.000088   \n",
       "\n",
       "claim_vehicle_brand  SSANGYONG    SUZUKI    TOYOTA  VOLKSWAGEN     VOLVO  \n",
       "fraud                                                                     \n",
       "N                     0.001428  0.010939  0.043622    0.107211  0.019461  \n",
       "Y                     0.000000  0.000066  0.000132    0.000593  0.000088  \n",
       "\n",
       "[2 rows x 35 columns]"
      ]
     },
     "execution_count": 12,
     "metadata": {},
     "output_type": "execute_result"
    }
   ],
   "source": [
    "pd.crosstab(df[\"fraud\"], df[\"claim_vehicle_brand\"], normalize=True)"
   ]
  },
  {
   "cell_type": "code",
   "execution_count": 7,
   "metadata": {},
   "outputs": [
    {
     "data": {
      "image/png": "[encoded data removed]",
      "text/plain": [
       "<Figure size 432x288 with 1 Axes>"
      ]
     },
     "metadata": {},
     "output_type": "display_data"
    }
   ],
   "source": [
    "# graph for claim_date_occurred\n",
    "df[\"claim_date_occured\"].plot(kind='hist', logy=True)\n",
    "plt.ylabel('log(Frequency)')\n",
    "plt.xlabel('Year')\n",
    "plt.savefig(image_dir + 'claim_date_occurred.png')"
   ]
  },
  {
   "cell_type": "code",
   "execution_count": 8,
   "metadata": {},
   "outputs": [
    {
     "data": {
      "image/png": "[encoded data removed]",
      "text/plain": [
       "<Figure size 432x288 with 1 Axes>"
      ]
     },
     "metadata": {},
     "output_type": "display_data"
    }
   ],
   "source": [
    "# graph for claim_cause\n",
    "df[\"claim_cause\"].value_counts().plot(kind='bar')\n",
    "plt.ylabel(\"Frequency\")\n",
    "plt.savefig(image_dir + 'claim_cause.png')"
   ]
  },
  {
   "cell_type": "code",
   "execution_count": 17,
   "metadata": {},
   "outputs": [],
   "source": [
    "postal_bins = [999, 1299, 1499, 1999, 2999, 3499, 3999, 4999, 5999, 6599, 6999, 7999, 8999, 9999]\n",
    "postal_label = [\"brussel\", \"waals_brabant\", \"vlaams_brabant\", 'Antwerpen', 'vlaams_brabant', 'limburg', \n",
    "                'luik', 'namen', 'henegouwen', 'luxemburg', 'henegouwen', 'w-vlaanderen', 'o-vlaanderen']\n",
    "df[\"province\"] = pd.cut(df[\"claim_postal_code\"], postal_bins, labels=postal_label, ordered=False)"
   ]
  },
  {
   "cell_type": "code",
   "execution_count": 26,
   "metadata": {},
   "outputs": [
    {
     "data": {
      "image/png": "[encoded data removed]",
      "text/plain": [
       "<Figure size 432x288 with 1 Axes>"
      ]
     },
     "metadata": {},
     "output_type": "display_data"
    }
   ],
   "source": [
    "pd.crosstab(df[\"province\"], df[\"fraud\"], normalize=True).plot.bar()\n",
    "plt.yscale('log')\n",
    "plt.ylabel('log(Frequency)')\n",
    "plt.savefig(image_dir + 'province.png')"
   ]
  },
  {
   "cell_type": "code",
   "execution_count": 13,
   "metadata": {},
   "outputs": [
    {
     "name": "stdout",
     "output_type": "stream",
     "text": [
      "claim_id\n"
     ]
    },
    {
     "data": {
      "image/png": "[encoded data removed]",
      "text/plain": [
       "<Figure size 432x288 with 1 Axes>"
      ]
     },
     "metadata": {
      "needs_background": "light"
     },
     "output_type": "display_data"
    },
    {
     "name": "stdout",
     "output_type": "stream",
     "text": [
      "count    55463.000000\n",
      "mean     37734.210825\n",
      "std      16012.679701\n",
      "min      10000.000000\n",
      "25%      23867.500000\n",
      "50%      37734.000000\n",
      "75%      51601.500000\n",
      "max      65468.000000\n",
      "Name: claim_id, dtype: float64\n",
      "*************************************************************************\n",
      "fraud\n"
     ]
    },
    {
     "data": {
      "image/png": "[encoded data removed]",
      "text/plain": [
       "<Figure size 432x288 with 1 Axes>"
      ]
     },
     "metadata": {
      "needs_background": "light"
     },
     "output_type": "display_data"
    },
    {
     "name": "stdout",
     "output_type": "stream",
     "text": [
      "count     55463\n",
      "unique        2\n",
      "top           N\n",
      "freq      55155\n",
      "Name: fraud, dtype: object\n",
      "*************************************************************************\n",
      "claim_amount\n",
      "*******too many values to plot*******************\n",
      "count      55463\n",
      "unique     48731\n",
      "top       169,00\n",
      "freq          23\n",
      "Name: claim_amount, dtype: object\n",
      "*************************************************************************\n",
      "claim_date_registered\n"
     ]
    },
    {
     "data": {
      "image/png": "[encoded data removed]",
      "text/plain": [
       "<Figure size 432x288 with 1 Axes>"
      ]
     },
     "metadata": {
      "needs_background": "light"
     },
     "output_type": "display_data"
    },
    {
     "name": "stdout",
     "output_type": "stream",
     "text": [
      "count    5.546300e+04\n",
      "mean     2.017067e+07\n",
      "std      3.457509e+02\n",
      "min      2.017010e+07\n",
      "25%      2.017040e+07\n",
      "50%      2.017063e+07\n",
      "75%      2.017100e+07\n",
      "max      2.017123e+07\n",
      "Name: claim_date_registered, dtype: float64\n",
      "*************************************************************************\n",
      "claim_date_occured\n"
     ]
    },
    {
     "data": {
      "image/png": "[encoded data removed]",
      "text/plain": [
       "<Figure size 432x288 with 1 Axes>"
      ]
     },
     "metadata": {
      "needs_background": "light"
     },
     "output_type": "display_data"
    },
    {
     "name": "stdout",
     "output_type": "stream",
     "text": [
      "count    5.546300e+04\n",
      "mean     2.017019e+07\n",
      "std      2.394936e+03\n",
      "min      2.010032e+07\n",
      "25%      2.017032e+07\n",
      "50%      2.017061e+07\n",
      "75%      2.017092e+07\n",
      "max      2.017123e+07\n",
      "Name: claim_date_occured, dtype: float64\n",
      "*************************************************************************\n",
      "claim_time_occured\n"
     ]
    },
    {
     "data": {
      "image/png": "[encoded data removed]",
      "text/plain": [
       "<Figure size 432x288 with 1 Axes>"
      ]
     },
     "metadata": {
      "needs_background": "light"
     },
     "output_type": "display_data"
    },
    {
     "name": "stdout",
     "output_type": "stream",
     "text": [
      "count    6453.000000\n",
      "mean     1360.452503\n",
      "std       472.532826\n",
      "min         0.000000\n",
      "25%      1000.000000\n",
      "50%      1400.000000\n",
      "75%      1730.000000\n",
      "max      2400.000000\n",
      "Name: claim_time_occured, dtype: float64\n",
      "*************************************************************************\n",
      "claim_postal_code\n"
     ]
    },
    {
     "data": {
      "image/png": "[encoded data removed]",
      "text/plain": [
       "<Figure size 432x288 with 1 Axes>"
      ]
     },
     "metadata": {
      "needs_background": "light"
     },
     "output_type": "display_data"
    },
    {
     "name": "stdout",
     "output_type": "stream",
     "text": [
      "count    55463.000000\n",
      "mean      4939.372951\n",
      "std       2985.665452\n",
      "min       1000.000000\n",
      "25%       2310.000000\n",
      "50%       3950.000000\n",
      "75%       8400.000000\n",
      "max       9991.000000\n",
      "Name: claim_postal_code, dtype: float64\n",
      "*************************************************************************\n",
      "claim_cause\n"
     ]
    },
    {
     "data": {
      "image/png": "[encoded data removed]",
      "text/plain": [
       "<Figure size 432x288 with 1 Axes>"
      ]
     },
     "metadata": {
      "needs_background": "light"
     },
     "output_type": "display_data"
    },
    {
     "name": "stdout",
     "output_type": "stream",
     "text": [
      "count                55463\n",
      "unique                   8\n",
      "top       traffic accident\n",
      "freq                 43496\n",
      "Name: claim_cause, dtype: object\n",
      "*************************************************************************\n",
      "claim_liable\n"
     ]
    },
    {
     "data": {
      "image/png": "[encoded data removed]",
      "text/plain": [
       "<Figure size 432x288 with 1 Axes>"
      ]
     },
     "metadata": {
      "needs_background": "light"
     },
     "output_type": "display_data"
    },
    {
     "name": "stdout",
     "output_type": "stream",
     "text": [
      "count     55463\n",
      "unique        2\n",
      "top           N\n",
      "freq      33803\n",
      "Name: claim_liable, dtype: object\n",
      "*************************************************************************\n",
      "claim_num_injured\n"
     ]
    },
    {
     "data": {
      "image/png": "[encoded data removed]",
      "text/plain": [
       "<Figure size 432x288 with 1 Axes>"
      ]
     },
     "metadata": {
      "needs_background": "light"
     },
     "output_type": "display_data"
    },
    {
     "name": "stdout",
     "output_type": "stream",
     "text": [
      "count    55463.000000\n",
      "mean         0.072030\n",
      "std          0.314657\n",
      "min          0.000000\n",
      "25%          0.000000\n",
      "50%          0.000000\n",
      "75%          0.000000\n",
      "max          5.000000\n",
      "Name: claim_num_injured, dtype: float64\n",
      "*************************************************************************\n",
      "claim_num_third_parties\n"
     ]
    },
    {
     "data": {
      "image/png": "[encoded data removed]",
      "text/plain": [
       "<Figure size 432x288 with 1 Axes>"
      ]
     },
     "metadata": {
      "needs_background": "light"
     },
     "output_type": "display_data"
    },
    {
     "name": "stdout",
     "output_type": "stream",
     "text": [
      "count    55463.000000\n",
      "mean         0.831419\n",
      "std          0.580161\n",
      "min          0.000000\n",
      "25%          1.000000\n",
      "50%          1.000000\n",
      "75%          1.000000\n",
      "max          5.000000\n",
      "Name: claim_num_third_parties, dtype: float64\n",
      "*************************************************************************\n",
      "claim_num_vehicles\n"
     ]
    },
    {
     "data": {
      "image/png": "[encoded data removed]",
      "text/plain": [
       "<Figure size 432x288 with 1 Axes>"
      ]
     },
     "metadata": {
      "needs_background": "light"
     },
     "output_type": "display_data"
    },
    {
     "name": "stdout",
     "output_type": "stream",
     "text": [
      "count    55463.000000\n",
      "mean         2.408489\n",
      "std          0.918571\n",
      "min          0.000000\n",
      "25%          2.000000\n",
      "50%          2.000000\n",
      "75%          3.000000\n",
      "max          5.000000\n",
      "Name: claim_num_vehicles, dtype: float64\n",
      "*************************************************************************\n",
      "claim_police\n"
     ]
    },
    {
     "data": {
      "image/png": "[encoded data removed]",
      "text/plain": [
       "<Figure size 432x288 with 1 Axes>"
      ]
     },
     "metadata": {
      "needs_background": "light"
     },
     "output_type": "display_data"
    },
    {
     "name": "stdout",
     "output_type": "stream",
     "text": [
      "count     55463\n",
      "unique        2\n",
      "top           N\n",
      "freq      47819\n",
      "Name: claim_police, dtype: object\n",
      "*************************************************************************\n",
      "claim_alcohol\n"
     ]
    },
    {
     "data": {
      "image/png": "[encoded data removed]",
      "text/plain": [
       "<Figure size 432x288 with 1 Axes>"
      ]
     },
     "metadata": {
      "needs_background": "light"
     },
     "output_type": "display_data"
    },
    {
     "name": "stdout",
     "output_type": "stream",
     "text": [
      "count     908\n",
      "unique      2\n",
      "top         N\n",
      "freq      796\n",
      "Name: claim_alcohol, dtype: object\n",
      "*************************************************************************\n",
      "claim_language\n"
     ]
    },
    {
     "data": {
      "image/png": "[encoded data removed]",
      "text/plain": [
       "<Figure size 432x288 with 1 Axes>"
      ]
     },
     "metadata": {
      "needs_background": "light"
     },
     "output_type": "display_data"
    },
    {
     "name": "stdout",
     "output_type": "stream",
     "text": [
      "count    55420.000000\n",
      "mean         1.708102\n",
      "std          0.454640\n",
      "min          1.000000\n",
      "25%          1.000000\n",
      "50%          2.000000\n",
      "75%          2.000000\n",
      "max          2.000000\n",
      "Name: claim_language, dtype: float64\n",
      "*************************************************************************\n",
      "claim_vehicle_id\n",
      "*******too many values to plot*******************\n",
      "count                                           45136\n",
      "unique                                          40611\n",
      "top       OGYwZjFlNmQ5NDczNzM1ZTk3Y2I0ODQ1OGZkODRkYWI\n",
      "freq                                                6\n",
      "Name: claim_vehicle_id, dtype: object\n",
      "*************************************************************************\n",
      "claim_vehicle_brand\n",
      "*******too many values to plot*******************\n",
      "count          45527\n",
      "unique            35\n",
      "top       VOLKSWAGEN\n",
      "freq            4908\n",
      "Name: claim_vehicle_brand, dtype: object\n",
      "*************************************************************************\n",
      "claim_vehicle_type\n"
     ]
    },
    {
     "data": {
      "image/png": "[encoded data removed]",
      "text/plain": [
       "<Figure size 432x288 with 1 Axes>"
      ]
     },
     "metadata": {
      "needs_background": "light"
     },
     "output_type": "display_data"
    },
    {
     "name": "stdout",
     "output_type": "stream",
     "text": [
      "count     55309\n",
      "unique        2\n",
      "top         car\n",
      "freq      51552\n",
      "Name: claim_vehicle_type, dtype: object\n",
      "*************************************************************************\n",
      "claim_vehicle_date_inuse\n"
     ]
    },
    {
     "data": {
      "image/png": "[encoded data removed]",
      "text/plain": [
       "<Figure size 432x288 with 1 Axes>"
      ]
     },
     "metadata": {
      "needs_background": "light"
     },
     "output_type": "display_data"
    },
    {
     "name": "stdout",
     "output_type": "stream",
     "text": [
      "count     54849.000000\n",
      "mean     200884.814637\n",
      "std         585.577671\n",
      "min      196204.000000\n",
      "25%      200604.000000\n",
      "50%      201006.000000\n",
      "75%      201303.000000\n",
      "max      270505.000000\n",
      "Name: claim_vehicle_date_inuse, dtype: float64\n",
      "*************************************************************************\n",
      "claim_vehicle_cyl\n"
     ]
    },
    {
     "data": {
      "image/png": "[encoded data removed]",
      "text/plain": [
       "<Figure size 432x288 with 1 Axes>"
      ]
     },
     "metadata": {
      "needs_background": "light"
     },
     "output_type": "display_data"
    },
    {
     "name": "stdout",
     "output_type": "stream",
     "text": [
      "count    50546.000000\n",
      "mean      1579.646283\n",
      "std        569.124114\n",
      "min          0.000000\n",
      "25%       1360.000000\n",
      "50%       1587.000000\n",
      "75%       1968.000000\n",
      "max       3000.000000\n",
      "Name: claim_vehicle_cyl, dtype: float64\n",
      "*************************************************************************\n",
      "claim_vehicle_load\n"
     ]
    },
    {
     "data": {
      "image/png": "[encoded data removed]",
      "text/plain": [
       "<Figure size 432x288 with 1 Axes>"
      ]
     },
     "metadata": {
      "needs_background": "light"
     },
     "output_type": "display_data"
    },
    {
     "name": "stdout",
     "output_type": "stream",
     "text": [
      "count    46846.000000\n",
      "mean         1.927318\n",
      "std          2.343768\n",
      "min          0.600000\n",
      "25%          1.610000\n",
      "50%          1.850000\n",
      "75%          2.070000\n",
      "max        500.000000\n",
      "Name: claim_vehicle_load, dtype: float64\n",
      "*************************************************************************\n",
      "claim_vehicle_fuel_type\n"
     ]
    },
    {
     "data": {
      "image/png": "[encoded data removed]",
      "text/plain": [
       "<Figure size 432x288 with 1 Axes>"
      ]
     },
     "metadata": {
      "needs_background": "light"
     },
     "output_type": "display_data"
    },
    {
     "name": "stdout",
     "output_type": "stream",
     "text": [
      "count    55027.000000\n",
      "mean         1.709070\n",
      "std          0.454195\n",
      "min          1.000000\n",
      "25%          1.000000\n",
      "50%          2.000000\n",
      "75%          2.000000\n",
      "max          2.000000\n",
      "Name: claim_vehicle_fuel_type, dtype: float64\n",
      "*************************************************************************\n",
      "claim_vehicle_power\n"
     ]
    },
    {
     "data": {
      "image/png": "[encoded data removed]",
      "text/plain": [
       "<Figure size 432x288 with 1 Axes>"
      ]
     },
     "metadata": {
      "needs_background": "light"
     },
     "output_type": "display_data"
    },
    {
     "name": "stdout",
     "output_type": "stream",
     "text": [
      "count    46315.000000\n",
      "mean        78.681485\n",
      "std         27.994627\n",
      "min          0.000000\n",
      "25%         59.000000\n",
      "50%         76.000000\n",
      "75%         91.000000\n",
      "max        426.000000\n",
      "Name: claim_vehicle_power, dtype: float64\n",
      "*************************************************************************\n",
      "policy_holder_id\n",
      "*******too many values to plot*******************\n",
      "count                                           55463\n",
      "unique                                          28519\n",
      "top       MTNlMmVhMzM4ZWMzNDIyMTY2OTJhN2EwY2E1YmI2N2I\n",
      "freq                                              124\n",
      "Name: policy_holder_id, dtype: object\n",
      "*************************************************************************\n",
      "policy_holder_postal_code\n"
     ]
    },
    {
     "data": {
      "image/png": "[encoded data removed]",
      "text/plain": [
       "<Figure size 432x288 with 1 Axes>"
      ]
     },
     "metadata": {
      "needs_background": "light"
     },
     "output_type": "display_data"
    },
    {
     "name": "stdout",
     "output_type": "stream",
     "text": [
      "count    55352.000000\n",
      "mean      5246.050911\n",
      "std       2910.040457\n",
      "min       1000.000000\n",
      "25%       2620.000000\n",
      "50%       4280.000000\n",
      "75%       8500.000000\n",
      "max       9992.000000\n",
      "Name: policy_holder_postal_code, dtype: float64\n",
      "*************************************************************************\n",
      "policy_holder_form\n"
     ]
    },
    {
     "data": {
      "image/png": "[encoded data removed]",
      "text/plain": [
       "<Figure size 432x288 with 1 Axes>"
      ]
     },
     "metadata": {
      "needs_background": "light"
     },
     "output_type": "display_data"
    },
    {
     "name": "stdout",
     "output_type": "stream",
     "text": [
      "count     55463\n",
      "unique        2\n",
      "top           M\n",
      "freq      35002\n",
      "Name: policy_holder_form, dtype: object\n",
      "*************************************************************************\n",
      "policy_holder_year_birth\n"
     ]
    },
    {
     "data": {
      "image/png": "[encoded data removed]",
      "text/plain": [
       "<Figure size 432x288 with 1 Axes>"
      ]
     },
     "metadata": {
      "needs_background": "light"
     },
     "output_type": "display_data"
    },
    {
     "name": "stdout",
     "output_type": "stream",
     "text": [
      "count    50082.000000\n",
      "mean      1971.282716\n",
      "std         15.512778\n",
      "min       1900.000000\n",
      "25%       1960.000000\n",
      "50%       1973.000000\n",
      "75%       1984.000000\n",
      "max       2015.000000\n",
      "Name: policy_holder_year_birth, dtype: float64\n",
      "*************************************************************************\n",
      "policy_holder_country\n"
     ]
    },
    {
     "data": {
      "image/png": "[encoded data removed]",
      "text/plain": [
       "<Figure size 432x288 with 1 Axes>"
      ]
     },
     "metadata": {
      "needs_background": "light"
     },
     "output_type": "display_data"
    },
    {
     "name": "stdout",
     "output_type": "stream",
     "text": [
      "count     55463\n",
      "unique        2\n",
      "top           B\n",
      "freq      55352\n",
      "Name: policy_holder_country, dtype: object\n",
      "*************************************************************************\n",
      "policy_holder_expert_id\n",
      "*******too many values to plot*******************\n",
      "count                                            9578\n",
      "unique                                             75\n",
      "top       YmNkZjNiZTQ1MmYzNGQ5YTRmNjI0N2U1YzdiOWUzYzE\n",
      "freq                                             1332\n",
      "Name: policy_holder_expert_id, dtype: object\n",
      "*************************************************************************\n",
      "driver_id\n",
      "*******too many values to plot*******************\n",
      "count                                           55463\n",
      "unique                                          26765\n",
      "top       ZDEyMDQzM2I3MDE5MWMyODgwNThmNDkyZDczMjQ1ZGY\n",
      "freq                                              437\n",
      "Name: driver_id, dtype: object\n",
      "*************************************************************************\n",
      "driver_postal_code\n"
     ]
    },
    {
     "data": {
      "image/png": "[encoded data removed]",
      "text/plain": [
       "<Figure size 432x288 with 1 Axes>"
      ]
     },
     "metadata": {
      "needs_background": "light"
     },
     "output_type": "display_data"
    },
    {
     "name": "stdout",
     "output_type": "stream",
     "text": [
      "count    55390.000000\n",
      "mean      5095.559523\n",
      "std       2937.484639\n",
      "min       1000.000000\n",
      "25%       2490.000000\n",
      "50%       4020.000000\n",
      "75%       8450.000000\n",
      "max       9992.000000\n",
      "Name: driver_postal_code, dtype: float64\n",
      "*************************************************************************\n",
      "driver_form\n"
     ]
    },
    {
     "data": {
      "image/png": "[encoded data removed]",
      "text/plain": [
       "<Figure size 432x288 with 1 Axes>"
      ]
     },
     "metadata": {
      "needs_background": "light"
     },
     "output_type": "display_data"
    },
    {
     "name": "stdout",
     "output_type": "stream",
     "text": [
      "count     55463\n",
      "unique        2\n",
      "top           M\n",
      "freq      39912\n",
      "Name: driver_form, dtype: object\n",
      "*************************************************************************\n",
      "driver_year_birth\n"
     ]
    },
    {
     "data": {
      "image/png": "[encoded data removed]",
      "text/plain": [
       "<Figure size 432x288 with 1 Axes>"
      ]
     },
     "metadata": {
      "needs_background": "light"
     },
     "output_type": "display_data"
    },
    {
     "name": "stdout",
     "output_type": "stream",
     "text": [
      "count    43097.000000\n",
      "mean      1967.929786\n",
      "std         14.893063\n",
      "min       1900.000000\n",
      "25%       1958.000000\n",
      "50%       1968.000000\n",
      "75%       1980.000000\n",
      "max       2014.000000\n",
      "Name: driver_year_birth, dtype: float64\n",
      "*************************************************************************\n",
      "driver_country\n"
     ]
    },
    {
     "data": {
      "image/png": "[encoded data removed]",
      "text/plain": [
       "<Figure size 432x288 with 1 Axes>"
      ]
     },
     "metadata": {
      "needs_background": "light"
     },
     "output_type": "display_data"
    },
    {
     "name": "stdout",
     "output_type": "stream",
     "text": [
      "count     55463\n",
      "unique        2\n",
      "top           B\n",
      "freq      55390\n",
      "Name: driver_country, dtype: object\n",
      "*************************************************************************\n",
      "driver_expert_id\n",
      "*******too many values to plot*******************\n",
      "count                                           13746\n",
      "unique                                             77\n",
      "top       YmNkZjNiZTQ1MmYzNGQ5YTRmNjI0N2U1YzdiOWUzYzE\n",
      "freq                                             1878\n",
      "Name: driver_expert_id, dtype: object\n",
      "*************************************************************************\n",
      "driver_injured\n"
     ]
    },
    {
     "data": {
      "image/png": "[encoded data removed]",
      "text/plain": [
       "<Figure size 432x288 with 1 Axes>"
      ]
     },
     "metadata": {
      "needs_background": "light"
     },
     "output_type": "display_data"
    },
    {
     "name": "stdout",
     "output_type": "stream",
     "text": [
      "count     55463\n",
      "unique        2\n",
      "top           N\n",
      "freq      54818\n",
      "Name: driver_injured, dtype: object\n",
      "*************************************************************************\n",
      "driver_vehicle_id\n",
      "*******too many values to plot*******************\n",
      "count                                           45147\n",
      "unique                                          40618\n",
      "top       OGYwZjFlNmQ5NDczNzM1ZTk3Y2I0ODQ1OGZkODRkYWI\n",
      "freq                                                6\n",
      "Name: driver_vehicle_id, dtype: object\n",
      "*************************************************************************\n",
      "third_party_1_id\n",
      "*******too many values to plot*******************\n",
      "count                                           41722\n",
      "unique                                          28723\n",
      "top       NTg0ODNiYTYwODI0MGU0MzRlODM2MGNkYWI5NGNkODY\n",
      "freq                                              119\n",
      "Name: third_party_1_id, dtype: object\n",
      "*************************************************************************\n",
      "third_party_1_postal_code\n"
     ]
    },
    {
     "data": {
      "image/png": "[encoded data removed]",
      "text/plain": [
       "<Figure size 432x288 with 1 Axes>"
      ]
     },
     "metadata": {
      "needs_background": "light"
     },
     "output_type": "display_data"
    },
    {
     "name": "stdout",
     "output_type": "stream",
     "text": [
      "count    40618.000000\n",
      "mean      5106.696612\n",
      "std       2980.397851\n",
      "min       1000.000000\n",
      "25%       2450.000000\n",
      "50%       4000.000000\n",
      "75%       8501.000000\n",
      "max       9992.000000\n",
      "Name: third_party_1_postal_code, dtype: float64\n",
      "*************************************************************************\n",
      "third_party_1_injured\n"
     ]
    },
    {
     "data": {
      "image/png": "[encoded data removed]",
      "text/plain": [
       "<Figure size 432x288 with 1 Axes>"
      ]
     },
     "metadata": {
      "needs_background": "light"
     },
     "output_type": "display_data"
    },
    {
     "name": "stdout",
     "output_type": "stream",
     "text": [
      "count     41722\n",
      "unique        2\n",
      "top           N\n",
      "freq      39808\n",
      "Name: third_party_1_injured, dtype: object\n",
      "*************************************************************************\n",
      "third_party_1_vehicle_type\n"
     ]
    },
    {
     "data": {
      "image/png": "[encoded data removed]",
      "text/plain": [
       "<Figure size 432x288 with 1 Axes>"
      ]
     },
     "metadata": {
      "needs_background": "light"
     },
     "output_type": "display_data"
    },
    {
     "name": "stdout",
     "output_type": "stream",
     "text": [
      "count     39423\n",
      "unique        8\n",
      "top         car\n",
      "freq      35227\n",
      "Name: third_party_1_vehicle_type, dtype: object\n",
      "*************************************************************************\n",
      "third_party_1_form\n"
     ]
    },
    {
     "data": {
      "image/png": "[encoded data removed]",
      "text/plain": [
       "<Figure size 432x288 with 1 Axes>"
      ]
     },
     "metadata": {
      "needs_background": "light"
     },
     "output_type": "display_data"
    },
    {
     "name": "stdout",
     "output_type": "stream",
     "text": [
      "count     41722\n",
      "unique        3\n",
      "top           M\n",
      "freq      16779\n",
      "Name: third_party_1_form, dtype: object\n",
      "*************************************************************************\n",
      "third_party_1_year_birth\n"
     ]
    },
    {
     "data": {
      "image/png": "[encoded data removed]",
      "text/plain": [
       "<Figure size 432x288 with 1 Axes>"
      ]
     },
     "metadata": {
      "needs_background": "light"
     },
     "output_type": "display_data"
    },
    {
     "name": "stdout",
     "output_type": "stream",
     "text": [
      "count    9870.000000\n",
      "mean     1969.229281\n",
      "std        16.253359\n",
      "min      1900.000000\n",
      "25%      1958.000000\n",
      "50%      1969.000000\n",
      "75%      1982.000000\n",
      "max      2015.000000\n",
      "Name: third_party_1_year_birth, dtype: float64\n",
      "*************************************************************************\n",
      "third_party_1_country\n"
     ]
    },
    {
     "data": {
      "image/png": "[encoded data removed]",
      "text/plain": [
       "<Figure size 432x288 with 1 Axes>"
      ]
     },
     "metadata": {
      "needs_background": "light"
     },
     "output_type": "display_data"
    },
    {
     "name": "stdout",
     "output_type": "stream",
     "text": [
      "count     41722\n",
      "unique        2\n",
      "top           B\n",
      "freq      40618\n",
      "Name: third_party_1_country, dtype: object\n",
      "*************************************************************************\n",
      "third_party_1_vehicle_id\n",
      "*******too many values to plot*******************\n",
      "count                                           36551\n",
      "unique                                          35670\n",
      "top       NTA1OGYxYWY4Mzg4NjMzZjYwOWNhZGI3NWE3NWRjOWQ\n",
      "freq                                              166\n",
      "Name: third_party_1_vehicle_id, dtype: object\n",
      "*************************************************************************\n",
      "third_party_1_expert_id\n",
      "*******too many values to plot*******************\n",
      "count                                             654\n",
      "unique                                             72\n",
      "top       YmNkZjNiZTQ1MmYzNGQ5YTRmNjI0N2U1YzdiOWUzYzE\n",
      "freq                                               71\n",
      "Name: third_party_1_expert_id, dtype: object\n",
      "*************************************************************************\n",
      "third_party_2_id\n",
      "*******too many values to plot*******************\n",
      "count                                            4218\n",
      "unique                                           3660\n",
      "top       NTg0ODNiYTYwODI0MGU0MzRlODM2MGNkYWI5NGNkODY\n",
      "freq                                               19\n",
      "Name: third_party_2_id, dtype: object\n",
      "*************************************************************************\n",
      "third_party_2_postal_code\n"
     ]
    },
    {
     "data": {
      "image/png": "[encoded data removed]",
      "text/plain": [
       "<Figure size 432x288 with 1 Axes>"
      ]
     },
     "metadata": {
      "needs_background": "light"
     },
     "output_type": "display_data"
    },
    {
     "name": "stdout",
     "output_type": "stream",
     "text": [
      "count    4091.000000\n",
      "mean     5099.257639\n",
      "std      2994.791439\n",
      "min      1000.000000\n",
      "25%      2480.000000\n",
      "50%      3920.000000\n",
      "75%      8550.000000\n",
      "max      9991.000000\n",
      "Name: third_party_2_postal_code, dtype: float64\n",
      "*************************************************************************\n",
      "third_party_2_injured\n"
     ]
    },
    {
     "data": {
      "image/png": "[encoded data removed]",
      "text/plain": [
       "<Figure size 432x288 with 1 Axes>"
      ]
     },
     "metadata": {
      "needs_background": "light"
     },
     "output_type": "display_data"
    },
    {
     "name": "stdout",
     "output_type": "stream",
     "text": [
      "count     4218\n",
      "unique       2\n",
      "top          N\n",
      "freq      3525\n",
      "Name: third_party_2_injured, dtype: object\n",
      "*************************************************************************\n",
      "third_party_2_vehicle_type\n"
     ]
    },
    {
     "data": {
      "image/png": "[encoded data removed]",
      "text/plain": [
       "<Figure size 432x288 with 1 Axes>"
      ]
     },
     "metadata": {
      "needs_background": "light"
     },
     "output_type": "display_data"
    },
    {
     "name": "stdout",
     "output_type": "stream",
     "text": [
      "count     3462\n",
      "unique       8\n",
      "top        car\n",
      "freq      2730\n",
      "Name: third_party_2_vehicle_type, dtype: object\n",
      "*************************************************************************\n",
      "third_party_2_form\n"
     ]
    },
    {
     "data": {
      "image/png": "[encoded data removed]",
      "text/plain": [
       "<Figure size 432x288 with 1 Axes>"
      ]
     },
     "metadata": {
      "needs_background": "light"
     },
     "output_type": "display_data"
    },
    {
     "name": "stdout",
     "output_type": "stream",
     "text": [
      "count     4218\n",
      "unique       5\n",
      "top          M\n",
      "freq      1742\n",
      "Name: third_party_2_form, dtype: object\n",
      "*************************************************************************\n",
      "third_party_2_year_birth\n"
     ]
    },
    {
     "data": {
      "image/png": "[encoded data removed]",
      "text/plain": [
       "<Figure size 432x288 with 1 Axes>"
      ]
     },
     "metadata": {
      "needs_background": "light"
     },
     "output_type": "display_data"
    },
    {
     "name": "stdout",
     "output_type": "stream",
     "text": [
      "count    1621.000000\n",
      "mean     1973.099321\n",
      "std        16.535092\n",
      "min      1926.000000\n",
      "25%      1962.000000\n",
      "50%      1974.000000\n",
      "75%      1986.000000\n",
      "max      2015.000000\n",
      "Name: third_party_2_year_birth, dtype: float64\n",
      "*************************************************************************\n",
      "third_party_2_country\n"
     ]
    },
    {
     "data": {
      "image/png": "[encoded data removed]",
      "text/plain": [
       "<Figure size 432x288 with 1 Axes>"
      ]
     },
     "metadata": {
      "needs_background": "light"
     },
     "output_type": "display_data"
    },
    {
     "name": "stdout",
     "output_type": "stream",
     "text": [
      "count     4218\n",
      "unique       2\n",
      "top          B\n",
      "freq      4091\n",
      "Name: third_party_2_country, dtype: object\n",
      "*************************************************************************\n",
      "third_party_2_vehicle_id\n",
      "*******too many values to plot*******************\n",
      "count                                            2868\n",
      "unique                                           2821\n",
      "top       NTA1OGYxYWY4Mzg4NjMzZjYwOWNhZGI3NWE3NWRjOWQ\n",
      "freq                                               16\n",
      "Name: third_party_2_vehicle_id, dtype: object\n",
      "*************************************************************************\n",
      "third_party_2_expert_id\n",
      "*******too many values to plot*******************\n",
      "count                                              27\n",
      "unique                                             22\n",
      "top       OGQ2ZTAzMzJmYjBmYWY2MjJjNzZkZmNhYTFhZWZmY2M\n",
      "freq                                                2\n",
      "Name: third_party_2_expert_id, dtype: object\n",
      "*************************************************************************\n",
      "third_party_3_id\n",
      "*******too many values to plot*******************\n",
      "count                                              28\n",
      "unique                                             28\n",
      "top       ZDIzMjYwMjA1NWY4OGJlZmVhNzNkM2FhYmMxMTEyMDQ\n",
      "freq                                                1\n",
      "Name: third_party_3_id, dtype: object\n",
      "*************************************************************************\n",
      "third_party_3_postal_code\n"
     ]
    },
    {
     "data": {
      "image/png": "[encoded data removed]",
      "text/plain": [
       "<Figure size 432x288 with 1 Axes>"
      ]
     },
     "metadata": {
      "needs_background": "light"
     },
     "output_type": "display_data"
    },
    {
     "name": "stdout",
     "output_type": "stream",
     "text": [
      "count      27.000000\n",
      "mean     4214.518519\n",
      "std      2810.049361\n",
      "min      1070.000000\n",
      "25%      2235.000000\n",
      "50%      3390.000000\n",
      "75%      5700.000000\n",
      "max      9820.000000\n",
      "Name: third_party_3_postal_code, dtype: float64\n",
      "*************************************************************************\n",
      "third_party_3_injured\n"
     ]
    },
    {
     "data": {
      "image/png": "[encoded data removed]",
      "text/plain": [
       "<Figure size 432x288 with 1 Axes>"
      ]
     },
     "metadata": {
      "needs_background": "light"
     },
     "output_type": "display_data"
    },
    {
     "name": "stdout",
     "output_type": "stream",
     "text": [
      "count     28\n",
      "unique     2\n",
      "top        N\n",
      "freq      21\n",
      "Name: third_party_3_injured, dtype: object\n",
      "*************************************************************************\n",
      "third_party_3_vehicle_type\n"
     ]
    },
    {
     "data": {
      "image/png": "[encoded data removed]",
      "text/plain": [
       "<Figure size 432x288 with 1 Axes>"
      ]
     },
     "metadata": {
      "needs_background": "light"
     },
     "output_type": "display_data"
    },
    {
     "name": "stdout",
     "output_type": "stream",
     "text": [
      "count      22\n",
      "unique      4\n",
      "top       car\n",
      "freq       19\n",
      "Name: third_party_3_vehicle_type, dtype: object\n",
      "*************************************************************************\n",
      "third_party_3_form\n"
     ]
    },
    {
     "data": {
      "image/png": "[encoded data removed]",
      "text/plain": [
       "<Figure size 432x288 with 1 Axes>"
      ]
     },
     "metadata": {
      "needs_background": "light"
     },
     "output_type": "display_data"
    },
    {
     "name": "stdout",
     "output_type": "stream",
     "text": [
      "count     28\n",
      "unique     4\n",
      "top        M\n",
      "freq       9\n",
      "Name: third_party_3_form, dtype: object\n",
      "*************************************************************************\n",
      "third_party_3_year_birth\n"
     ]
    },
    {
     "data": {
      "image/png": "[encoded data removed]",
      "text/plain": [
       "<Figure size 432x288 with 1 Axes>"
      ]
     },
     "metadata": {
      "needs_background": "light"
     },
     "output_type": "display_data"
    },
    {
     "name": "stdout",
     "output_type": "stream",
     "text": [
      "count       9.000000\n",
      "mean     1968.666667\n",
      "std        25.238859\n",
      "min      1938.000000\n",
      "25%      1952.000000\n",
      "50%      1961.000000\n",
      "75%      1984.000000\n",
      "max      2013.000000\n",
      "Name: third_party_3_year_birth, dtype: float64\n",
      "*************************************************************************\n",
      "third_party_3_country\n"
     ]
    },
    {
     "data": {
      "image/png": "[encoded data removed]",
      "text/plain": [
       "<Figure size 432x288 with 1 Axes>"
      ]
     },
     "metadata": {
      "needs_background": "light"
     },
     "output_type": "display_data"
    },
    {
     "name": "stdout",
     "output_type": "stream",
     "text": [
      "count     28\n",
      "unique     2\n",
      "top        B\n",
      "freq      27\n",
      "Name: third_party_3_country, dtype: object\n",
      "*************************************************************************\n",
      "third_party_3_vehicle_id\n",
      "*******too many values to plot*******************\n",
      "count                                              18\n",
      "unique                                             18\n",
      "top       ODg3YmQxMWUyNWVkYzIyMGY3ZGNmMGQ1YjlhNzkzNDk\n",
      "freq                                                1\n",
      "Name: third_party_3_vehicle_id, dtype: object\n",
      "*************************************************************************\n",
      "third_party_3_expert_id\n"
     ]
    },
    {
     "data": {
      "image/png": "[encoded data removed]",
      "text/plain": [
       "<Figure size 432x288 with 1 Axes>"
      ]
     },
     "metadata": {
      "needs_background": "light"
     },
     "output_type": "display_data"
    },
    {
     "name": "stdout",
     "output_type": "stream",
     "text": [
      "count    0.0\n",
      "mean     NaN\n",
      "std      NaN\n",
      "min      NaN\n",
      "25%      NaN\n",
      "50%      NaN\n",
      "75%      NaN\n",
      "max      NaN\n",
      "Name: third_party_3_expert_id, dtype: float64\n",
      "*************************************************************************\n",
      "repair_id\n",
      "*******too many values to plot*******************\n",
      "count                                           25345\n",
      "unique                                           4831\n",
      "top       NzRjYTk0N2NiMTU4ZWYwMTdiM2Y1NTZiNjFiM2QxY2Y\n",
      "freq                                              335\n",
      "Name: repair_id, dtype: object\n",
      "*************************************************************************\n",
      "repair_postal_code\n"
     ]
    },
    {
     "data": {
      "image/png": "[encoded data removed]",
      "text/plain": [
       "<Figure size 432x288 with 1 Axes>"
      ]
     },
     "metadata": {
      "needs_background": "light"
     },
     "output_type": "display_data"
    },
    {
     "name": "stdout",
     "output_type": "stream",
     "text": [
      "count    25323.000000\n",
      "mean      5147.263042\n",
      "std       2826.016355\n",
      "min       1000.000000\n",
      "25%       2800.000000\n",
      "50%       4030.000000\n",
      "75%       8400.000000\n",
      "max       9992.000000\n",
      "Name: repair_postal_code, dtype: float64\n",
      "*************************************************************************\n",
      "repair_form\n"
     ]
    },
    {
     "data": {
      "image/png": "[encoded data removed]",
      "text/plain": [
       "<Figure size 432x288 with 1 Axes>"
      ]
     },
     "metadata": {
      "needs_background": "light"
     },
     "output_type": "display_data"
    },
    {
     "name": "stdout",
     "output_type": "stream",
     "text": [
      "count     25345\n",
      "unique        3\n",
      "top           C\n",
      "freq      24853\n",
      "Name: repair_form, dtype: object\n",
      "*************************************************************************\n",
      "repair_year_birth\n"
     ]
    },
    {
     "data": {
      "image/png": "[encoded data removed]",
      "text/plain": [
       "<Figure size 432x288 with 1 Axes>"
      ]
     },
     "metadata": {
      "needs_background": "light"
     },
     "output_type": "display_data"
    },
    {
     "name": "stdout",
     "output_type": "stream",
     "text": [
      "count      89.000000\n",
      "mean     1969.359551\n",
      "std        12.485671\n",
      "min      1935.000000\n",
      "25%      1961.000000\n",
      "50%      1968.000000\n",
      "75%      1977.000000\n",
      "max      1998.000000\n",
      "Name: repair_year_birth, dtype: float64\n",
      "*************************************************************************\n",
      "repair_country\n"
     ]
    },
    {
     "data": {
      "image/png": "[encoded data removed]",
      "text/plain": [
       "<Figure size 432x288 with 1 Axes>"
      ]
     },
     "metadata": {
      "needs_background": "light"
     },
     "output_type": "display_data"
    },
    {
     "name": "stdout",
     "output_type": "stream",
     "text": [
      "count     25345\n",
      "unique        2\n",
      "top           B\n",
      "freq      25323\n",
      "Name: repair_country, dtype: object\n",
      "*************************************************************************\n",
      "repair_sla\n"
     ]
    },
    {
     "data": {
      "image/png": "[encoded data removed]",
      "text/plain": [
       "<Figure size 432x288 with 1 Axes>"
      ]
     },
     "metadata": {
      "needs_background": "light"
     },
     "output_type": "display_data"
    },
    {
     "name": "stdout",
     "output_type": "stream",
     "text": [
      "count     55463\n",
      "unique        2\n",
      "top           N\n",
      "freq      35894\n",
      "Name: repair_sla, dtype: object\n",
      "*************************************************************************\n",
      "policy_date_start\n"
     ]
    },
    {
     "data": {
      "image/png": "[encoded data removed]",
      "text/plain": [
       "<Figure size 432x288 with 1 Axes>"
      ]
     },
     "metadata": {
      "needs_background": "light"
     },
     "output_type": "display_data"
    },
    {
     "name": "stdout",
     "output_type": "stream",
     "text": [
      "count     46312.000000\n",
      "mean     200838.003865\n",
      "std        1250.346279\n",
      "min      195201.000000\n",
      "25%      200707.000000\n",
      "50%      201212.000000\n",
      "75%      201508.000000\n",
      "max      201712.000000\n",
      "Name: policy_date_start, dtype: float64\n",
      "*************************************************************************\n",
      "policy_date_next_expiry\n"
     ]
    },
    {
     "data": {
      "image/png": "[encoded data removed]",
      "text/plain": [
       "<Figure size 432x288 with 1 Axes>"
      ]
     },
     "metadata": {
      "needs_background": "light"
     },
     "output_type": "display_data"
    },
    {
     "name": "stdout",
     "output_type": "stream",
     "text": [
      "count     46312.000000\n",
      "mean     201754.342913\n",
      "std          52.988219\n",
      "min      201005.000000\n",
      "25%      201709.000000\n",
      "50%      201712.000000\n",
      "75%      201804.000000\n",
      "max      201812.000000\n",
      "Name: policy_date_next_expiry, dtype: float64\n",
      "*************************************************************************\n",
      "policy_date_last_renewed\n"
     ]
    },
    {
     "data": {
      "image/png": "[encoded data removed]",
      "text/plain": [
       "<Figure size 432x288 with 1 Axes>"
      ]
     },
     "metadata": {
      "needs_background": "light"
     },
     "output_type": "display_data"
    },
    {
     "name": "stdout",
     "output_type": "stream",
     "text": [
      "count     46312.000000\n",
      "mean     201754.342913\n",
      "std          52.988219\n",
      "min      201005.000000\n",
      "25%      201709.000000\n",
      "50%      201712.000000\n",
      "75%      201804.000000\n",
      "max      201812.000000\n",
      "Name: policy_date_last_renewed, dtype: float64\n",
      "*************************************************************************\n",
      "policy_num_changes\n"
     ]
    },
    {
     "data": {
      "image/png": "[encoded data removed]",
      "text/plain": [
       "<Figure size 432x288 with 1 Axes>"
      ]
     },
     "metadata": {
      "needs_background": "light"
     },
     "output_type": "display_data"
    },
    {
     "name": "stdout",
     "output_type": "stream",
     "text": [
      "count    55463.000000\n",
      "mean         0.425076\n",
      "std          0.947263\n",
      "min          0.000000\n",
      "25%          0.000000\n",
      "50%          0.000000\n",
      "75%          0.000000\n",
      "max         10.000000\n",
      "Name: policy_num_changes, dtype: float64\n",
      "*************************************************************************\n",
      "policy_num_claims\n"
     ]
    },
    {
     "data": {
      "image/png": "[encoded data removed]",
      "text/plain": [
       "<Figure size 432x288 with 1 Axes>"
      ]
     },
     "metadata": {
      "needs_background": "light"
     },
     "output_type": "display_data"
    },
    {
     "name": "stdout",
     "output_type": "stream",
     "text": [
      "count    55463.000000\n",
      "mean         2.034491\n",
      "std          2.570084\n",
      "min          0.000000\n",
      "25%          0.000000\n",
      "50%          1.000000\n",
      "75%          3.000000\n",
      "max         10.000000\n",
      "Name: policy_num_claims, dtype: float64\n",
      "*************************************************************************\n",
      "policy_premium_100\n"
     ]
    },
    {
     "data": {
      "image/png": "[encoded data removed]",
      "text/plain": [
       "<Figure size 432x288 with 1 Axes>"
      ]
     },
     "metadata": {
      "needs_background": "light"
     },
     "output_type": "display_data"
    },
    {
     "name": "stdout",
     "output_type": "stream",
     "text": [
      "count    46301.000000\n",
      "mean         7.947625\n",
      "std          4.236660\n",
      "min          1.000000\n",
      "25%          4.000000\n",
      "50%          7.000000\n",
      "75%         10.000000\n",
      "max         71.000000\n",
      "Name: policy_premium_100, dtype: float64\n",
      "*************************************************************************\n",
      "policy_coverage_1000\n"
     ]
    },
    {
     "data": {
      "image/png": "[encoded data removed]",
      "text/plain": [
       "<Figure size 432x288 with 1 Axes>"
      ]
     },
     "metadata": {
      "needs_background": "light"
     },
     "output_type": "display_data"
    },
    {
     "name": "stdout",
     "output_type": "stream",
     "text": [
      "count    27043.000000\n",
      "mean        21.537255\n",
      "std         10.824431\n",
      "min          1.000000\n",
      "25%         14.000000\n",
      "50%         19.000000\n",
      "75%         26.000000\n",
      "max        148.000000\n",
      "Name: policy_coverage_1000, dtype: float64\n",
      "*************************************************************************\n",
      "policy_coverage_type\n",
      "*******too many values to plot*******************\n",
      "count          55463\n",
      "unique            73\n",
      "top       #000110000\n",
      "freq           11705\n",
      "Name: policy_coverage_type, dtype: object\n",
      "*************************************************************************\n"
     ]
    }
   ],
   "source": [
    "for i in df.columns:\n",
    "    print(i)\n",
    "    try:\n",
    "        df[i].plot(kind=\"hist\")\n",
    "        plt.show()\n",
    "        print(df[i].describe())\n",
    "    except TypeError:\n",
    "        values = df[i].value_counts()\n",
    "        if len(values) < 10:\n",
    "            values.plot(kind=\"bar\")\n",
    "            plt.show()\n",
    "            print(df[i].describe())\n",
    "        else:\n",
    "            print('*******too many values to plot*******************')\n",
    "            print(df[i].describe())\n",
    "    print('*************************************************************************')"
   ]
  },
  {
   "cell_type": "code",
   "execution_count": 121,
   "metadata": {},
   "outputs": [
    {
     "data": {
      "text/html": [
       "<div>\n",
       "<style scoped>\n",
       "    .dataframe tbody tr th:only-of-type {\n",
       "        vertical-align: middle;\n",
       "    }\n",
       "\n",
       "    .dataframe tbody tr th {\n",
       "        vertical-align: top;\n",
       "    }\n",
       "\n",
       "    .dataframe thead th {\n",
       "        text-align: right;\n",
       "    }\n",
       "</style>\n",
       "<table border=\"1\" class=\"dataframe\">\n",
       "  <thead>\n",
       "    <tr style=\"text-align: right;\">\n",
       "      <th></th>\n",
       "      <th>fraud</th>\n",
       "    </tr>\n",
       "  </thead>\n",
       "  <tbody>\n",
       "    <tr>\n",
       "      <th>fraud</th>\n",
       "      <td>1.000000</td>\n",
       "    </tr>\n",
       "    <tr>\n",
       "      <th>claim_amount</th>\n",
       "      <td>0.170206</td>\n",
       "    </tr>\n",
       "    <tr>\n",
       "      <th>claim_liable</th>\n",
       "      <td>-0.026001</td>\n",
       "    </tr>\n",
       "    <tr>\n",
       "      <th>claim_num_injured</th>\n",
       "      <td>-0.007083</td>\n",
       "    </tr>\n",
       "    <tr>\n",
       "      <th>claim_num_third_parties</th>\n",
       "      <td>-0.046453</td>\n",
       "    </tr>\n",
       "    <tr>\n",
       "      <th>claim_num_vehicles</th>\n",
       "      <td>0.040726</td>\n",
       "    </tr>\n",
       "    <tr>\n",
       "      <th>claim_police</th>\n",
       "      <td>0.050361</td>\n",
       "    </tr>\n",
       "    <tr>\n",
       "      <th>claim_language</th>\n",
       "      <td>-0.042761</td>\n",
       "    </tr>\n",
       "    <tr>\n",
       "      <th>claim_vehicle_type</th>\n",
       "      <td>-0.009006</td>\n",
       "    </tr>\n",
       "    <tr>\n",
       "      <th>policy_holder_form</th>\n",
       "      <td>0.008863</td>\n",
       "    </tr>\n",
       "    <tr>\n",
       "      <th>policy_holder_country</th>\n",
       "      <td>-0.002082</td>\n",
       "    </tr>\n",
       "    <tr>\n",
       "      <th>policy_num_changes</th>\n",
       "      <td>0.021535</td>\n",
       "    </tr>\n",
       "    <tr>\n",
       "      <th>policy_num_claims</th>\n",
       "      <td>0.003151</td>\n",
       "    </tr>\n",
       "    <tr>\n",
       "      <th>policy_premium_100</th>\n",
       "      <td>0.035227</td>\n",
       "    </tr>\n",
       "    <tr>\n",
       "      <th>policy_coverage_1000</th>\n",
       "      <td>0.014735</td>\n",
       "    </tr>\n",
       "    <tr>\n",
       "      <th>diff_postal_code</th>\n",
       "      <td>0.016842</td>\n",
       "    </tr>\n",
       "    <tr>\n",
       "      <th>claim_cause_animal</th>\n",
       "      <td>0.025000</td>\n",
       "    </tr>\n",
       "    <tr>\n",
       "      <th>claim_cause_fire</th>\n",
       "      <td>0.089546</td>\n",
       "    </tr>\n",
       "    <tr>\n",
       "      <th>claim_cause_other</th>\n",
       "      <td>0.010476</td>\n",
       "    </tr>\n",
       "    <tr>\n",
       "      <th>claim_cause_theft</th>\n",
       "      <td>0.217773</td>\n",
       "    </tr>\n",
       "    <tr>\n",
       "      <th>claim_cause_traffic accident</th>\n",
       "      <td>-0.065791</td>\n",
       "    </tr>\n",
       "    <tr>\n",
       "      <th>claim_cause_vandalism</th>\n",
       "      <td>-0.004473</td>\n",
       "    </tr>\n",
       "    <tr>\n",
       "      <th>claim_cause_weather</th>\n",
       "      <td>-0.000324</td>\n",
       "    </tr>\n",
       "    <tr>\n",
       "      <th>claim_cause_windows</th>\n",
       "      <td>-0.015400</td>\n",
       "    </tr>\n",
       "  </tbody>\n",
       "</table>\n",
       "</div>"
      ],
      "text/plain": [
       "                                 fraud\n",
       "fraud                         1.000000\n",
       "claim_amount                  0.170206\n",
       "claim_liable                 -0.026001\n",
       "claim_num_injured            -0.007083\n",
       "claim_num_third_parties      -0.046453\n",
       "claim_num_vehicles            0.040726\n",
       "claim_police                  0.050361\n",
       "claim_language               -0.042761\n",
       "claim_vehicle_type           -0.009006\n",
       "policy_holder_form            0.008863\n",
       "policy_holder_country        -0.002082\n",
       "policy_num_changes            0.021535\n",
       "policy_num_claims             0.003151\n",
       "policy_premium_100            0.035227\n",
       "policy_coverage_1000          0.014735\n",
       "diff_postal_code              0.016842\n",
       "claim_cause_animal            0.025000\n",
       "claim_cause_fire              0.089546\n",
       "claim_cause_other             0.010476\n",
       "claim_cause_theft             0.217773\n",
       "claim_cause_traffic accident -0.065791\n",
       "claim_cause_vandalism        -0.004473\n",
       "claim_cause_weather          -0.000324\n",
       "claim_cause_windows          -0.015400"
      ]
     },
     "execution_count": 121,
     "metadata": {},
     "output_type": "execute_result"
    }
   ],
   "source": [
    "corr[['fraud']][:int(np.round(len(corr)/2))]"
   ]
  },
  {
   "cell_type": "code",
   "execution_count": 122,
   "metadata": {},
   "outputs": [
    {
     "data": {
      "image/png": "[encoded data removed]",
      "text/plain": [
       "<Figure size 2160x2160 with 2 Axes>"
      ]
     },
     "metadata": {},
     "output_type": "display_data"
    }
   ],
   "source": [
    "corr = df.corr()\n",
    "corr=corr[['fraud']]\n",
    "mask = np.zeros_like(corr)\n",
    "mask[np.triu_indices_from(mask)] = True\n",
    "mask = ((mask + np.array(np.abs(corr) < 0.1)) > 0).astype(int)\n",
    "\n",
    "with sns.axes_style(\"white\"):\n",
    "    f, ax = plt.subplots(figsize=(30, 30))\n",
    "    cmap=sns.diverging_palette(220, 20, as_cmap=True)\n",
    "    ax = sns.heatmap(corr[[\"fraud\"]], mask=mask, square=True, \n",
    "                     cmap=\"Spectral\", annot=True)"
   ]
  },
  {
   "cell_type": "markdown",
   "metadata": {},
   "source": [
    "# Data cleaning"
   ]
  },
  {
   "cell_type": "code",
   "execution_count": 4,
   "metadata": {},
   "outputs": [],
   "source": [
    "df, ohe = update_dataset_features(df)"
   ]
  },
  {
   "cell_type": "code",
   "execution_count": 5,
   "metadata": {},
   "outputs": [
    {
     "data": {
      "text/plain": [
       "fraud                                 0\n",
       "claim_amount                          0\n",
       "claim_liable                          0\n",
       "claim_num_injured                     0\n",
       "claim_num_third_parties               0\n",
       "claim_num_vehicles                    0\n",
       "claim_police                          0\n",
       "claim_language                       43\n",
       "claim_vehicle_type                  154\n",
       "policy_holder_form                    0\n",
       "policy_holder_country                 0\n",
       "policy_num_changes                    0\n",
       "policy_num_claims                     0\n",
       "policy_premium_100                 9162\n",
       "policy_coverage_1000              28420\n",
       "diff_postal_code                      0\n",
       "claim_cause_animal                    0\n",
       "claim_cause_fire                      0\n",
       "claim_cause_other                     0\n",
       "claim_cause_theft                     0\n",
       "claim_cause_traffic accident          0\n",
       "claim_cause_vandalism                 0\n",
       "claim_cause_weather                   0\n",
       "claim_cause_windows                   0\n",
       "vpower_buckets_(-0.001, 55.0]         0\n",
       "vpower_buckets_(55.0, 66.0]           0\n",
       "vpower_buckets_(66.0, 81.0]           0\n",
       "vpower_buckets_(81.0, 100.0]          0\n",
       "vpower_buckets_(100.0, 426.0]         0\n",
       "vpower_buckets_nan                    0\n",
       "province_Antwerpen                    0\n",
       "province_brussel                      0\n",
       "province_henegouwen                   0\n",
       "province_limburg                      0\n",
       "province_luik                         0\n",
       "province_luxemburg                    0\n",
       "province_namen                        0\n",
       "province_o-vlaanderen                 0\n",
       "province_vlaams_brabant               0\n",
       "province_w-vlaanderen                 0\n",
       "province_waals_brabant                0\n",
       "claim_vehicle_id_count                0\n",
       "policy_holder_id_count                0\n",
       "driver_id_count                       0\n",
       "driver_vehicle_id_count               0\n",
       "third_party_1_id_count                0\n",
       "third_party_1_vehicle_id_count        0\n",
       "blacklisted_expert_id                 0\n",
       "policy_holder_age                  5381\n",
       "pct1                                  0\n",
       "pct2                                  0\n",
       "pct3                                  0\n",
       "pct4                                  0\n",
       "pct5                                  0\n",
       "pct6                                  0\n",
       "pct7                                  0\n",
       "pct8                                  0\n",
       "pct9                                  0\n",
       "dtype: int64"
      ]
     },
     "execution_count": 5,
     "metadata": {},
     "output_type": "execute_result"
    }
   ],
   "source": [
    "df.isna().sum()"
   ]
  },
  {
   "cell_type": "markdown",
   "metadata": {},
   "source": [
    "# Train test split + prep"
   ]
  },
  {
   "cell_type": "code",
   "execution_count": 6,
   "metadata": {},
   "outputs": [],
   "source": [
    "# claim_amount is currently dropped since poor performance\n",
    "X_train, X_test, y_train, y_test = train_test_split(df.iloc[:,1:].drop(columns=[\"claim_amount\"]), df[\"fraud\"], test_size=.2, random_state=96)\n",
    "X_train_reg, X_test_reg, y_train_reg, y_test_reg = train_test_split(df.drop(columns=[\"fraud\", \"claim_amount\"]),\n",
    "                                                                    df[\"claim_amount\"], test_size=.2, random_state=96)"
   ]
  },
  {
   "cell_type": "code",
   "execution_count": 7,
   "metadata": {},
   "outputs": [],
   "source": [
    "# impute remaining missing values with mode or mean on train set\n",
    "# here it could potentially make sense to include a third category (i.e. missing), although this would be a small cat\n",
    "\n",
    "# mode\n",
    "train_lang_mode = X_train[\"claim_language\"].mode()[0]\n",
    "train_vtype_mode = X_train[\"claim_vehicle_type\"].mode()[0]\n",
    "\n",
    "# mean\n",
    "train_premium_mean = X_train[\"policy_premium_100\"].mean()\n",
    "train_coverage_mean = X_train[\"policy_coverage_1000\"].mean()\n",
    "train_policy_holder_mean_age = X_train[\"policy_holder_age\"].mean()\n",
    "\n",
    "for train_set in [X_train, X_train_reg]:\n",
    "    train_set[\"claim_language\"].fillna(train_lang_mode, inplace=True)\n",
    "    train_set[\"claim_vehicle_type\"].fillna(train_vtype_mode, inplace=True)\n",
    "    train_set[\"policy_premium_100\"].fillna(train_premium_mean, inplace=True)\n",
    "    train_set[\"policy_coverage_1000\"].fillna(train_coverage_mean, inplace=True)\n",
    "    train_set[\"policy_holder_age\"].fillna(train_policy_holder_mean_age, inplace=True)"
   ]
  },
  {
   "cell_type": "code",
   "execution_count": 8,
   "metadata": {},
   "outputs": [],
   "source": [
    "# impute remaining missing values with mode or mean from train set on test set\n",
    "# here it could potentially make sense to include a third category (i.e. missing), although this would be a small cat\n",
    "\n",
    "for test_set in [X_test, X_test_reg]:\n",
    "    # mode\n",
    "    test_set[\"claim_language\"].fillna(train_lang_mode, inplace=True)\n",
    "    test_set[\"claim_vehicle_type\"].fillna(train_vtype_mode, inplace=True)\n",
    "\n",
    "    # mean\n",
    "    test_set[\"policy_premium_100\"].fillna(train_premium_mean, inplace=True)\n",
    "    test_set[\"policy_coverage_1000\"].fillna(train_coverage_mean, inplace=True)\n",
    "    X_test[\"policy_holder_age\"].fillna(train_policy_holder_mean_age, inplace=True)"
   ]
  },
  {
   "cell_type": "markdown",
   "metadata": {},
   "source": [
    "# Defining eval metrics"
   ]
  },
  {
   "cell_type": "code",
   "execution_count": 9,
   "metadata": {},
   "outputs": [],
   "source": [
    "def lift_score(y, y_prob):\n",
    "    top_100_ranked_TP = pd.DataFrame(y_prob, y).reset_index().sort_values(by=0, ascending=False).iloc[:100][\"fraud\"].sum()\n",
    "    avg_fraud_rate = y_train.sample(n=100, random_state=96).sum()\n",
    "    lift = top_100_ranked_TP/avg_fraud_rate\n",
    "    return lift"
   ]
  },
  {
   "cell_type": "code",
   "execution_count": null,
   "metadata": {},
   "outputs": [],
   "source": [
    "def rr_at_100(y, y_prob):\n",
    "    top_100_ranked_TP = pd.DataFrame(y_prob, y).reset_index().sort_values(by=0, ascending=False).iloc[:100][\"fraud\"].sum()\n",
    "    avg_fraud_rate = y_train.sample(n=100, random_state=96).sum()\n",
    "    lift = top_100_ranked_TP/avg_fraud_rate\n",
    "    return lift"
   ]
  },
  {
   "cell_type": "code",
   "execution_count": 128,
   "metadata": {},
   "outputs": [
    {
     "data": {
      "text/plain": [
       "array([2309.96,  706.18, 2452.76, ...,  935.  , 2437.89, 3200.6 ])"
      ]
     },
     "execution_count": 128,
     "metadata": {},
     "output_type": "execute_result"
    }
   ],
   "source": [
    "cost_mat_train[:,1]"
   ]
  },
  {
   "cell_type": "code",
   "execution_count": 10,
   "metadata": {},
   "outputs": [],
   "source": [
    "# set costs\n",
    "cost_FN_train = df.iloc[X_train.index][\"claim_amount\"]\n",
    "cost_FN_test = df.iloc[X_test.index][\"claim_amount\"]\n",
    "c_FP = 5\n",
    "c_TP = 5\n",
    "c_TN = 0\n",
    "cost_mat_train = np.array([c_FP * np.ones(X_train.shape[0]), cost_FN_train, \n",
    "                         c_TP * np.ones(X_train.shape[0]), \n",
    "                         c_TN * np.ones(X_train.shape[0])]).T\n",
    "\n",
    "cost_mat_test = np.array([c_FP * np.ones(X_test.shape[0]), cost_FN_test, \n",
    "                         c_TP * np.ones(X_test.shape[0]), \n",
    "                         c_TN * np.ones(X_test.shape[0])]).T"
   ]
  },
  {
   "cell_type": "code",
   "execution_count": 11,
   "metadata": {},
   "outputs": [],
   "source": [
    "# make different custom scorers\n",
    "pr_score = make_scorer(average_precision_score, greater_is_better=True, \n",
    "                       needs_proba=True, average='weighted')\n",
    "lift_scorer = make_scorer(lift_score, greater_is_better=True, needs_proba=True)"
   ]
  },
  {
   "cell_type": "code",
   "execution_count": 12,
   "metadata": {},
   "outputs": [],
   "source": [
    "def model_evaluation(label, model, save_path=image_dir,\n",
    "                     X_train=X_train, X_test=X_test, \n",
    "                     y_train=y_train, y_test=y_test, \n",
    "                     cost_mat_train=cost_mat_train, \n",
    "                     cost_mat_test=cost_mat_test):\n",
    "    out = {}\n",
    "    # auc\n",
    "    yproba_train = model.predict_proba(X_train)[:,1]\n",
    "    out[\"fpr_train\"], out[\"tpr_train\"], _ = roc_curve(y_train,  yproba_train)\n",
    "    out[\"auc_train\"] = roc_auc_score(y_train, yproba_train)\n",
    "    yproba_test = model.predict_proba(X_test)[:,1]\n",
    "    out[\"fpr_test\"], out[\"tpr_test\"], _ = roc_curve(y_test,  yproba_test)\n",
    "    out[\"auc_test\"] = roc_auc_score(y_test, yproba_test)\n",
    " \n",
    "    # model savings\n",
    "    try:\n",
    "        out[\"savings_train\"], out[\"savings_test\"] = savings(X_train, y_train, \n",
    "                                                        X_test, y_test,\n",
    "                                                        cost_mat_train, cost_mat_test,\n",
    "                                                        model)\n",
    "    except:\n",
    "        out[\"savings_train\"] = np.nan\n",
    "        _, out[\"savings_test\"] = savings(X_train, y_train, \n",
    "                                         X_test, y_test,\n",
    "                                         np.zeros_like(X_train), cost_mat_test,\n",
    "                                         model)\n",
    "    # average_precision\n",
    "    out[\"pr_train\"] = pr_score(model, X_train, y_train)\n",
    "    out[\"pr_test\"] = pr_score(model, X_test, y_test)\n",
    "    \n",
    "    # lift\n",
    "    out[\"lift_train\"] = lift_scorer(model, X_train, y_train)\n",
    "    out[\"lift_test\"] = lift_scorer(model, X_test, y_test)\n",
    "    \n",
    "    # plot auc and save\n",
    "    fig = plt.figure(figsize=(8,6))\n",
    "    auc = np.round(out[\"auc_train\"],2)\n",
    "    plt.plot(out[\"fpr_train\"], out['tpr_train'],\n",
    "            label=f\"{label} - train, AUC={auc}\")\n",
    "    auc = np.round(out[\"auc_test\"],2)\n",
    "    plt.plot(out[\"fpr_test\"], out['tpr_test'],\n",
    "            label=f\"{label} - test, AUC={auc}\")\n",
    "    plt.xlabel(\"False Positive Rate\", fontsize=15)\n",
    "    plt.ylabel(\"True Positive Rate\", fontsize=15)\n",
    "    plt.legend(prop={'size':13}, loc='lower right')\n",
    "    fig.savefig(image_dir + label + '_roc.png')\n",
    "    plt.show()\n",
    "    return out"
   ]
  },
  {
   "cell_type": "code",
   "execution_count": 139,
   "metadata": {},
   "outputs": [],
   "source": [
    "xgb_df = {'subsample': 0.8,\n",
    " 'scale_pos_weight': 43.767857142857146,\n",
    " 'reg_lambda': 3,\n",
    " 'reg_alpha': 0.1,\n",
    " 'n_estimators': 200,\n",
    " 'min_child_weight': 20,\n",
    " 'max_depth': 6,\n",
    " 'learning_rate': 0.05,\n",
    " 'gamma': 18,\n",
    " 'colsample_bytree': 1.0,\n",
    " 'base_score': 0.45999999999999996}"
   ]
  },
  {
   "cell_type": "code",
   "execution_count": 140,
   "metadata": {},
   "outputs": [
    {
     "name": "stdout",
     "output_type": "stream",
     "text": [
      "\\begin{tabular}{rrrrrrrrrrr}\n",
      "\\toprule\n",
      " subsample &  scale\\_pos\\_weight &  reg\\_lambda &  reg\\_alpha &  n\\_estimators &  min\\_child\\_weight &  max\\_depth &  learning\\_rate &  gamma &  colsample\\_bytree &  base\\_score \\\\\n",
      "\\midrule\n",
      "       0.8 &         43.767857 &           3 &        0.1 &           200 &                20 &          6 &           0.05 &     18 &               1.0 &        0.46 \\\\\n",
      "\\bottomrule\n",
      "\\end{tabular}\n",
      "\n"
     ]
    }
   ],
   "source": [
    "xgb_df = pd.DataFrame(xgb_df, index=[0])\n",
    "print(xgb_df.to_latex(index=False))\n"
   ]
  },
  {
   "cell_type": "code",
   "execution_count": 123,
   "metadata": {},
   "outputs": [],
   "source": [
    "def create_latex_overview(final_out):\n",
    "    df = pd.DataFrame()\n",
    "    for model in final_out.keys():\n",
    "        final_out[model]['model'] = model\n",
    "        var_eval = ['model', 'savings_train', 'savings_test', 'pr_train', 'pr_test', 'lift_train', 'lift_test']\n",
    "        df = df.append(pd.DataFrame({key: final_out[model][key] for key in final_out[model].keys() if key in var_eval}, index=[0]))\n",
    "    print(df.to_latex(index=False))"
   ]
  },
  {
   "cell_type": "code",
   "execution_count": 14,
   "metadata": {},
   "outputs": [],
   "source": [
    "final_out = {}"
   ]
  },
  {
   "cell_type": "markdown",
   "metadata": {},
   "source": [
    "# Predicting claim amount - DO NOT USE"
   ]
  },
  {
   "cell_type": "markdown",
   "metadata": {},
   "source": [
    "## Linear regression model"
   ]
  },
  {
   "cell_type": "code",
   "execution_count": null,
   "metadata": {},
   "outputs": [],
   "source": [
    "lm = LinearRegression().fit(X_train_reg, y_train_reg)"
   ]
  },
  {
   "cell_type": "code",
   "execution_count": null,
   "metadata": {},
   "outputs": [],
   "source": [
    "print(\"Training set R squared: {}\".format(lm.score(X_train_reg, y_train_reg)))\n",
    "print(\"Testing set R squared: {}\".format(lm.score(X_test_reg, y_test_reg)))"
   ]
  },
  {
   "cell_type": "code",
   "execution_count": null,
   "metadata": {},
   "outputs": [],
   "source": [
    "print('intercept:', lm.intercept_)\n",
    "print('coef:', lm.coef_)"
   ]
  },
  {
   "cell_type": "markdown",
   "metadata": {},
   "source": [
    "## Random Forest Regressor"
   ]
  },
  {
   "cell_type": "code",
   "execution_count": null,
   "metadata": {},
   "outputs": [],
   "source": [
    "rf = RandomForestRegressor(n_estimators=500, max_depth=5, n_jobs=2, max_features=\"sqrt\", \n",
    "                           random_state=96, warm_start=True, bootstrap=True)\n",
    "model2 = rf.fit(X_train_reg, y_train_reg)"
   ]
  },
  {
   "cell_type": "code",
   "execution_count": null,
   "metadata": {},
   "outputs": [],
   "source": [
    "print(\"Training set R squared: {}\".format(model2.score(X_train_reg, y_train_reg)))\n",
    "print(\"Testing set R squared: {}\".format(model2.score(X_test_reg, y_test_reg)))"
   ]
  },
  {
   "cell_type": "markdown",
   "metadata": {},
   "source": [
    "# Base Logistic Regression model - off the shelf"
   ]
  },
  {
   "cell_type": "code",
   "execution_count": 15,
   "metadata": {},
   "outputs": [],
   "source": [
    "scaler = StandardScaler()\n",
    "scaler = scaler.fit(X_train)\n",
    "X_train_scaled = scaler.transform(X_train)"
   ]
  },
  {
   "cell_type": "code",
   "execution_count": 16,
   "metadata": {},
   "outputs": [
    {
     "data": {
      "text/plain": [
       "LogisticRegression(max_iter=500)"
      ]
     },
     "execution_count": 16,
     "metadata": {},
     "output_type": "execute_result"
    }
   ],
   "source": [
    "clf = LogisticRegression(max_iter=500)\n",
    "clf.fit(X_train_scaled, y_train)"
   ]
  },
  {
   "cell_type": "code",
   "execution_count": 17,
   "metadata": {},
   "outputs": [],
   "source": [
    "# we need to predict claim_amount on the testset to evaluate true performance\n",
    "#X_test.drop(columns=[\"claim_amount\"], inplace=True)\n",
    "#X_test[\"claim_amount\"] = model2.predict(X_test)"
   ]
  },
  {
   "cell_type": "code",
   "execution_count": 18,
   "metadata": {},
   "outputs": [],
   "source": [
    "X_test_scaled = scaler.transform(X_test)"
   ]
  },
  {
   "cell_type": "code",
   "execution_count": 19,
   "metadata": {},
   "outputs": [
    {
     "data": {
      "image/png": "[encoded data removed]",
      "text/plain": [
       "<Figure size 576x432 with 1 Axes>"
      ]
     },
     "metadata": {},
     "output_type": "display_data"
    }
   ],
   "source": [
    "model_name = 'LogisticRegression'\n",
    "final_out[model_name] = model_evaluation(model_name, clf, \n",
    "                        X_train=X_train_scaled, X_test=X_test_scaled)"
   ]
  },
  {
   "cell_type": "code",
   "execution_count": 20,
   "metadata": {},
   "outputs": [
    {
     "data": {
      "image/png": "[encoded data removed]",
      "text/plain": [
       "<Figure size 432x288 with 2 Axes>"
      ]
     },
     "metadata": {},
     "output_type": "display_data"
    }
   ],
   "source": [
    "plot_confusion_matrix(clf, X_test_scaled, y_test)\n",
    "plt.grid(False)\n",
    "plt.show()"
   ]
  },
  {
   "cell_type": "markdown",
   "metadata": {},
   "source": [
    "# Logistic Regression model - SMOTE"
   ]
  },
  {
   "cell_type": "code",
   "execution_count": 21,
   "metadata": {},
   "outputs": [],
   "source": [
    "scaler = StandardScaler()\n",
    "scaler = scaler.fit(X_train)\n",
    "X_train_scaled = scaler.transform(X_train)"
   ]
  },
  {
   "cell_type": "code",
   "execution_count": 23,
   "metadata": {},
   "outputs": [],
   "source": [
    "over = SMOTE(sampling_strategy=0.2)\n",
    "under = RandomUnderSampler(sampling_strategy=0.5)\n",
    "steps = [('o', over), ('u', under)]\n",
    "pipeline = Pipeline(steps=steps)"
   ]
  },
  {
   "cell_type": "code",
   "execution_count": 24,
   "metadata": {},
   "outputs": [],
   "source": [
    "# transform the dataset\n",
    "X_train_scaled_resampled, y_train_resampled = pipeline.fit_resample(X_train_scaled, y_train)"
   ]
  },
  {
   "cell_type": "code",
   "execution_count": 25,
   "metadata": {},
   "outputs": [
    {
     "name": "stdout",
     "output_type": "stream",
     "text": [
      "Majority class (0): 44118\n",
      "Minority class (1): 252\n",
      "ratio: 0.571%\n",
      "*********************************************************\n",
      "Majority class (0): 17646\n",
      "Minority class (1): 8823\n",
      "ratio: 50.0%\n"
     ]
    }
   ],
   "source": [
    "# before SMOTE and undersampling\n",
    "neg_length = len(y_train) - y_train.sum()\n",
    "pos_length = y_train.sum()\n",
    "print(f\"Majority class (0): {neg_length}\")\n",
    "print(f\"Minority class (1): {pos_length}\")\n",
    "print(f\"ratio: {np.round(pos_length/neg_length,5)*100}%\")\n",
    "print(\"*********************************************************\")\n",
    "# after SMOTE and undersampling\n",
    "neg_length = len(y_train_resampled) - y_train_resampled.sum()\n",
    "pos_length = y_train_resampled.sum()\n",
    "print(f\"Majority class (0): {neg_length}\")\n",
    "print(f\"Minority class (1): {pos_length}\")\n",
    "print(f\"ratio: {np.round(pos_length/neg_length,5)*100}%\")"
   ]
  },
  {
   "cell_type": "code",
   "execution_count": 26,
   "metadata": {},
   "outputs": [
    {
     "data": {
      "text/plain": [
       "LogisticRegression(max_iter=500)"
      ]
     },
     "execution_count": 26,
     "metadata": {},
     "output_type": "execute_result"
    }
   ],
   "source": [
    "clf_resampled = LogisticRegression(max_iter=500)\n",
    "clf_resampled.fit(X_train_scaled_resampled, y_train_resampled)"
   ]
  },
  {
   "cell_type": "code",
   "execution_count": 27,
   "metadata": {},
   "outputs": [
    {
     "name": "stderr",
     "output_type": "stream",
     "text": [
      "C:\\Users\\u0143591\\Documents\\Code\\kul_advanalytics\\assignment1\\eval_metrics.py:33: RuntimeWarning: invalid value encountered in double_scalars\n",
      "  train_savings = np.round((max_cost_train - cost_train) / max_cost_train, 3)\n"
     ]
    },
    {
     "data": {
      "image/png": "[encoded data removed]",
      "text/plain": [
       "<Figure size 576x432 with 1 Axes>"
      ]
     },
     "metadata": {},
     "output_type": "display_data"
    }
   ],
   "source": [
    "X_test_scaled = scaler.transform(X_test)\n",
    "model_name = 'LogisticRegression - SMOTE'\n",
    "# this will throw an error due to the fact that the cost matrix for train is 0\n",
    "# and we divide by 0\n",
    "final_out[model_name] = model_evaluation(model_name, clf_resampled, \n",
    "                                         X_train=X_train_scaled_resampled,\n",
    "                                         y_train=y_train_resampled,\n",
    "                                         X_test=X_test_scaled)"
   ]
  },
  {
   "cell_type": "code",
   "execution_count": 28,
   "metadata": {},
   "outputs": [
    {
     "data": {
      "image/png": "[encoded data removed]",
      "text/plain": [
       "<Figure size 432x288 with 2 Axes>"
      ]
     },
     "metadata": {},
     "output_type": "display_data"
    }
   ],
   "source": [
    "plot_confusion_matrix(clf_resampled, X_test_scaled, y_test)\n",
    "plt.grid(False)\n",
    "plt.show()"
   ]
  },
  {
   "cell_type": "markdown",
   "metadata": {},
   "source": [
    "# Random Forest - SMOTE (not in report)"
   ]
  },
  {
   "cell_type": "code",
   "execution_count": 101,
   "metadata": {},
   "outputs": [],
   "source": [
    "over = SMOTE(sampling_strategy=0.4)\n",
    "under = RandomUnderSampler(sampling_strategy=0.6)\n",
    "steps = [('o', over), ('u', under)]\n",
    "pipeline = Pipeline(steps=steps)"
   ]
  },
  {
   "cell_type": "code",
   "execution_count": 102,
   "metadata": {},
   "outputs": [],
   "source": [
    "# transform the dataset\n",
    "X_train_resampled, y_train_resampled = pipeline.fit_resample(X_train, y_train)"
   ]
  },
  {
   "cell_type": "code",
   "execution_count": null,
   "metadata": {},
   "outputs": [],
   "source": [
    "# before SMOTE and undersampling\n",
    "neg_length = len(y_train) - y_train.sum()\n",
    "pos_length = y_train.sum()\n",
    "print(f\"Majority class (0): {neg_length}\")\n",
    "print(f\"Minority class (1): {pos_length}\")\n",
    "print(f\"ratio: {np.round(pos_length/neg_length,5)*100}%\")\n",
    "print(\"*********************************************************\")\n",
    "# after SMOTE and undersampling\n",
    "neg_length = len(y_train_resampled) - y_train_resampled.sum()\n",
    "pos_length = y_train_resampled.sum()\n",
    "print(f\"Majority class (0): {neg_length}\")\n",
    "print(f\"Minority class (1): {pos_length}\")\n",
    "print(f\"ratio: {np.round(pos_length/neg_length,5)*100}%\")"
   ]
  },
  {
   "cell_type": "code",
   "execution_count": null,
   "metadata": {},
   "outputs": [],
   "source": [
    "rf = RandomForestClassifier(n_estimators=1000, max_depth=20, class_weight='balanced_subsample', random_state=9, n_jobs=-1)\n",
    "rf.fit(X_train_resampled, y_train_resampled)"
   ]
  },
  {
   "cell_type": "code",
   "execution_count": null,
   "metadata": {},
   "outputs": [],
   "source": [
    "plot_roc_curve(rf, X_test, y_test)"
   ]
  },
  {
   "cell_type": "code",
   "execution_count": null,
   "metadata": {},
   "outputs": [],
   "source": [
    "plot_confusion_matrix(rf, X_test, y_test)\n",
    "plt.grid(False)\n",
    "plt.show()"
   ]
  },
  {
   "cell_type": "markdown",
   "metadata": {},
   "source": [
    "# Balanced random forest"
   ]
  },
  {
   "cell_type": "markdown",
   "metadata": {},
   "source": [
    "See [here](https://imbalanced-learn.org/dev/references/generated/imblearn.ensemble.BalancedRandomForestClassifier.html#imblearn.ensemble.BalancedRandomForestClassifier)"
   ]
  },
  {
   "cell_type": "code",
   "execution_count": 129,
   "metadata": {},
   "outputs": [],
   "source": [
    "over = SMOTE(sampling_strategy=0.4)\n",
    "steps = [('o', over)]\n",
    "pipeline = Pipeline(steps=steps)"
   ]
  },
  {
   "cell_type": "code",
   "execution_count": 130,
   "metadata": {},
   "outputs": [],
   "source": [
    "# transform the dataset\n",
    "X_train_resampled, y_train_resampled = pipeline.fit_resample(X_train, y_train)"
   ]
  },
  {
   "cell_type": "code",
   "execution_count": 31,
   "metadata": {},
   "outputs": [
    {
     "name": "stdout",
     "output_type": "stream",
     "text": [
      "Majority class (0): 44118\n",
      "Minority class (1): 252\n",
      "ratio: 0.571%\n",
      "*********************************************************\n",
      "Majority class (0): 44118\n",
      "Minority class (1): 17647\n",
      "ratio: 40.0%\n"
     ]
    }
   ],
   "source": [
    "# before SMOTE and undersampling\n",
    "neg_length = len(y_train) - y_train.sum()\n",
    "pos_length = y_train.sum()\n",
    "print(f\"Majority class (0): {neg_length}\")\n",
    "print(f\"Minority class (1): {pos_length}\")\n",
    "print(f\"ratio: {np.round(pos_length/neg_length,5)*100}%\")\n",
    "print(\"*********************************************************\")\n",
    "# after SMOTE and undersampling\n",
    "neg_length = len(y_train_resampled) - y_train_resampled.sum()\n",
    "pos_length = y_train_resampled.sum()\n",
    "print(f\"Majority class (0): {neg_length}\")\n",
    "print(f\"Minority class (1): {pos_length}\")\n",
    "print(f\"ratio: {np.round(pos_length/neg_length,5)*100}%\")"
   ]
  },
  {
   "cell_type": "code",
   "execution_count": 32,
   "metadata": {},
   "outputs": [],
   "source": [
    "# 0.60 savings\n",
    "bclf = BalancedRandomForestClassifier(n_estimators=10000, max_depth=5, random_state=9, \n",
    "                                      n_jobs=-1, class_weight=\"balanced_subsample\")"
   ]
  },
  {
   "cell_type": "code",
   "execution_count": 33,
   "metadata": {},
   "outputs": [
    {
     "data": {
      "text/plain": [
       "BalancedRandomForestClassifier(class_weight='balanced_subsample', max_depth=5,\n",
       "                               n_estimators=10000, n_jobs=-1, random_state=9)"
      ]
     },
     "execution_count": 33,
     "metadata": {},
     "output_type": "execute_result"
    }
   ],
   "source": [
    "bclf.fit(X_train_resampled, y_train_resampled)"
   ]
  },
  {
   "cell_type": "code",
   "execution_count": 131,
   "metadata": {},
   "outputs": [
    {
     "name": "stderr",
     "output_type": "stream",
     "text": [
      "C:\\Users\\u0143591\\Documents\\Code\\kul_advanalytics\\assignment1\\eval_metrics.py:33: RuntimeWarning: invalid value encountered in long_scalars\n",
      "  train_savings = np.round((max_cost_train - cost_train) / max_cost_train, 3)\n"
     ]
    },
    {
     "data": {
      "image/png": "[encoded data removed]",
      "text/plain": [
       "<Figure size 576x432 with 1 Axes>"
      ]
     },
     "metadata": {},
     "output_type": "display_data"
    }
   ],
   "source": [
    "model_name = 'BalancedRandomForest'\n",
    "# this will throw an error due to the fact that the cost matrix for train is 0\n",
    "# and we divide by 0\n",
    "final_out[model_name] = model_evaluation(model_name, bclf,\n",
    "                                         X_train=X_train_resampled,\n",
    "                                         X_test=X_test,\n",
    "                                         y_train=y_train_resampled)"
   ]
  },
  {
   "cell_type": "code",
   "execution_count": null,
   "metadata": {},
   "outputs": [],
   "source": [
    "plot_confusion_matrix(bclf, X_test, y_test)\n",
    "plt.grid(False)\n",
    "plt.show()"
   ]
  },
  {
   "cell_type": "markdown",
   "metadata": {},
   "source": [
    "# XGB"
   ]
  },
  {
   "cell_type": "markdown",
   "metadata": {},
   "source": [
    "see [here](https://xgboost.readthedocs.io/en/latest/parameter.html) for information on all parameters <br />\n",
    "see [here](https://github.com/dmlc/xgboost/blob/master/demo/guide-python/cross_validation.py) and [here](https://github.com/tqchen/xgboost/tree/master/demo) for example of custom obj. function"
   ]
  },
  {
   "cell_type": "code",
   "execution_count": 141,
   "metadata": {},
   "outputs": [],
   "source": [
    "neg_length = len(y_train) - y_train.sum()\n",
    "pos_length = y_train.sum()\n",
    "ratio = neg_length/pos_length"
   ]
  },
  {
   "cell_type": "code",
   "execution_count": null,
   "metadata": {},
   "outputs": [],
   "source": [
    "# See https://xgboost.readthedocs.io/en/latest/tutorials/param_tuning.html\n",
    "# If you care only about the overall performance metric (AUC) of your prediction:\n",
    "xgb_clf = xgb.XGBClassifier(n_estimators = 500, objective=\"binary:logistic\", base_score=.99, eval_metric=\"logloss\", seed=9, \n",
    "                            scale_pos_weight=1)"
   ]
  },
  {
   "cell_type": "code",
   "execution_count": null,
   "metadata": {},
   "outputs": [],
   "source": [
    "# If you care about predicting the right probability:\n",
    "# ^---- this is what we should do (IMO) --> 0.69 savings\n",
    "xgb_clf = xgb.XGBClassifier(n_estimators = 100, objective=\"binary:logistic\", eval_metric=\"auc\", seed=9,\n",
    "                            scale_pos_weight=ratio/5, reg_alpha=0.1, reg_lambda=3)"
   ]
  },
  {
   "cell_type": "code",
   "execution_count": 36,
   "metadata": {},
   "outputs": [],
   "source": [
    "X_train.iloc[:,-9:] = X_train.iloc[:,-9:].astype(float)"
   ]
  },
  {
   "cell_type": "code",
   "execution_count": null,
   "metadata": {},
   "outputs": [],
   "source": [
    "# create a weighted claim_amount\n",
    "df[\"claim_amount_weighted\"] = [df.loc[i, \"claim_amount\"] * 1.3  if df.loc[i, 'fraud'] == 1 else df.loc[i, \"claim_amount\"] * 1 for i in df.index]"
   ]
  },
  {
   "cell_type": "code",
   "execution_count": null,
   "metadata": {},
   "outputs": [],
   "source": [
    "# calculate cost based on weighted claim amount or unweighted\n",
    "cost = df.iloc[X_train.index][\"claim_amount\"]"
   ]
  },
  {
   "cell_type": "code",
   "execution_count": null,
   "metadata": {},
   "outputs": [],
   "source": [
    "# sample-weighted XGB\n",
    "xgb_clf = xgb.XGBClassifier(n_estimators = 100, objective=\"binary:logistic\", eval_metric='auc', min_child_weight=1, seed=9,\n",
    "                            sample_weight=cost)"
   ]
  },
  {
   "cell_type": "code",
   "execution_count": null,
   "metadata": {},
   "outputs": [],
   "source": [
    "xgb_clf.fit(np.asarray(X_train), y_train)"
   ]
  },
  {
   "cell_type": "code",
   "execution_count": 37,
   "metadata": {},
   "outputs": [],
   "source": [
    "# set grid params\n",
    "params = {\n",
    "        'n_estimators': [100, 150, 200, 250, 300, 400, 500, 600],\n",
    "        'learning_rate': [0.0001, 0.001, 0.005, 0.01, 0.05, 0.1],\n",
    "        'min_child_weight': [1, 3, 5, 7, 10, 20, 30],\n",
    "        'reg_lambda': [0.5, 1, 1.5, 2, 3, 4, 5],\n",
    "        'subsample': [0.4, 0.6, 0.7, 0.8, 0.9, 1.0],\n",
    "        'colsample_bytree': [0.6, 0.8, 1.0],\n",
    "        'max_depth': [3, 4, 5, 6, 7, 8, 9, 10],\n",
    "        'scale_pos_weight': [ratio/i for i in np.arange(1,11)] + [1],\n",
    "        'reg_alpha': [0.001, 0.01, 0.05, 0.1, 0.15, 0.2, 0.3],\n",
    "        'base_score': list(np.arange(0.1,1,0.09)),\n",
    "        'gamma': list(np.arange(0,22,3))\n",
    "        }"
   ]
  },
  {
   "cell_type": "code",
   "execution_count": 38,
   "metadata": {},
   "outputs": [],
   "source": [
    "xgb_clf2 = xgb.XGBClassifier(objective=\"binary:logistic\", seed=9)"
   ]
  },
  {
   "cell_type": "code",
   "execution_count": 39,
   "metadata": {},
   "outputs": [],
   "source": [
    "# make grid search pipeline\n",
    "over = SMOTE(sampling_strategy=0.4, random_state=42)\n",
    "under = RandomUnderSampler(sampling_strategy=0.6, random_state=42)\n",
    "pipeline = make_pipeline(over, under, xgb_clf2)"
   ]
  },
  {
   "cell_type": "code",
   "execution_count": 40,
   "metadata": {},
   "outputs": [],
   "source": [
    "# rename params\n",
    "new_params = {'xgbclassifier__' + key: params[key] for key in params}"
   ]
  },
  {
   "cell_type": "code",
   "execution_count": 72,
   "metadata": {},
   "outputs": [],
   "source": [
    "# apply randomized grid search CV\n",
    "cv = StratifiedKFold(n_splits=5, shuffle=True)\n",
    "random_search = RandomizedSearchCV(pipeline, param_distributions=new_params, n_iter=600, \n",
    "                                   scoring={'lift':lift_scorer, 'auc':'roc_auc', 'pr':pr_score, 'savings':savings}, n_jobs=-1, cv=cv, \n",
    "                                   verbose=3, random_state=49, refit=\"lift\")"
   ]
  },
  {
   "cell_type": "code",
   "execution_count": 73,
   "metadata": {},
   "outputs": [
    {
     "name": "stdout",
     "output_type": "stream",
     "text": [
      "Fitting 2 folds for each of 1 candidates, totalling 2 fits\n"
     ]
    },
    {
     "name": "stderr",
     "output_type": "stream",
     "text": [
      "C:\\Users\\u0143591\\Anaconda3\\envs\\sust_iot\\lib\\site-packages\\sklearn\\model_selection\\_search.py:918: UserWarning: One or more of the test scores are non-finite: [nan]\n",
      "  warnings.warn(\n",
      "C:\\Users\\u0143591\\Anaconda3\\envs\\sust_iot\\lib\\site-packages\\xgboost\\sklearn.py:888: UserWarning: The use of label encoder in XGBClassifier is deprecated and will be removed in a future release. To remove this warning, do the following: 1) Pass option use_label_encoder=False when constructing XGBClassifier object; and 2) Encode your labels (y) as integers starting with 0, i.e. 0, 1, 2, ..., [num_class - 1].\n",
      "  warnings.warn(label_encoder_deprecation_msg, UserWarning)\n"
     ]
    },
    {
     "name": "stdout",
     "output_type": "stream",
     "text": [
      "[10:54:32] WARNING: ..\\src\\learner.cc:1061: Starting in XGBoost 1.3.0, the default evaluation metric used with the objective 'binary:logistic' was changed from 'error' to 'logloss'. Explicitly set eval_metric if you'd like to restore the old behavior.\n"
     ]
    }
   ],
   "source": [
    "# fit random search cv\n",
    "xgb_search = random_search.fit(np.asarray(X_train), y_train)"
   ]
  },
  {
   "cell_type": "code",
   "execution_count": 74,
   "metadata": {},
   "outputs": [
    {
     "data": {
      "text/plain": [
       "{'xgbclassifier__subsample': 0.7,\n",
       " 'xgbclassifier__scale_pos_weight': 19.452380952380953,\n",
       " 'xgbclassifier__reg_lambda': 4,\n",
       " 'xgbclassifier__reg_alpha': 0.2,\n",
       " 'xgbclassifier__n_estimators': 300,\n",
       " 'xgbclassifier__min_child_weight': 7,\n",
       " 'xgbclassifier__max_depth': 4,\n",
       " 'xgbclassifier__learning_rate': 0.05,\n",
       " 'xgbclassifier__gamma': 12,\n",
       " 'xgbclassifier__colsample_bytree': 0.6,\n",
       " 'xgbclassifier__base_score': 0.64}"
      ]
     },
     "execution_count": 74,
     "metadata": {},
     "output_type": "execute_result"
    }
   ],
   "source": [
    "# print best params\n",
    "xgb_search.best_params_"
   ]
  },
  {
   "cell_type": "code",
   "execution_count": null,
   "metadata": {},
   "outputs": [],
   "source": [
    "# print results of cv\n",
    "pd.DataFrame(xgb_search.cv_results_)"
   ]
  },
  {
   "cell_type": "code",
   "execution_count": null,
   "metadata": {},
   "outputs": [],
   "source": [
    "# save restuls in json\n",
    "import json\n",
    "with open('output_pr.json', 'w+') as f:\n",
    "    json.dump(xgb_search.best_params_, f)"
   ]
  },
  {
   "cell_type": "code",
   "execution_count": 93,
   "metadata": {},
   "outputs": [],
   "source": [
    "xgb_clf = xgb.XGBClassifier(objective=\"binary:logistic\", subsample= 0.8,\n",
    "                            scale_pos_weight=43.767857142857146,\n",
    "                            reg_lambda=3,\n",
    "                            reg_alpha=0.1,\n",
    "                            n_estimators=200,\n",
    "                            min_child_weight=20,\n",
    "                            max_depth=6,\n",
    "                            learning_rate=0.05,\n",
    "                            gamma=18,\n",
    "                            colsample_bytree=1.0,\n",
    "                            base_score=0.45999999999999996)"
   ]
  },
  {
   "cell_type": "code",
   "execution_count": 105,
   "metadata": {},
   "outputs": [
    {
     "name": "stderr",
     "output_type": "stream",
     "text": [
      "C:\\Users\\u0143591\\Anaconda3\\envs\\sust_iot\\lib\\site-packages\\xgboost\\sklearn.py:888: UserWarning: The use of label encoder in XGBClassifier is deprecated and will be removed in a future release. To remove this warning, do the following: 1) Pass option use_label_encoder=False when constructing XGBClassifier object; and 2) Encode your labels (y) as integers starting with 0, i.e. 0, 1, 2, ..., [num_class - 1].\n",
      "  warnings.warn(label_encoder_deprecation_msg, UserWarning)\n"
     ]
    },
    {
     "name": "stdout",
     "output_type": "stream",
     "text": [
      "[11:15:53] WARNING: ..\\src\\learner.cc:1061: Starting in XGBoost 1.3.0, the default evaluation metric used with the objective 'binary:logistic' was changed from 'error' to 'logloss'. Explicitly set eval_metric if you'd like to restore the old behavior.\n"
     ]
    },
    {
     "data": {
      "text/plain": [
       "XGBClassifier(base_score=0.45999999999999996, booster='gbtree',\n",
       "              colsample_bylevel=1, colsample_bynode=1, colsample_bytree=1.0,\n",
       "              gamma=18, gpu_id=-1, importance_type='gain',\n",
       "              interaction_constraints='', learning_rate=0.05, max_delta_step=0,\n",
       "              max_depth=6, min_child_weight=20, missing=nan,\n",
       "              monotone_constraints='()', n_estimators=200, n_jobs=16,\n",
       "              num_parallel_tree=1, random_state=0, reg_alpha=0.1, reg_lambda=3,\n",
       "              scale_pos_weight=43.767857142857146, subsample=0.8,\n",
       "              tree_method='exact', validate_parameters=1, verbosity=None)"
      ]
     },
     "execution_count": 105,
     "metadata": {},
     "output_type": "execute_result"
    }
   ],
   "source": [
    "xgb_clf.fit(np.asarray(X_train_resampled), y_train_resampled)"
   ]
  },
  {
   "cell_type": "code",
   "execution_count": 106,
   "metadata": {},
   "outputs": [
    {
     "data": {
      "image/png": "[encoded data removed]",
      "text/plain": [
       "<Figure size 432x288 with 1 Axes>"
      ]
     },
     "metadata": {},
     "output_type": "display_data"
    }
   ],
   "source": [
    "plot_roc_curve(xgb_clf, np.asarray(X_train), y_train)\n",
    "plt.show()"
   ]
  },
  {
   "cell_type": "code",
   "execution_count": 107,
   "metadata": {},
   "outputs": [
    {
     "data": {
      "image/png": "[encoded data removed]",
      "text/plain": [
       "<Figure size 432x288 with 2 Axes>"
      ]
     },
     "metadata": {},
     "output_type": "display_data"
    }
   ],
   "source": [
    "plot_confusion_matrix(xgb_clf, np.asarray(X_train), y_train)\n",
    "plt.grid(False)\n",
    "plt.show()"
   ]
  },
  {
   "cell_type": "code",
   "execution_count": 108,
   "metadata": {},
   "outputs": [],
   "source": [
    "X_test.iloc[:,-9:] = X_test.iloc[:,-9:].astype(float)"
   ]
  },
  {
   "cell_type": "code",
   "execution_count": 109,
   "metadata": {},
   "outputs": [
    {
     "data": {
      "text/plain": [
       "<sklearn.metrics._plot.roc_curve.RocCurveDisplay at 0x17bf72a4f70>"
      ]
     },
     "execution_count": 109,
     "metadata": {},
     "output_type": "execute_result"
    },
    {
     "data": {
      "image/png": "[encoded data removed]",
      "text/plain": [
       "<Figure size 432x288 with 1 Axes>"
      ]
     },
     "metadata": {},
     "output_type": "display_data"
    }
   ],
   "source": [
    "plot_roc_curve(xgb_search, np.asarray(X_test), y_test)"
   ]
  },
  {
   "cell_type": "code",
   "execution_count": 110,
   "metadata": {},
   "outputs": [
    {
     "data": {
      "image/png": "[encoded data removed]",
      "text/plain": [
       "<Figure size 432x288 with 2 Axes>"
      ]
     },
     "metadata": {},
     "output_type": "display_data"
    }
   ],
   "source": [
    "plot_confusion_matrix(xgb_search, np.asarray(X_test), y_test)\n",
    "plt.grid(False)\n",
    "plt.show()"
   ]
  },
  {
   "cell_type": "code",
   "execution_count": 111,
   "metadata": {},
   "outputs": [
    {
     "name": "stderr",
     "output_type": "stream",
     "text": [
      "C:\\Users\\u0143591\\Documents\\Code\\kul_advanalytics\\assignment1\\eval_metrics.py:33: RuntimeWarning: invalid value encountered in long_scalars\n",
      "  train_savings = np.round((max_cost_train - cost_train) / max_cost_train, 3)\n"
     ]
    },
    {
     "data": {
      "image/png": "[encoded data removed]",
      "text/plain": [
       "<Figure size 576x432 with 1 Axes>"
      ]
     },
     "metadata": {},
     "output_type": "display_data"
    }
   ],
   "source": [
    "model_name = 'XGB'\n",
    "# this will throw an error due to the fact that the cost matrix for train is 0\n",
    "# and we divide by 0\n",
    "final_out[model_name] = model_evaluation(model_name, xgb_clf,\n",
    "                                         X_train=np.asarray(X_train_resampled),\n",
    "                                         X_test=np.asarray(X_test),\n",
    "                                         y_train=y_train_resampled)"
   ]
  },
  {
   "cell_type": "markdown",
   "metadata": {},
   "source": [
    "# Overview\n"
   ]
  },
  {
   "cell_type": "code",
   "execution_count": 125,
   "metadata": {},
   "outputs": [
    {
     "name": "stdout",
     "output_type": "stream",
     "text": [
      "\\begin{tabular}{rrrrrrl}\n",
      "\\toprule\n",
      " savings\\_train &  savings\\_test &  pr\\_train &  pr\\_test &  lift\\_train &  lift\\_test &                      model \\\\\n",
      "\\midrule\n",
      "         0.218 &         0.170 &  0.293161 & 0.306482 &   19.666667 &   9.333333 &         LogisticRegression \\\\\n",
      "           NaN &         0.799 &  0.834662 & 0.262283 &   33.000000 &   7.666667 & LogisticRegression - SMOTE \\\\\n",
      "           NaN &         0.656 &  0.979964 & 0.213043 &   33.333333 &   7.000000 &       BalancedRandomForest \\\\\n",
      "           NaN &         0.654 &  0.999548 & 0.239646 &   33.333333 &   7.000000 &                        XGB \\\\\n",
      "\\bottomrule\n",
      "\\end{tabular}\n",
      "\n"
     ]
    }
   ],
   "source": [
    "create_latex_overview(final_out)"
   ]
  },
  {
   "cell_type": "markdown",
   "metadata": {},
   "source": [
    "# Submission"
   ]
  },
  {
   "cell_type": "code",
   "execution_count": 125,
   "metadata": {},
   "outputs": [],
   "source": [
    "submit_path = r\"./test.csv\""
   ]
  },
  {
   "cell_type": "code",
   "execution_count": 126,
   "metadata": {},
   "outputs": [],
   "source": [
    "submit_set = pd.read_csv(submit_path, sep=\";\", encoding=\"utf-8-sig\")"
   ]
  },
  {
   "cell_type": "code",
   "execution_count": 131,
   "metadata": {},
   "outputs": [
    {
     "data": {
      "text/plain": [
       "[20180101,\n",
       " 20180101,\n",
       " 20180101,\n",
       " 20180101,\n",
       " 20180101,\n",
       " 20180101,\n",
       " 20180101,\n",
       " 20180101,\n",
       " 20180101,\n",
       " 20180101,\n",
       " 20180101,\n",
       " 20180101,\n",
       " 20180101,\n",
       " 20180101,\n",
       " 20180101,\n",
       " 20180101,\n",
       " 20180102,\n",
       " 20180102,\n",
       " 20180104,\n",
       " 20180104,\n",
       " 20180104,\n",
       " 20180104,\n",
       " 20180104,\n",
       " 20180104,\n",
       " 20180104,\n",
       " 20180104,\n",
       " 20180104,\n",
       " 20180104,\n",
       " 20180104,\n",
       " 20180104,\n",
       " 20180104,\n",
       " 20180104,\n",
       " 20180104,\n",
       " 20180104,\n",
       " 20180104,\n",
       " 20180104,\n",
       " 20180104,\n",
       " 20180104,\n",
       " 20180104,\n",
       " 20180104,\n",
       " 20180104,\n",
       " 20180104,\n",
       " 20180104,\n",
       " 20180104,\n",
       " 20180104,\n",
       " 20180104,\n",
       " 20180104,\n",
       " 20180104,\n",
       " 20180104,\n",
       " 20180104,\n",
       " 20180104,\n",
       " 20180104,\n",
       " 20180104,\n",
       " 20180104,\n",
       " 20180104,\n",
       " 20180104,\n",
       " 20180104,\n",
       " 20180104,\n",
       " 20180104,\n",
       " 20180104,\n",
       " 20180104,\n",
       " 20180104,\n",
       " 20180104,\n",
       " 20180104,\n",
       " 20180104,\n",
       " 20180104,\n",
       " 20180104,\n",
       " 20180104,\n",
       " 20180104,\n",
       " 20180104,\n",
       " 20180104,\n",
       " 20180104,\n",
       " 20180104,\n",
       " 20180104,\n",
       " 20180104,\n",
       " 20180104,\n",
       " 20180104,\n",
       " 20180104,\n",
       " 20180104,\n",
       " 20180104,\n",
       " 20180104,\n",
       " 20180104,\n",
       " 20180104,\n",
       " 20180104,\n",
       " 20180104,\n",
       " 20180104,\n",
       " 20180104,\n",
       " 20180104,\n",
       " 20180104,\n",
       " 20180104,\n",
       " 20180104,\n",
       " 20180104,\n",
       " 20180104,\n",
       " 20180104,\n",
       " 20180104,\n",
       " 20180104,\n",
       " 20180104,\n",
       " 20180104,\n",
       " 20180104,\n",
       " 20180104,\n",
       " 20180104,\n",
       " 20180104,\n",
       " 20180104,\n",
       " 20180104,\n",
       " 20180104,\n",
       " 20180104,\n",
       " 20180104,\n",
       " 20180104,\n",
       " 20180104,\n",
       " 20180104,\n",
       " 20180104,\n",
       " 20180104,\n",
       " 20180104,\n",
       " 20180104,\n",
       " 20180104,\n",
       " 20180104,\n",
       " 20180104,\n",
       " 20180104,\n",
       " 20180104,\n",
       " 20180104,\n",
       " 20180104,\n",
       " 20180104,\n",
       " 20180104,\n",
       " 20180104,\n",
       " 20180104,\n",
       " 20180104,\n",
       " 20180104,\n",
       " 20180104,\n",
       " 20180104,\n",
       " 20180104,\n",
       " 20180104,\n",
       " 20180104,\n",
       " 20180104,\n",
       " 20180104,\n",
       " 20180104,\n",
       " 20180104,\n",
       " 20180104,\n",
       " 20180104,\n",
       " 20180104,\n",
       " 20180104,\n",
       " 20180104,\n",
       " 20180104,\n",
       " 20180104,\n",
       " 20180104,\n",
       " 20180104,\n",
       " 20180104,\n",
       " 20180104,\n",
       " 20180104,\n",
       " 20180104,\n",
       " 20180104,\n",
       " 20180104,\n",
       " 20180104,\n",
       " 20180104,\n",
       " 20180104,\n",
       " 20180104,\n",
       " 20180104,\n",
       " 20180104,\n",
       " 20180104,\n",
       " 20180104,\n",
       " 20180104,\n",
       " 20180104,\n",
       " 20180104,\n",
       " 20180104,\n",
       " 20180104,\n",
       " 20180104,\n",
       " 20180104,\n",
       " 20180104,\n",
       " 20180104,\n",
       " 20180104,\n",
       " 20180104,\n",
       " 20180104,\n",
       " 20180104,\n",
       " 20180104,\n",
       " 20180104,\n",
       " 20180104,\n",
       " 20180104,\n",
       " 20180104,\n",
       " 20180104,\n",
       " 20180104,\n",
       " 20180104,\n",
       " 20180104,\n",
       " 20180104,\n",
       " 20180104,\n",
       " 20180104,\n",
       " 20180104,\n",
       " 20180104,\n",
       " 20180104,\n",
       " 20180104,\n",
       " 20180104,\n",
       " 20180104,\n",
       " 20180104,\n",
       " 20180104,\n",
       " 20180104,\n",
       " 20180104,\n",
       " 20180104,\n",
       " 20180104,\n",
       " 20180104,\n",
       " 20180104,\n",
       " 20180104,\n",
       " 20180104,\n",
       " 20180104,\n",
       " 20180104,\n",
       " 20180104,\n",
       " 20180104,\n",
       " 20180104,\n",
       " 20180104,\n",
       " 20180104,\n",
       " 20180104,\n",
       " 20180104,\n",
       " 20180104,\n",
       " 20180104,\n",
       " 20180104,\n",
       " 20180104,\n",
       " 20180104,\n",
       " 20180104,\n",
       " 20180104,\n",
       " 20180104,\n",
       " 20180104,\n",
       " 20180104,\n",
       " 20180104,\n",
       " 20180104,\n",
       " 20180104,\n",
       " 20180104,\n",
       " 20180104,\n",
       " 20180104,\n",
       " 20180104,\n",
       " 20180104,\n",
       " 20180104,\n",
       " 20180104,\n",
       " 20180104,\n",
       " 20180104,\n",
       " 20180104,\n",
       " 20180104,\n",
       " 20180104,\n",
       " 20180104,\n",
       " 20180105,\n",
       " 20180105,\n",
       " 20180105,\n",
       " 20180105,\n",
       " 20180105,\n",
       " 20180105,\n",
       " 20180105,\n",
       " 20180105,\n",
       " 20180105,\n",
       " 20180105,\n",
       " 20180105,\n",
       " 20180105,\n",
       " 20180105,\n",
       " 20180105,\n",
       " 20180105,\n",
       " 20180105,\n",
       " 20180105,\n",
       " 20180105,\n",
       " 20180105,\n",
       " 20180105,\n",
       " 20180105,\n",
       " 20180105,\n",
       " 20180105,\n",
       " 20180105,\n",
       " 20180105,\n",
       " 20180105,\n",
       " 20180105,\n",
       " 20180105,\n",
       " 20180105,\n",
       " 20180105,\n",
       " 20180105,\n",
       " 20180105,\n",
       " 20180105,\n",
       " 20180105,\n",
       " 20180105,\n",
       " 20180105,\n",
       " 20180105,\n",
       " 20180105,\n",
       " 20180105,\n",
       " 20180105,\n",
       " 20180105,\n",
       " 20180105,\n",
       " 20180105,\n",
       " 20180105,\n",
       " 20180105,\n",
       " 20180105,\n",
       " 20180105,\n",
       " 20180105,\n",
       " 20180105,\n",
       " 20180105,\n",
       " 20180105,\n",
       " 20180105,\n",
       " 20180105,\n",
       " 20180105,\n",
       " 20180105,\n",
       " 20180105,\n",
       " 20180105,\n",
       " 20180105,\n",
       " 20180105,\n",
       " 20180105,\n",
       " 20180105,\n",
       " 20180105,\n",
       " 20180105,\n",
       " 20180105,\n",
       " 20180105,\n",
       " 20180105,\n",
       " 20180105,\n",
       " 20180105,\n",
       " 20180105,\n",
       " 20180105,\n",
       " 20180105,\n",
       " 20180105,\n",
       " 20180105,\n",
       " 20180105,\n",
       " 20180105,\n",
       " 20180105,\n",
       " 20180105,\n",
       " 20180105,\n",
       " 20180105,\n",
       " 20180105,\n",
       " 20180105,\n",
       " 20180105,\n",
       " 20180105,\n",
       " 20180105,\n",
       " 20180105,\n",
       " 20180105,\n",
       " 20180105,\n",
       " 20180105,\n",
       " 20180105,\n",
       " 20180105,\n",
       " 20180105,\n",
       " 20180105,\n",
       " 20180105,\n",
       " 20180105,\n",
       " 20180105,\n",
       " 20180105,\n",
       " 20180105,\n",
       " 20180105,\n",
       " 20180105,\n",
       " 20180105,\n",
       " 20180105,\n",
       " 20180105,\n",
       " 20180105,\n",
       " 20180105,\n",
       " 20180105,\n",
       " 20180105,\n",
       " 20180105,\n",
       " 20180105,\n",
       " 20180105,\n",
       " 20180105,\n",
       " 20180105,\n",
       " 20180105,\n",
       " 20180105,\n",
       " 20180105,\n",
       " 20180105,\n",
       " 20180105,\n",
       " 20180105,\n",
       " 20180105,\n",
       " 20180105,\n",
       " 20180105,\n",
       " 20180105,\n",
       " 20180105,\n",
       " 20180105,\n",
       " 20180105,\n",
       " 20180105,\n",
       " 20180105,\n",
       " 20180105,\n",
       " 20180105,\n",
       " 20180105,\n",
       " 20180105,\n",
       " 20180105,\n",
       " 20180105,\n",
       " 20180105,\n",
       " 20180105,\n",
       " 20180105,\n",
       " 20180105,\n",
       " 20180105,\n",
       " 20180105,\n",
       " 20180105,\n",
       " 20180105,\n",
       " 20180105,\n",
       " 20180105,\n",
       " 20180105,\n",
       " 20180105,\n",
       " 20180105,\n",
       " 20180105,\n",
       " 20180105,\n",
       " 20180105,\n",
       " 20180105,\n",
       " 20180105,\n",
       " 20180105,\n",
       " 20180105,\n",
       " 20180105,\n",
       " 20180105,\n",
       " 20180105,\n",
       " 20180105,\n",
       " 20180105,\n",
       " 20180105,\n",
       " 20180105,\n",
       " 20180105,\n",
       " 20180105,\n",
       " 20180105,\n",
       " 20180105,\n",
       " 20180105,\n",
       " 20180105,\n",
       " 20180105,\n",
       " 20180105,\n",
       " 20180105,\n",
       " 20180105,\n",
       " 20180105,\n",
       " 20180105,\n",
       " 20180105,\n",
       " 20180105,\n",
       " 20180105,\n",
       " 20180105,\n",
       " 20180105,\n",
       " 20180105,\n",
       " 20180105,\n",
       " 20180105,\n",
       " 20180105,\n",
       " 20180105,\n",
       " 20180105,\n",
       " 20180105,\n",
       " 20180105,\n",
       " 20180105,\n",
       " 20180105,\n",
       " 20180105,\n",
       " 20180105,\n",
       " 20180105,\n",
       " 20180105,\n",
       " 20180105,\n",
       " 20180105,\n",
       " 20180105,\n",
       " 20180105,\n",
       " 20180105,\n",
       " 20180105,\n",
       " 20180105,\n",
       " 20180105,\n",
       " 20180105,\n",
       " 20180105,\n",
       " 20180105,\n",
       " 20180105,\n",
       " 20180105,\n",
       " 20180105,\n",
       " 20180105,\n",
       " 20180105,\n",
       " 20180105,\n",
       " 20180105,\n",
       " 20180105,\n",
       " 20180105,\n",
       " 20180105,\n",
       " 20180105,\n",
       " 20180105,\n",
       " 20180105,\n",
       " 20180105,\n",
       " 20180105,\n",
       " 20180105,\n",
       " 20180105,\n",
       " 20180105,\n",
       " 20180105,\n",
       " 20180105,\n",
       " 20180105,\n",
       " 20180105,\n",
       " 20180105,\n",
       " 20180105,\n",
       " 20180105,\n",
       " 20180105,\n",
       " 20180105,\n",
       " 20180105,\n",
       " 20180105,\n",
       " 20180105,\n",
       " 20180105,\n",
       " 20180105,\n",
       " 20180105,\n",
       " 20180105,\n",
       " 20180105,\n",
       " 20180105,\n",
       " 20180105,\n",
       " 20180105,\n",
       " 20180105,\n",
       " 20180105,\n",
       " 20180105,\n",
       " 20180105,\n",
       " 20180105,\n",
       " 20180105,\n",
       " 20180105,\n",
       " 20180105,\n",
       " 20180105,\n",
       " 20180105,\n",
       " 20180105,\n",
       " 20180105,\n",
       " 20180105,\n",
       " 20180105,\n",
       " 20180105,\n",
       " 20180105,\n",
       " 20180105,\n",
       " 20180105,\n",
       " 20180105,\n",
       " 20180105,\n",
       " 20180105,\n",
       " 20180105,\n",
       " 20180105,\n",
       " 20180105,\n",
       " 20180105,\n",
       " 20180105,\n",
       " 20180105,\n",
       " 20180105,\n",
       " 20180105,\n",
       " 20180105,\n",
       " 20180105,\n",
       " 20180105,\n",
       " 20180105,\n",
       " 20180105,\n",
       " 20180105,\n",
       " 20180105,\n",
       " 20180105,\n",
       " 20180105,\n",
       " 20180105,\n",
       " 20180105,\n",
       " 20180105,\n",
       " 20180105,\n",
       " 20180105,\n",
       " 20180105,\n",
       " 20180105,\n",
       " 20180105,\n",
       " 20180105,\n",
       " 20180105,\n",
       " 20180105,\n",
       " 20180105,\n",
       " 20180105,\n",
       " 20180105,\n",
       " 20180105,\n",
       " 20180105,\n",
       " 20180105,\n",
       " 20180105,\n",
       " 20180105,\n",
       " 20180105,\n",
       " 20180105,\n",
       " 20180105,\n",
       " 20180105,\n",
       " 20180105,\n",
       " 20180105,\n",
       " 20180105,\n",
       " 20180105,\n",
       " 20180105,\n",
       " 20180105,\n",
       " 20180105,\n",
       " 20180105,\n",
       " 20180105,\n",
       " 20180105,\n",
       " 20180105,\n",
       " 20180106,\n",
       " 20180106,\n",
       " 20180106,\n",
       " 20180106,\n",
       " 20180106,\n",
       " 20180106,\n",
       " 20180106,\n",
       " 20180106,\n",
       " 20180106,\n",
       " 20180106,\n",
       " 20180106,\n",
       " 20180106,\n",
       " 20180106,\n",
       " 20180106,\n",
       " 20180106,\n",
       " 20180106,\n",
       " 20180106,\n",
       " 20180106,\n",
       " 20180106,\n",
       " 20180106,\n",
       " 20180106,\n",
       " 20180106,\n",
       " 20180106,\n",
       " 20180106,\n",
       " 20180106,\n",
       " 20180106,\n",
       " 20180106,\n",
       " 20180106,\n",
       " 20180106,\n",
       " 20180106,\n",
       " 20180106,\n",
       " 20180106,\n",
       " 20180106,\n",
       " 20180106,\n",
       " 20180106,\n",
       " 20180106,\n",
       " 20180106,\n",
       " 20180106,\n",
       " 20180106,\n",
       " 20180106,\n",
       " 20180106,\n",
       " 20180106,\n",
       " 20180106,\n",
       " 20180106,\n",
       " 20180106,\n",
       " 20180106,\n",
       " 20180106,\n",
       " 20180106,\n",
       " 20180106,\n",
       " 20180106,\n",
       " 20180106,\n",
       " 20180106,\n",
       " 20180106,\n",
       " 20180106,\n",
       " 20180106,\n",
       " 20180106,\n",
       " 20180106,\n",
       " 20180106,\n",
       " 20180106,\n",
       " 20180106,\n",
       " 20180106,\n",
       " 20180106,\n",
       " 20180106,\n",
       " 20180106,\n",
       " 20180106,\n",
       " 20180106,\n",
       " 20180106,\n",
       " 20180106,\n",
       " 20180106,\n",
       " 20180106,\n",
       " 20180106,\n",
       " 20180106,\n",
       " 20180106,\n",
       " 20180106,\n",
       " 20180106,\n",
       " 20180106,\n",
       " 20180106,\n",
       " 20180106,\n",
       " 20180106,\n",
       " 20180106,\n",
       " 20180106,\n",
       " 20180106,\n",
       " 20180106,\n",
       " 20180106,\n",
       " 20180106,\n",
       " 20180106,\n",
       " 20180106,\n",
       " 20180106,\n",
       " 20180106,\n",
       " 20180106,\n",
       " 20180106,\n",
       " 20180106,\n",
       " 20180106,\n",
       " 20180106,\n",
       " 20180106,\n",
       " 20180106,\n",
       " 20180106,\n",
       " 20180106,\n",
       " 20180106,\n",
       " 20180106,\n",
       " 20180106,\n",
       " 20180106,\n",
       " 20180106,\n",
       " 20180106,\n",
       " 20180106,\n",
       " 20180106,\n",
       " 20180106,\n",
       " 20180106,\n",
       " 20180106,\n",
       " 20180106,\n",
       " 20180106,\n",
       " 20180106,\n",
       " 20180106,\n",
       " 20180106,\n",
       " 20180106,\n",
       " 20180106,\n",
       " 20180106,\n",
       " 20180106,\n",
       " 20180106,\n",
       " 20180106,\n",
       " 20180106,\n",
       " 20180106,\n",
       " 20180106,\n",
       " 20180106,\n",
       " 20180106,\n",
       " 20180106,\n",
       " 20180106,\n",
       " 20180106,\n",
       " 20180106,\n",
       " 20180106,\n",
       " 20180106,\n",
       " 20180106,\n",
       " 20180106,\n",
       " 20180106,\n",
       " 20180106,\n",
       " 20180106,\n",
       " 20180106,\n",
       " 20180106,\n",
       " 20180106,\n",
       " 20180106,\n",
       " 20180106,\n",
       " 20180106,\n",
       " 20180106,\n",
       " 20180106,\n",
       " 20180106,\n",
       " 20180106,\n",
       " 20180106,\n",
       " 20180106,\n",
       " 20180106,\n",
       " 20180106,\n",
       " 20180106,\n",
       " 20180106,\n",
       " 20180106,\n",
       " 20180106,\n",
       " 20180106,\n",
       " 20180106,\n",
       " 20180106,\n",
       " 20180106,\n",
       " 20180106,\n",
       " 20180106,\n",
       " 20180106,\n",
       " 20180106,\n",
       " 20180106,\n",
       " 20180106,\n",
       " 20180106,\n",
       " 20180106,\n",
       " 20180106,\n",
       " 20180106,\n",
       " 20180106,\n",
       " 20180106,\n",
       " 20180106,\n",
       " 20180106,\n",
       " 20180106,\n",
       " 20180106,\n",
       " 20180106,\n",
       " 20180106,\n",
       " 20180106,\n",
       " 20180106,\n",
       " 20180106,\n",
       " 20180106,\n",
       " 20180106,\n",
       " 20180106,\n",
       " 20180106,\n",
       " 20180106,\n",
       " 20180106,\n",
       " 20180106,\n",
       " 20180106,\n",
       " 20180106,\n",
       " 20180106,\n",
       " 20180106,\n",
       " 20180106,\n",
       " 20180106,\n",
       " 20180106,\n",
       " 20180106,\n",
       " 20180106,\n",
       " 20180106,\n",
       " 20180106,\n",
       " 20180106,\n",
       " 20180106,\n",
       " 20180106,\n",
       " 20180106,\n",
       " 20180106,\n",
       " 20180106,\n",
       " 20180106,\n",
       " 20180106,\n",
       " 20180106,\n",
       " 20180106,\n",
       " 20180106,\n",
       " 20180106,\n",
       " 20180106,\n",
       " 20180106,\n",
       " 20180106,\n",
       " 20180106,\n",
       " 20180106,\n",
       " 20180106,\n",
       " 20180106,\n",
       " 20180106,\n",
       " 20180106,\n",
       " 20180106,\n",
       " 20180106,\n",
       " 20180106,\n",
       " 20180106,\n",
       " 20180106,\n",
       " 20180106,\n",
       " 20180106,\n",
       " 20180106,\n",
       " 20180106,\n",
       " 20180106,\n",
       " 20180106,\n",
       " 20180106,\n",
       " 20180106,\n",
       " 20180106,\n",
       " 20180106,\n",
       " 20180106,\n",
       " 20180106,\n",
       " 20180106,\n",
       " 20180106,\n",
       " 20180106,\n",
       " 20180106,\n",
       " 20180106,\n",
       " 20180106,\n",
       " 20180106,\n",
       " 20180106,\n",
       " 20180106,\n",
       " 20180106,\n",
       " 20180106,\n",
       " 20180106,\n",
       " 20180106,\n",
       " 20180106,\n",
       " 20180106,\n",
       " 20180106,\n",
       " 20180106,\n",
       " 20180106,\n",
       " 20180106,\n",
       " 20180106,\n",
       " 20180106,\n",
       " 20180106,\n",
       " 20180106,\n",
       " 20180106,\n",
       " 20180106,\n",
       " 20180106,\n",
       " 20180106,\n",
       " 20180106,\n",
       " 20180106,\n",
       " 20180106,\n",
       " 20180106,\n",
       " 20180106,\n",
       " 20180106,\n",
       " 20180106,\n",
       " 20180106,\n",
       " 20180106,\n",
       " 20180106,\n",
       " 20180106,\n",
       " 20180106,\n",
       " 20180106,\n",
       " 20180106,\n",
       " 20180106,\n",
       " 20180106,\n",
       " 20180106,\n",
       " 20180106,\n",
       " 20180106,\n",
       " 20180106,\n",
       " 20180106,\n",
       " 20180106,\n",
       " 20180106,\n",
       " 20180106,\n",
       " 20180106,\n",
       " 20180106,\n",
       " 20180106,\n",
       " 20180106,\n",
       " 20180106,\n",
       " 20180107,\n",
       " 20180107,\n",
       " 20180107,\n",
       " 20180107,\n",
       " 20180107,\n",
       " 20180107,\n",
       " 20180107,\n",
       " 20180107,\n",
       " 20180107,\n",
       " 20180107,\n",
       " 20180107,\n",
       " 20180107,\n",
       " 20180107,\n",
       " 20180107,\n",
       " 20180107,\n",
       " 20180107,\n",
       " 20180107,\n",
       " 20180107,\n",
       " 20180107,\n",
       " 20180107,\n",
       " 20180107,\n",
       " 20180107,\n",
       " 20180107,\n",
       " 20180107,\n",
       " 20180107,\n",
       " 20180107,\n",
       " 20180107,\n",
       " 20180107,\n",
       " 20180107,\n",
       " 20180107,\n",
       " 20180107,\n",
       " 20180107,\n",
       " 20180107,\n",
       " 20180107,\n",
       " 20180107,\n",
       " 20180107,\n",
       " 20180107,\n",
       " 20180107,\n",
       " 20180107,\n",
       " 20180107,\n",
       " 20180107,\n",
       " 20180107,\n",
       " 20180107,\n",
       " 20180107,\n",
       " 20180107,\n",
       " 20180107,\n",
       " 20180107,\n",
       " 20180107,\n",
       " 20180107,\n",
       " 20180107,\n",
       " 20180107,\n",
       " 20180107,\n",
       " 20180107,\n",
       " 20180107,\n",
       " 20180107,\n",
       " 20180107,\n",
       " 20180107,\n",
       " 20180107,\n",
       " 20180107,\n",
       " 20180107,\n",
       " 20180107,\n",
       " 20180107,\n",
       " 20180107,\n",
       " 20180107,\n",
       " 20180107,\n",
       " 20180107,\n",
       " 20180107,\n",
       " 20180107,\n",
       " 20180107,\n",
       " 20180107,\n",
       " 20180107,\n",
       " 20180107,\n",
       " 20180107,\n",
       " 20180107,\n",
       " 20180107,\n",
       " 20180107,\n",
       " 20180107,\n",
       " 20180107,\n",
       " 20180107,\n",
       " 20180107,\n",
       " 20180107,\n",
       " 20180107,\n",
       " 20180107,\n",
       " 20180107,\n",
       " 20180107,\n",
       " 20180107,\n",
       " 20180107,\n",
       " 20180107,\n",
       " 20180107,\n",
       " 20180107,\n",
       " 20180107,\n",
       " 20180107,\n",
       " 20180107,\n",
       " 20180107,\n",
       " 20180107,\n",
       " 20180107,\n",
       " 20180107,\n",
       " 20180107,\n",
       " 20180107,\n",
       " 20180107,\n",
       " 20180107,\n",
       " 20180107,\n",
       " 20180107,\n",
       " 20180107,\n",
       " 20180107,\n",
       " 20180107,\n",
       " 20180107,\n",
       " 20180107,\n",
       " 20180107,\n",
       " 20180107,\n",
       " 20180107,\n",
       " 20180107,\n",
       " 20180107,\n",
       " 20180107,\n",
       " 20180107,\n",
       " 20180107,\n",
       " 20180107,\n",
       " 20180107,\n",
       " 20180107,\n",
       " 20180107,\n",
       " 20180107,\n",
       " 20180107,\n",
       " 20180107,\n",
       " 20180107,\n",
       " 20180107,\n",
       " 20180107,\n",
       " 20180107,\n",
       " 20180107,\n",
       " 20180107,\n",
       " 20180107,\n",
       " 20180107,\n",
       " 20180107,\n",
       " 20180107,\n",
       " 20180107,\n",
       " 20180107,\n",
       " 20180107,\n",
       " 20180107,\n",
       " 20180107,\n",
       " 20180107,\n",
       " 20180107,\n",
       " 20180107,\n",
       " 20180107,\n",
       " 20180107,\n",
       " 20180107,\n",
       " 20180107,\n",
       " 20180107,\n",
       " 20180107,\n",
       " 20180107,\n",
       " 20180107,\n",
       " 20180107,\n",
       " 20180107,\n",
       " 20180107,\n",
       " 20180107,\n",
       " 20180107,\n",
       " 20180107,\n",
       " 20180107,\n",
       " 20180107,\n",
       " 20180107,\n",
       " 20180107,\n",
       " 20180107,\n",
       " 20180107,\n",
       " 20180107,\n",
       " 20180107,\n",
       " ...]"
      ]
     },
     "execution_count": 131,
     "metadata": {},
     "output_type": "execute_result"
    }
   ],
   "source": [
    "sorted(submit_set[\"claim_date_registered\"])"
   ]
  },
  {
   "cell_type": "code",
   "execution_count": null,
   "metadata": {},
   "outputs": [],
   "source": [
    "# convert binary text variables into binary: {\"Y\":1, \"N\":0}\n",
    "for i in [\"claim_liable\", \"claim_police\", \"driver_injured\"]:\n",
    "    text_to_binary(i, \"Y\", \"N\", submit_set)\n",
    "# {\"P\":1, \"N\":0}\n",
    "text_to_binary(\"claim_alcohol\", \"P\", \"N\", submit_set)\n",
    "# {\"car\":1, \"van\":0}\n",
    "text_to_binary(\"claim_vehicle_type\", \"car\", \"van\", submit_set)\n",
    "# {\"M\":1, \"F\":0}\n",
    "text_to_binary(\"policy_holder_form\", \"M\", \"F\", submit_set)\n",
    "# {\"B\":1, \"N\":0}\n",
    "text_to_binary(\"policy_holder_country\", \"B\", \"N\", submit_set)\n",
    "# make claim_lang binary (currently 1:Dutch, 2:Fr) -> 0: Dutch and 1: French\n",
    "submit_set[\"claim_language\"] = submit_set[\"claim_language\"] - 1 \n",
    "\n",
    "# add buckets for vehicle power\n",
    "submit_set[\"vpower_buckets\"] = pd.qcut(submit_set[\"claim_vehicle_power\"], 5)\n",
    "\n",
    "# add provinces based on postal code\n",
    "postal_bins = [999, 1299, 1499, 1999, 2999, 3499, 3999, 4999, 5999, 6599, 6999, 7999, 8999, 9999]\n",
    "postal_label = [\"brussel\", \"waals_brabant\", \"vlaams_brabant\", 'Antwerpen', 'vlaams_brabant', 'limburg', \n",
    "                'luik', 'namen', 'henegouwen', 'luxemburg', 'henegouwen', 'w-vlaanderen', 'o-vlaanderen']\n",
    "submit_set[\"province\"] = pd.cut(submit_set[\"claim_postal_code\"], postal_bins, labels=postal_label, ordered=False)\n",
    "\n",
    "# add feature that describes if policy holders postal code is same as claim postal code\n",
    "submit_set[\"diff_postal_code\"] = (submit_set[\"policy_holder_postal_code\"] == submit_set[\"claim_postal_code\"]).astype(float)\n",
    "\n",
    "# get dummies for cat vars\n",
    "submit_set = encode(ohe, submit_set, ['claim_cause', 'vpower_buckets', 'province'])\n",
    "#df = encode_ph_postal_code(phpc_ohe, df)\n",
    "\n",
    "# format date\n",
    "YYYYMMDD_date_columns = [\"claim_date_registered\",\n",
    "                         \"claim_date_occured\"]\n",
    "for i in YYYYMMDD_date_columns:\n",
    "    submit_set[i] = pd.to_datetime(submit_set[i], format=\"%Y%m%d\")\n",
    "\n",
    "# remove extreme value\n",
    "submit_set[\"claim_vehicle_date_inuse\"].replace(to_replace=270505.0, value= np.nan, inplace=True)\n",
    "\n",
    "YYYYMM_columns = [\"claim_vehicle_date_inuse\", \n",
    "                  \"policy_date_start\",\n",
    "                  \"policy_date_next_expiry\",\n",
    "                  \"policy_date_last_renewed\"]\n",
    "for i in YYYYMM_columns:\n",
    "    submit_set[i] = pd.to_datetime(submit_set[i], format=\"%Y%m\")"
   ]
  },
  {
   "cell_type": "code",
   "execution_count": null,
   "metadata": {},
   "outputs": [],
   "source": [
    "# Add the extra features just like we did for the training set\n",
    "submit_set = add_extra_features(submit_set)"
   ]
  },
  {
   "cell_type": "code",
   "execution_count": null,
   "metadata": {},
   "outputs": [],
   "source": [
    "# Hide the claim_id column as index so that it's not used as covariate for the prediction, but we can recover\n",
    "# it later as we need claim_id in the output .csv file\n",
    "submit_set = submit_set.set_index('claim_id')\n",
    "#df = df[X_train.drop(columns=[\"claim_amount\"]).columns]\n",
    "submit_set = submit_set[X_train.columns]\n"
   ]
  },
  {
   "cell_type": "code",
   "execution_count": null,
   "metadata": {},
   "outputs": [],
   "source": [
    "submit_set.isna().sum()"
   ]
  },
  {
   "cell_type": "code",
   "execution_count": null,
   "metadata": {},
   "outputs": [],
   "source": [
    "submit_set.to_csv('submit.csv')"
   ]
  },
  {
   "cell_type": "code",
   "execution_count": null,
   "metadata": {},
   "outputs": [],
   "source": [
    "import urllib.request\n",
    "import json\n",
    "import os\n",
    "import ssl\n",
    "\n",
    "def allowSelfSignedHttps(allowed):\n",
    "    # bypass the server certificate verification on client side\n",
    "    if allowed and not os.environ.get('PYTHONHTTPSVERIFY', '') and getattr(ssl, '_create_unverified_context', None):\n",
    "        ssl._create_default_https_context = ssl._create_unverified_context\n",
    "\n",
    "allowSelfSignedHttps(True) # this line is needed if you use self-signed certificate in your scoring service.\n",
    "\n",
    "data = {\n",
    "    \"data\":\n",
    "    [\n",
    "        {\n",
    "            'Column2': \"example_value\",\n",
    "            'claim_liable': \"0\",\n",
    "            'claim_num_injured': \"0\",\n",
    "            'claim_num_third_parties': \"0\",\n",
    "            'claim_num_vehicles': \"0\",\n",
    "            'claim_police': \"0\",\n",
    "            'claim_language': \"0\",\n",
    "            'claim_vehicle_type': \"0\",\n",
    "            'policy_holder_form': \"0\",\n",
    "            'policy_holder_country': \"0\",\n",
    "            'policy_num_changes': \"0\",\n",
    "            'policy_num_claims': \"0\",\n",
    "            'policy_premium_100': \"0\",\n",
    "            'policy_coverage_1000': \"0\",\n",
    "            'diff_postal_code': \"0\",\n",
    "            'claim_cause_animal': \"0\",\n",
    "            'claim_cause_fire': \"0\",\n",
    "            'claim_cause_other': \"0\",\n",
    "            'claim_cause_theft': \"0\",\n",
    "            'claim_cause_traffic accident': \"0\",\n",
    "            'claim_cause_vandalism': \"0\",\n",
    "            'claim_cause_weather': \"0\",\n",
    "            'claim_cause_windows': \"0\",\n",
    "            'vpower_buckets_(-0.001, 55.0]': \"0\",\n",
    "            'vpower_buckets_(55.0, 66.0]': \"0\",\n",
    "            'vpower_buckets_(66.0, 81.0]': \"0\",\n",
    "            'vpower_buckets_(81.0, 100.0]': \"0\",\n",
    "            'vpower_buckets_(100.0, 426.0]': \"0\",\n",
    "            'vpower_buckets_nan': \"0\",\n",
    "            'province_Antwerpen': \"0\",\n",
    "            'province_brussel': \"0\",\n",
    "            'province_henegouwen': \"0\",\n",
    "            'province_limburg': \"0\",\n",
    "            'province_luik': \"0\",\n",
    "            'province_luxemburg': \"0\",\n",
    "            'province_namen': \"0\",\n",
    "            'province_o-vlaanderen': \"0\",\n",
    "            'province_vlaams_brabant': \"0\",\n",
    "            'province_w-vlaanderen': \"0\",\n",
    "            'province_waals_brabant': \"1\",\n",
    "            'claim_vehicle_id_count': \"0\",\n",
    "            'policy_holder_id_count': \"0\",\n",
    "            'driver_id_count': \"0\",\n",
    "            'driver_vehicle_id_count': \"0\",\n",
    "            'third_party_1_id_count': \"0\",\n",
    "            'third_party_1_vehicle_id_count': \"0\",\n",
    "            'blacklisted_expert_id': \"false\",\n",
    "            'policy_holder_age': \"0\",\n",
    "            'pct1': \"0\",\n",
    "            'pct2': \"0\",\n",
    "            'pct3': \"0\",\n",
    "            'pct4': \"0\",\n",
    "            'pct5': \"0\",\n",
    "            'pct6': \"0\",\n",
    "            'pct7': \"0\",\n",
    "            'pct8': \"0\",\n",
    "            'pct9': \"0\",\n",
    "        },\n",
    "    ],\n",
    "}\n",
    "\n",
    "body = str.encode(json.dumps(data))\n",
    "\n",
    "url = 'http://be62a776-8b23-41b0-a6d2-0f61a6e64323.francecentral.azurecontainer.io/score'\n",
    "api_key = '' # Replace this with the API key for the web service\n",
    "headers = {'Content-Type':'application/json', 'Authorization':('Bearer '+ api_key)}\n",
    "\n",
    "req = urllib.request.Request(url, body, headers)\n",
    "\n",
    "try:\n",
    "    response = urllib.request.urlopen(req)\n",
    "\n",
    "    result = response.read()\n",
    "    print(result)\n",
    "except urllib.error.HTTPError as error:\n",
    "    print(\"The request failed with status code: \" + str(error.code))\n",
    "\n",
    "    # Print the headers - they include the requert ID and the timestamp, which are useful for debugging the failure\n",
    "    print(error.info())\n",
    "    print(json.loads(error.read().decode(\"utf8\", 'ignore')))"
   ]
  },
  {
   "cell_type": "code",
   "execution_count": null,
   "metadata": {},
   "outputs": [],
   "source": [
    "# impute remaining missing values with mode or mean on train set\n",
    "# here it could potentially make sense to include a third category (i.e. missing), although this would be a small cat\n",
    "\n",
    "# mode\n",
    "submit_set[\"claim_language\"].fillna(train_lang_mode, inplace=True)\n",
    "submit_set[\"claim_vehicle_type\"].fillna(train_vtype_mode, inplace=True)\n",
    "\n",
    "# mean\n",
    "submit_set[\"policy_premium_100\"].fillna(train_premium_mean, inplace=True)\n",
    "submit_set[\"policy_coverage_1000\"].fillna(train_coverage_mean, inplace=True)\n",
    "submit_set[\"policy_holder_age\"].fillna(train_policy_holder_mean_age, inplace=True)"
   ]
  },
  {
   "cell_type": "code",
   "execution_count": null,
   "metadata": {},
   "outputs": [],
   "source": [
    "assert submit_set.isna().sum().sum() == 0"
   ]
  },
  {
   "cell_type": "code",
   "execution_count": null,
   "metadata": {},
   "outputs": [],
   "source": [
    "# While we don't have a model yet to predict claim_amount, set it to 0.0\n",
    "# TODO: Replace this with the predicted response variable of the regression model on the submission set.\n",
    "#df['claim_amount'] = model2.predict(df)"
   ]
  },
  {
   "cell_type": "code",
   "execution_count": null,
   "metadata": {},
   "outputs": [],
   "source": [
    "submit_scaled = scaler.transform(submit_set)"
   ]
  },
  {
   "cell_type": "code",
   "execution_count": null,
   "metadata": {},
   "outputs": [],
   "source": [
    "submit_not_scaled = submit_set.copy()"
   ]
  },
  {
   "cell_type": "code",
   "execution_count": null,
   "metadata": {},
   "outputs": [],
   "source": [
    "# final submission set initialization\n",
    "submission = submit_set.reset_index()[['claim_id']]"
   ]
  },
  {
   "cell_type": "code",
   "execution_count": null,
   "metadata": {},
   "outputs": [],
   "source": [
    "# for logistic regression\n",
    "submission[\"prediction\"] = clf.predict_proba(submit_scaled)[:,1]"
   ]
  },
  {
   "cell_type": "code",
   "execution_count": null,
   "metadata": {},
   "outputs": [],
   "source": [
    "# for logistic regression with SMOTE\n",
    "submission[\"prediction\"] = clf_resampled.predict_proba(submit_scaled)[:,1]"
   ]
  },
  {
   "cell_type": "code",
   "execution_count": null,
   "metadata": {},
   "outputs": [],
   "source": [
    "# for rf with SMOTE\n",
    "submission[\"prediction\"] = rf.predict_proba(submit_not_scaled)[:,1]"
   ]
  },
  {
   "cell_type": "code",
   "execution_count": null,
   "metadata": {},
   "outputs": [],
   "source": [
    "# for balanced random forest\n",
    "submission[\"prediction\"] = bclf.predict_proba(submit_not_scaled)[:,1]"
   ]
  },
  {
   "cell_type": "code",
   "execution_count": null,
   "metadata": {},
   "outputs": [],
   "source": [
    "# for xgb\n",
    "submit_not_scaled.iloc[:,-9:] = submit_not_scaled.iloc[:,-9:].astype(float)\n",
    "submission[\"prediction\"] = xgb_clf.predict_proba(submit_not_scaled)[:,1]"
   ]
  },
  {
   "cell_type": "code",
   "execution_count": null,
   "metadata": {},
   "outputs": [],
   "source": [
    "# for cost-sensitive xgb\n",
    "submit_not_scaled.iloc[:,-9:] = submit_not_scaled.iloc[:,-9:].astype(float)\n",
    "submission[\"prediction\"] = xgb_clf.predict_proba(np.asarray(submit_not_scaled))[:,1]"
   ]
  },
  {
   "cell_type": "code",
   "execution_count": null,
   "metadata": {},
   "outputs": [],
   "source": [
    "# for cost-sensitive ann\n",
    "submission[\"prediction\"] = clf.predict(np.asarray(submit_not_scaled).astype(np.float32), verbose=1)"
   ]
  },
  {
   "cell_type": "code",
   "execution_count": null,
   "metadata": {},
   "outputs": [],
   "source": [
    "# for randomsearch xgb\n",
    "submit_not_scaled.iloc[:,-9:] = submit_not_scaled.iloc[:,-9:].astype(float)\n",
    "submission[\"PROB\"] = xgb_search.predict_proba(np.asarray(submit_not_scaled))[:,1]"
   ]
  },
  {
   "cell_type": "code",
   "execution_count": null,
   "metadata": {},
   "outputs": [],
   "source": [
    "submission.columns = [\"ID\", \"PROB\"]"
   ]
  },
  {
   "cell_type": "code",
   "execution_count": null,
   "metadata": {},
   "outputs": [],
   "source": [
    "submission.head()"
   ]
  },
  {
   "cell_type": "code",
   "execution_count": null,
   "metadata": {},
   "outputs": [],
   "source": [
    "submission.to_csv(\"submission_V0.53.csv\", sep=',', index=False)"
   ]
  }
 ],
 "metadata": {
  "kernelspec": {
   "display_name": "Python [conda env:sust_iot]",
   "language": "python",
   "name": "conda-env-sust_iot-py"
  },
  "language_info": {
   "codemirror_mode": {
    "name": "ipython",
    "version": 3
   },
   "file_extension": ".py",
   "mimetype": "text/x-python",
   "name": "python",
   "nbconvert_exporter": "python",
   "pygments_lexer": "ipython3",
   "version": "3.9.4"
  }
 },
 "nbformat": 4,
 "nbformat_minor": 5
}
